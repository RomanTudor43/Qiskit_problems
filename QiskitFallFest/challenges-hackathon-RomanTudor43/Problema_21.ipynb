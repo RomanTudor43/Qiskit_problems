{
 "cells": [
  {
   "cell_type": "markdown",
   "id": "e7381ad4-e238-4840-91f8-c93091ebf8d0",
   "metadata": {
    "deletable": false,
    "editable": false,
    "nbgrader": {
     "cell_type": "markdown",
     "checksum": "80a0896d95ed1f6e704533f9cd1d6a95",
     "grade": false,
     "grade_id": "cell-0956bb504cc8d134",
     "locked": true,
     "schema_version": 3,
     "solution": false,
     "task": false
    }
   },
   "source": [
    "#### PROBLEMA 21\n",
    "    Write a function transform_to_basis(input_state, new_basis) that transforms a quantum state vector from the computational basis to a specified new basis, which is given by a list of its eigenvectors The function should:\n",
    "        - Verify that the vectors in the list new_basis are orthonormal; if not, raise an error with the message 'new basis is not orthonormal'.\n",
    "        - Transform the input_state into the new_basis using the provided eigenvectors.\n",
    "        - Return the transformed state vector in the new basis as an array\n",
    "    Note: Be aware that the eigenvectors are obtained starting from some observables, using the specific function in numpy. Thus, the order of the eigenvectors could be reversed than the normal way of writing transformation matrices (we will use common ones)\n"
   ]
  },
  {
   "cell_type": "code",
   "execution_count": null,
   "id": "ef297ba2-fbd7-428d-8d2d-12538375705c",
   "metadata": {
    "deletable": false,
    "editable": false,
    "nbgrader": {
     "cell_type": "code",
     "checksum": "247d8480362b7ce35e5f044d2a4aad7e",
     "grade": false,
     "grade_id": "cell-43bacc30d5710645",
     "locked": true,
     "schema_version": 3,
     "solution": false,
     "task": false
    }
   },
   "outputs": [],
   "source": [
    "!pip install numpy\n",
    "!pip install qiskit\n",
    "!pip install qiskit_aer"
   ]
  },
  {
   "cell_type": "code",
   "execution_count": null,
   "id": "01590041-a37a-47ab-bf49-a614649f87c8",
   "metadata": {
    "deletable": false,
    "nbgrader": {
     "cell_type": "code",
     "checksum": "7f98fc6bfd964e3bd2948cfc6c11b6b0",
     "grade": false,
     "grade_id": "cell-23ecb95c4768ff1d",
     "locked": false,
     "schema_version": 3,
     "solution": true,
     "task": false
    }
   },
   "outputs": [],
   "source": [
    "import numpy as np\n",
    "\n",
    "def transform_to_basis(input_state, new_basis):\n",
    "    # YOUR CODE HERE\n",
    "    raise NotImplementedError()"
   ]
  },
  {
   "cell_type": "code",
   "execution_count": null,
   "id": "e2a08831-3ef5-49d0-8a0d-c1a25c515dd0",
   "metadata": {
    "deletable": false,
    "editable": false,
    "nbgrader": {
     "cell_type": "code",
     "checksum": "cbfe25c8c3c7e059578c1ff4901f9820",
     "grade": true,
     "grade_id": "cell-5a4717b494b4ccff",
     "locked": true,
     "points": 10,
     "schema_version": 3,
     "solution": false,
     "task": false
    }
   },
   "outputs": [],
   "source": [
    "exp1 = [1., 0.]\n",
    "state1 = np.array([1/np.sqrt(2), 1/np.sqrt(2)])\n",
    "basis_matrix1 = np.linalg.eig(np.array([[0, 1], [1, 0]]))[1]\n",
    "out1 = transform_to_basis(state1, basis_matrix1)\n",
    "assert np.allclose(exp1, out1), f\"Test failed\""
   ]
  },
  {
   "cell_type": "code",
   "execution_count": null,
   "id": "f58fdf77-586c-4af9-a270-36b90ad0e723",
   "metadata": {
    "deletable": false,
    "editable": false,
    "nbgrader": {
     "cell_type": "code",
     "checksum": "969a290105bf03878a639c9a359908f3",
     "grade": true,
     "grade_id": "cell-e800a91f452a6864",
     "locked": true,
     "points": 18,
     "schema_version": 3,
     "solution": false,
     "task": false
    }
   },
   "outputs": [],
   "source": []
  },
  {
   "cell_type": "code",
   "execution_count": null,
   "id": "c90e40a3-4384-49bf-aad9-80eda0391898",
   "metadata": {
    "deletable": false,
    "editable": false,
    "nbgrader": {
     "cell_type": "code",
     "checksum": "7bd195504548891bd6612f88aad7ec04",
     "grade": true,
     "grade_id": "cell-e2f5b25709e4b452",
     "locked": true,
     "points": 18,
     "schema_version": 3,
     "solution": false,
     "task": false
    }
   },
   "outputs": [],
   "source": []
  },
  {
   "cell_type": "code",
   "execution_count": null,
   "id": "0e1dfc46-175c-46ca-8fe2-cff90e56f105",
   "metadata": {
    "deletable": false,
    "editable": false,
    "nbgrader": {
     "cell_type": "code",
     "checksum": "81dc70b6c358316b4ecc92dd9a69215b",
     "grade": true,
     "grade_id": "cell-e4a9e1e98bb48561",
     "locked": true,
     "points": 18,
     "schema_version": 3,
     "solution": false,
     "task": false
    }
   },
   "outputs": [],
   "source": []
  },
  {
   "cell_type": "code",
   "execution_count": null,
   "id": "e93559a2-8c46-4ed3-8b78-8563a076d357",
   "metadata": {
    "deletable": false,
    "editable": false,
    "nbgrader": {
     "cell_type": "code",
     "checksum": "963306c3047adecd383c012100ef558a",
     "grade": true,
     "grade_id": "cell-0e233890adeaf171",
     "locked": true,
     "points": 18,
     "schema_version": 3,
     "solution": false,
     "task": false
    }
   },
   "outputs": [],
   "source": []
  },
  {
   "cell_type": "code",
   "execution_count": null,
   "id": "60293c65-28b2-4897-b725-cff68a25e5ce",
   "metadata": {
    "deletable": false,
    "editable": false,
    "nbgrader": {
     "cell_type": "code",
     "checksum": "4661df5a87621f3ca260fb891b35b0db",
     "grade": true,
     "grade_id": "cell-2b6d57cff01d7f21",
     "locked": true,
     "points": 18,
     "schema_version": 3,
     "solution": false,
     "task": false
    }
   },
   "outputs": [],
   "source": []
  }
 ],
 "metadata": {
  "kernelspec": {
   "display_name": "Python 3 (ipykernel)",
   "language": "python",
   "name": "python3"
  },
  "language_info": {
   "codemirror_mode": {
    "name": "ipython",
    "version": 3
   },
   "file_extension": ".py",
   "mimetype": "text/x-python",
   "name": "python",
   "nbconvert_exporter": "python",
   "pygments_lexer": "ipython3",
   "version": "3.10.11"
  }
 },
 "nbformat": 4,
 "nbformat_minor": 5
}
