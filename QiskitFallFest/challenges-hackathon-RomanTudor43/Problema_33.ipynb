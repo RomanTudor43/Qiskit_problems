{
 "cells": [
  {
   "cell_type": "markdown",
   "id": "9706d9bd-ebe6-46bf-8dcb-98444c12ca7e",
   "metadata": {
    "deletable": false,
    "editable": false,
    "nbgrader": {
     "cell_type": "markdown",
     "checksum": "70dcc1ac9885baa944f419f869a82ef0",
     "grade": false,
     "grade_id": "cell-036174e1102e949e",
     "locked": true,
     "schema_version": 3,
     "solution": false,
     "task": false
    }
   },
   "source": [
    "# Grover's Algorithm\n",
    "**Challenge:**\n",
    "\n",
    "> Implement a function ```grovers_algorithm(target_state, seed)``` that constructs a quantum circuit to perform Grover's search algorithm and returns the result.\n",
    "\n",
    "**Details:**\n",
    "\n",
    "1. Initialize the Circuit: Create a quantum circuit with enough qubits to represent the search space and an additional qubit for the ancilla.\n",
    "2. Apply Hadamard Gates: Place all qubits into a superposition state by applying Hadamard gates.\n",
    "3. Oracle Implementation: Create an oracle that flips the amplitude of the target state. This can be done using a multi-controlled Toffoli gate.\n",
    "4. Diffusion Operator: Apply the diffusion operator to amplify the probability of the target state.\n",
    "5. Iteration: Repeat the application of the oracle and diffusion operator √N times (where N is the number of states).\n",
    "6. Measurement: Measure the qubits to find the target state."
   ]
  },
  {
   "cell_type": "code",
   "execution_count": null,
   "id": "d152118f-d484-4102-b073-68a83f382445",
   "metadata": {},
   "outputs": [],
   "source": [
    "!pip install qiskit[visualization]\n",
    "!pip install qiskit-aer\n",
    "!pip install numpy\n",
    "!pip install classiq"
   ]
  },
  {
   "cell_type": "code",
   "execution_count": null,
   "id": "3a126220-359b-488a-8d82-cf05b7a78eaa",
   "metadata": {
    "deletable": false,
    "editable": false,
    "nbgrader": {
     "cell_type": "code",
     "checksum": "494bc96a70843f63846d5ff140a5b1b2",
     "grade": false,
     "grade_id": "cell-0ea2437c74240ac0",
     "locked": true,
     "schema_version": 3,
     "solution": false,
     "task": false
    }
   },
   "outputs": [],
   "source": [
    "from qiskit import QuantumCircuit, transpile\n",
    "from qiskit_aer import Aer\n",
    "from qiskit.visualization import plot_histogram\n",
    "import numpy as np\n",
    "from classiq import *"
   ]
  },
  {
   "cell_type": "code",
   "execution_count": null,
   "id": "0b40c586-6f11-4f32-b9a2-ef866a572c6a",
   "metadata": {
    "deletable": false,
    "nbgrader": {
     "cell_type": "code",
     "checksum": "c2f3d4cc68350e5c3f1425d24547989a",
     "grade": false,
     "grade_id": "cell-d0e9f36ca1f53481",
     "locked": false,
     "schema_version": 3,
     "solution": true,
     "task": false
    }
   },
   "outputs": [],
   "source": [
    "def grovers_algorithm(target_state, seed):\n",
    "    # Initialize the circuit\n",
    "    # YOUR CODE HERE\n",
    "    raise NotImplementedError()\n",
    "    \n",
    "    # Oracle implementation\n",
    "    def apply_oracle(circuit, target_state):\n",
    "        # YOUR CODE HERE\n",
    "        raise NotImplementedError()\n",
    "    \n",
    "    # Diffusion operator\n",
    "    def apply_diffusion_operator(circuit):\n",
    "        # YOUR CODE HERE\n",
    "        raise NotImplementedError()\n",
    "    \n",
    "    # Grover iterations\n",
    "    for _ in range(int(np.sqrt(2 ** num_qubits))):\n",
    "        circuit = apply_oracle(circuit, target_state)\n",
    "        circuit = apply_diffusion_operator(circuit)\n",
    "        \n",
    "    \n",
    "    # Measurement\n",
    "    circuit.measure([0, 1, 2], [0, 1, 2])\n",
    "    backend = Aer.get_backend('qasm_simulator')\n",
    "    transpiled_circuit = transpile(circuit, backend)\n",
    "    job = backend.run(transpiled_circuit, shots=1024, seed_simulator=seed)\n",
    "    result = job.result()\n",
    "    counts = result.get_counts()\n",
    "    return counts\n",
    "    "
   ]
  },
  {
   "cell_type": "code",
   "execution_count": null,
   "id": "be4871bd-1b73-4b73-8f34-b2ebfec2911b",
   "metadata": {
    "deletable": false,
    "editable": false,
    "nbgrader": {
     "cell_type": "code",
     "checksum": "3becb000df2c1ce4c530e7431acc95b7",
     "grade": true,
     "grade_id": "cell-3f91ffc59155f87a",
     "locked": true,
     "points": 80,
     "schema_version": 3,
     "solution": false,
     "task": false
    }
   },
   "outputs": [],
   "source": [
    "\"\"\"Check that the function returns the correct output for several inputs\"\"\"\n",
    "assert grovers_algorithm('110', 42) == {'110': 983, '011': 5, '111': 7, '100': 7, '101': 9, '000': 6, '001': 3, '010': 4}"
   ]
  },
  {
   "cell_type": "code",
   "execution_count": null,
   "id": "6cd6c7a5-771b-46f0-9839-5bb32ad47692",
   "metadata": {
    "deletable": false,
    "editable": false,
    "nbgrader": {
     "cell_type": "code",
     "checksum": "55c33aefa16609b7f097c8ca11620ebb",
     "grade": true,
     "grade_id": "cell-9a916f7579924e5f",
     "locked": true,
     "points": 20,
     "schema_version": 3,
     "solution": false,
     "task": false
    }
   },
   "outputs": [],
   "source": [
    "\"\"\"Check for invalid inputs\"\"\""
   ]
  }
 ],
 "metadata": {
  "kernelspec": {
   "display_name": ".venv",
   "language": "python",
   "name": ".venv"
  },
  "language_info": {
   "codemirror_mode": {
    "name": "ipython",
    "version": 3
   },
   "file_extension": ".py",
   "mimetype": "text/x-python",
   "name": "python",
   "nbconvert_exporter": "python",
   "pygments_lexer": "ipython3",
   "version": "3.11.9"
  }
 },
 "nbformat": 4,
 "nbformat_minor": 5
}
