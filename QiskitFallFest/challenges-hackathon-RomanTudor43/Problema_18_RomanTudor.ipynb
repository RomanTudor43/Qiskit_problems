{
 "cells": [
  {
   "cell_type": "markdown",
   "id": "3df58995-9014-4001-ae67-78aa9f4669b9",
   "metadata": {
    "deletable": false,
    "editable": false,
    "nbgrader": {
     "cell_type": "markdown",
     "checksum": "d6564e3833047b8a9d3480a7dbd67ff2",
     "grade": false,
     "grade_id": "cell-a6104652165ceeb6",
     "locked": true,
     "schema_version": 3,
     "solution": false,
     "task": false
    }
   },
   "source": [
    "#### PROBLEMA 18\n",
    "    Create a function normalize_state(state_vector) that accepts an array of complex numbers representing the coefficients of an unnormalized quantum state for multiple qubits. The function should normalize the state vector such that the sum of the squared magnitudes of all coefficients equals 1, and return the normalized state vector.\n"
   ]
  },
  {
   "cell_type": "code",
   "execution_count": null,
   "id": "cefe9b58-849b-4e1c-82fc-99fe95cac307",
   "metadata": {
    "deletable": false,
    "editable": false,
    "nbgrader": {
     "cell_type": "code",
     "checksum": "44761100159354973c58e78918f1fe73",
     "grade": false,
     "grade_id": "cell-26caa2caff0e1954",
     "locked": true,
     "schema_version": 3,
     "solution": false,
     "task": false
    }
   },
   "outputs": [],
   "source": [
    "!pip install numpy\n",
    "!pip install qiskit\n",
    "!pip install qiskit_aer"
   ]
  },
  {
   "cell_type": "code",
   "execution_count": 1,
   "id": "381061bf-7ffa-44cd-b0e7-62259c31556c",
   "metadata": {
    "deletable": false,
    "nbgrader": {
     "cell_type": "code",
     "checksum": "bd23222fca31d41632e372075a1e1e50",
     "grade": false,
     "grade_id": "cell-4025a8d1d540df25",
     "locked": false,
     "schema_version": 3,
     "solution": true,
     "task": false
    }
   },
   "outputs": [],
   "source": [
    "import numpy as np\n",
    "\n",
    "def normalize_state(state_vector):\n",
    "    \n",
    "    norm = np.linalg.norm(state_vector)\n",
    "    normalized_state = state_vector / norm\n",
    "    \n",
    "    return normalized_state\n"
   ]
  },
  {
   "cell_type": "code",
   "execution_count": 2,
   "id": "217c1d84-4d5b-4252-90af-7be34f156cc0",
   "metadata": {
    "deletable": false,
    "editable": false,
    "nbgrader": {
     "cell_type": "code",
     "checksum": "d541df4cbab97d168ea4cfd456c99076",
     "grade": true,
     "grade_id": "cell-de7da6c3418485c6",
     "locked": true,
     "points": 20,
     "schema_version": 3,
     "solution": false,
     "task": false
    }
   },
   "outputs": [],
   "source": [
    "exp1 = [0.70710678, 0.70710678]\n",
    "state_vector1 = np.array([1, 1])\n",
    "out1 = normalize_state(state_vector1)\n",
    "assert np.allclose(out1, exp1), f\"Test failed\""
   ]
  },
  {
   "cell_type": "code",
   "execution_count": null,
   "id": "f2b3fa1d-1544-4122-a875-511049e03472",
   "metadata": {
    "deletable": false,
    "editable": false,
    "nbgrader": {
     "cell_type": "code",
     "checksum": "f25d6a4f9110344f790d02ef793ab7d3",
     "grade": true,
     "grade_id": "cell-e8e57d3ad41ba736",
     "locked": true,
     "points": 20,
     "schema_version": 3,
     "solution": false,
     "task": false
    }
   },
   "outputs": [],
   "source": []
  },
  {
   "cell_type": "code",
   "execution_count": null,
   "id": "103a9028-8ec2-456e-802a-fe00fe5fe3cb",
   "metadata": {
    "deletable": false,
    "editable": false,
    "nbgrader": {
     "cell_type": "code",
     "checksum": "faeb083fcfe47107294f72680408f571",
     "grade": true,
     "grade_id": "cell-b026addb94af19dd",
     "locked": true,
     "points": 20,
     "schema_version": 3,
     "solution": false,
     "task": false
    }
   },
   "outputs": [],
   "source": []
  },
  {
   "cell_type": "code",
   "execution_count": null,
   "id": "63353691-c81e-484a-ae23-c892c2420bf7",
   "metadata": {
    "deletable": false,
    "editable": false,
    "nbgrader": {
     "cell_type": "code",
     "checksum": "a60cc246867bb150dbb96a858e6d1b62",
     "grade": true,
     "grade_id": "cell-a42825c0d471c3be",
     "locked": true,
     "points": 20,
     "schema_version": 3,
     "solution": false,
     "task": false
    }
   },
   "outputs": [],
   "source": []
  },
  {
   "cell_type": "code",
   "execution_count": null,
   "id": "5a7c1f8f-3d41-4833-a9cc-1aa8b01e4cb5",
   "metadata": {
    "deletable": false,
    "editable": false,
    "nbgrader": {
     "cell_type": "code",
     "checksum": "c5d132791931ed5cca94784951c5329b",
     "grade": true,
     "grade_id": "cell-144304000fdc9fb6",
     "locked": true,
     "points": 20,
     "schema_version": 3,
     "solution": false,
     "task": false
    }
   },
   "outputs": [],
   "source": []
  }
 ],
 "metadata": {
  "kernelspec": {
   "display_name": "HEnv1",
   "language": "python",
   "name": "python3"
  },
  "language_info": {
   "codemirror_mode": {
    "name": "ipython",
    "version": 3
   },
   "file_extension": ".py",
   "mimetype": "text/x-python",
   "name": "python",
   "nbconvert_exporter": "python",
   "pygments_lexer": "ipython3",
   "version": "3.12.7"
  }
 },
 "nbformat": 4,
 "nbformat_minor": 5
}
