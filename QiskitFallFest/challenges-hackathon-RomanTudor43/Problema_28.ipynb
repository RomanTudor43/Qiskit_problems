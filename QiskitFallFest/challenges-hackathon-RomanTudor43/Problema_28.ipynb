{
 "cells": [
  {
   "cell_type": "markdown",
   "id": "167e7ed1-c452-4bd9-8e49-f37f6c00d1c8",
   "metadata": {
    "deletable": false,
    "editable": false,
    "nbgrader": {
     "cell_type": "markdown",
     "checksum": "341eb54aeaaed8a48fa0223161fb9f04",
     "grade": false,
     "grade_id": "cell-6eebbadc5916ad36",
     "locked": true,
     "schema_version": 3,
     "solution": false,
     "task": false
    }
   },
   "source": [
    "### PROBLEMA 28\n",
    "    Create a Python function xor_transform_gate(x, k, num_bits) that constructs a quantum circuit and returns a custom gate encapsulating all operations. The function should:\n",
    "1. Prepare the quantum state $∣xk⟩$ by encoding the binary representations of x and k (padded with leading zeros to match num_bits).\n",
    "2. Apply a quantum operation to transform the state $∣xk⟩$ into $∣x(xi⊕ki)⟩$, where $x_i⊕k_i$​ represents the XOR operation applied bitwise.\n",
    "3. Combine all gates into a single Qiskit matrix representation that implements and returns the transformation.\n"
   ]
  },
  {
   "cell_type": "code",
   "execution_count": null,
   "id": "bb50811c-1e8c-476c-abbb-826ab7f79aab",
   "metadata": {
    "deletable": false,
    "editable": false,
    "nbgrader": {
     "cell_type": "code",
     "checksum": "ef9b2d7134d7529d9c8ea2f1be1aa779",
     "grade": false,
     "grade_id": "cell-3b954a95381c5fde",
     "locked": true,
     "schema_version": 3,
     "solution": false,
     "task": false
    }
   },
   "outputs": [],
   "source": [
    "!pip install numpy\n",
    "!pip install qiskit\n",
    "!pip install qiskit_aer"
   ]
  },
  {
   "cell_type": "code",
   "execution_count": null,
   "id": "02ad115a-dc6f-47fe-9b37-5cf443e61dbc",
   "metadata": {
    "deletable": false,
    "nbgrader": {
     "cell_type": "code",
     "checksum": "569c076368cda033cdf7aacaf32100dc",
     "grade": false,
     "grade_id": "cell-e5422bc6ebc127f9",
     "locked": false,
     "schema_version": 3,
     "solution": true,
     "task": false
    }
   },
   "outputs": [],
   "source": [
    "import numpy as np\n",
    "from qiskit import QuantumCircuit\n",
    "from qiskit.quantum_info import Operator\n",
    "\n",
    "def xor_transform_gate(x, k, num_bits):\n",
    "    # YOUR CODE HERE\n",
    "    raise NotImplementedError()"
   ]
  },
  {
   "cell_type": "code",
   "execution_count": null,
   "id": "1add4df7-285c-447f-8eda-a9c7aeedf242",
   "metadata": {
    "deletable": false,
    "editable": false,
    "nbgrader": {
     "cell_type": "code",
     "checksum": "94b626543d02257cf267bef23dc497bf",
     "grade": true,
     "grade_id": "cell-fd819c5a44ba4125",
     "locked": true,
     "points": 25,
     "schema_version": 3,
     "solution": false,
     "task": false
    }
   },
   "outputs": [],
   "source": [
    "exp1 = [[(1+0j),0j,0j,0j,0j,0j,0j,0j,0j,0j,0j,0j,0j,0j,0j,0j,],[0j,0j,0j,0j,0j,(1+0j),0j,0j,0j,0j,0j,0j,0j,0j,0j,0j,],[0j,0j,0j,0j,0j,0j,0j,0j,0j,0j,(1+0j),0j,0j,0j,0j,0j,],[0j,0j,0j,0j,0j,0j,0j,0j,0j,0j,0j,0j,0j,0j,0j,(1+0j),],[0j,0j,0j,0j,(1+0j),0j,0j,0j,0j,0j,0j,0j,0j,0j,0j,0j,],[0j,(1+0j),0j,0j,0j,0j,0j,0j,0j,0j,0j,0j,0j,0j,0j,0j,],[0j,0j,0j,0j,0j,0j,0j,0j,0j,0j,0j,0j,0j,0j,(1+0j),0j,],[0j,0j,0j,0j,0j,0j,0j,0j,0j,0j,0j,(1+0j),0j,0j,0j,0j,],[0j,0j,0j,0j,0j,0j,0j,0j,(1+0j),0j,0j,0j,0j,0j,0j,0j,],[0j,0j,0j,0j,0j,0j,0j,0j,0j,0j,0j,0j,0j,(1+0j),0j,0j,],[0j,0j,(1+0j),0j,0j,0j,0j,0j,0j,0j,0j,0j,0j,0j,0j,0j,],[0j,0j,0j,0j,0j,0j,0j,(1+0j),0j,0j,0j,0j,0j,0j,0j,0j,],[0j,0j,0j,0j,0j,0j,0j,0j,0j,0j,0j,0j,(1+0j),0j,0j,0j,],[0j,0j,0j,0j,0j,0j,0j,0j,0j,(1+0j),0j,0j,0j,0j,0j,0j,],[0j,0j,0j,0j,0j,0j,(1+0j),0j,0j,0j,0j,0j,0j,0j,0j,0j,],[0j,0j,0j,(1+0j),0j,0j,0j,0j,0j,0j,0j,0j,0j,0j,0j,0j]]\n",
    "out1 = xor_transform_gate(3, 1, 2)\n",
    "assert np.allclose(out1, exp1), f\"Test failed\""
   ]
  },
  {
   "cell_type": "code",
   "execution_count": null,
   "id": "d5b5e1df-4469-47f7-94c9-e1c6b05238df",
   "metadata": {
    "deletable": false,
    "editable": false,
    "nbgrader": {
     "cell_type": "code",
     "checksum": "858bfe0e51dc7e7a65104740dd157645",
     "grade": true,
     "grade_id": "cell-0ca04beb5bc887f6",
     "locked": true,
     "points": 25,
     "schema_version": 3,
     "solution": false,
     "task": false
    }
   },
   "outputs": [],
   "source": []
  },
  {
   "cell_type": "code",
   "execution_count": null,
   "id": "22ede29d-a16a-4bf6-9910-c60f0a56ea95",
   "metadata": {
    "deletable": false,
    "editable": false,
    "nbgrader": {
     "cell_type": "code",
     "checksum": "c1243c64171c6783f8669094fcc51c21",
     "grade": true,
     "grade_id": "cell-df40275dcb580065",
     "locked": true,
     "points": 25,
     "schema_version": 3,
     "solution": false,
     "task": false
    }
   },
   "outputs": [],
   "source": []
  },
  {
   "cell_type": "code",
   "execution_count": null,
   "id": "5f4630d5-dd7b-4d85-980a-a0a96e729ed9",
   "metadata": {
    "deletable": false,
    "editable": false,
    "nbgrader": {
     "cell_type": "code",
     "checksum": "430e8537244892abe43d51756fc59307",
     "grade": true,
     "grade_id": "cell-ba3560fe5efbdf2f",
     "locked": true,
     "points": 25,
     "schema_version": 3,
     "solution": false,
     "task": false
    }
   },
   "outputs": [],
   "source": []
  }
 ],
 "metadata": {
  "kernelspec": {
   "display_name": "Python 3 (ipykernel)",
   "language": "python",
   "name": "python3"
  },
  "language_info": {
   "codemirror_mode": {
    "name": "ipython",
    "version": 3
   },
   "file_extension": ".py",
   "mimetype": "text/x-python",
   "name": "python",
   "nbconvert_exporter": "python",
   "pygments_lexer": "ipython3",
   "version": "3.10.11"
  }
 },
 "nbformat": 4,
 "nbformat_minor": 5
}
