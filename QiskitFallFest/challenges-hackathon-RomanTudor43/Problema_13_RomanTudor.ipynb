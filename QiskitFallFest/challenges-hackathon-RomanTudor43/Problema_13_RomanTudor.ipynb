{
 "cells": [
  {
   "cell_type": "markdown",
   "id": "c48b61e0-f0ef-4e47-8519-9ee070ba6c84",
   "metadata": {
    "deletable": false,
    "editable": false,
    "nbgrader": {
     "cell_type": "markdown",
     "checksum": "3eef57121c7c4118ce460ef79e0256bb",
     "grade": false,
     "grade_id": "cell-df15501c00918359",
     "locked": true,
     "schema_version": 3,
     "solution": false,
     "task": false
    }
   },
   "source": [
    "Write a function prepare_binary_state(a) that takes an integer a as input and creates a quantum circuit to prepare a quantum state representing the binary encoding of a. The binary representation should map qubit_0 to the most significant bit (MSB) and qubit_n to the least significant bit (LSB), with qubit_0 being the first qubit in the circuit as per standard notation. Combine all operations into a single gate and return the resulting gate as a quantum circuit.\n"
   ]
  },
  {
   "cell_type": "code",
   "execution_count": null,
   "id": "3058b5d7-9705-4256-bfa4-105261783208",
   "metadata": {
    "deletable": false,
    "editable": false,
    "nbgrader": {
     "cell_type": "code",
     "checksum": "cd6ba3c7545d134c157524239b77fea2",
     "grade": false,
     "grade_id": "cell-d1aee4930ccbca8e",
     "locked": true,
     "schema_version": 3,
     "solution": false,
     "task": false
    }
   },
   "outputs": [],
   "source": [
    "!pip install numpy\n",
    "!pip install qiskit\n",
    "!pip install qiskit_aer"
   ]
  },
  {
   "cell_type": "code",
   "execution_count": 23,
   "id": "f5463892-dca6-4336-a24f-5e3d0d80872b",
   "metadata": {
    "deletable": false,
    "nbgrader": {
     "cell_type": "code",
     "checksum": "36c03d5f432d5f4497e7ee5959ca43cc",
     "grade": false,
     "grade_id": "cell-a757ae784930caa1",
     "locked": false,
     "schema_version": 3,
     "solution": true,
     "task": false
    }
   },
   "outputs": [],
   "source": [
    "import numpy as np\n",
    "from qiskit import QuantumCircuit\n",
    "from qiskit.quantum_info import Operator\n",
    "\n",
    "def prepare_binary_state(a):\n",
    "\n",
    "    n = a.bit_length()\n",
    "    qc = QuantumCircuit(n)  # if 1 put x gate\n",
    "    for i in range(n):\n",
    "        if a>=2**(n-i-1):\n",
    "            qc.x(i)\n",
    "            a -= 2**(n-i-1)\n",
    "\n",
    "    return Operator(qc)\n"
   ]
  },
  {
   "cell_type": "code",
   "execution_count": 24,
   "id": "b646cd03-f0cb-492a-bff6-3b63d1efd7f0",
   "metadata": {
    "deletable": false,
    "editable": false,
    "nbgrader": {
     "cell_type": "code",
     "checksum": "039529cfb8574eabf7484f72e16232c1",
     "grade": true,
     "grade_id": "cell-2d3c5b5985c7ad67",
     "locked": true,
     "points": 25,
     "schema_version": 3,
     "solution": false,
     "task": false
    }
   },
   "outputs": [],
   "source": [
    "exp1 = [[0j,0j,0j,(1+0j),0j,0j,0j,0j,],[0j,0j,(1+0j),0j,0j,0j,0j,0j,],[0j,(1+0j),0j,0j,0j,0j,0j,0j,],[(1+0j),0j,0j,0j,0j,0j,0j,0j,],[0j,0j,0j,0j,0j,0j,0j,(1+0j),],[0j,0j,0j,0j,0j,0j,(1+0j),0j,],[0j,0j,0j,0j,0j,(1+0j),0j,0j,],[0j,0j,0j,0j,(1+0j),0j,0j,0j]]\n",
    "out1 = prepare_binary_state(6)\n",
    "assert np.allclose(out1, exp1), f\"Test failed\""
   ]
  },
  {
   "cell_type": "code",
   "execution_count": null,
   "id": "4ba97437-f390-40bb-939a-c3c45b8113ae",
   "metadata": {
    "deletable": false,
    "editable": false,
    "nbgrader": {
     "cell_type": "code",
     "checksum": "2f9ed72bd1ae709db135c27e4317ab08",
     "grade": true,
     "grade_id": "cell-9c511dd89c146aaa",
     "locked": true,
     "points": 25,
     "schema_version": 3,
     "solution": false,
     "task": false
    }
   },
   "outputs": [],
   "source": []
  }
 ],
 "metadata": {
  "kernelspec": {
   "display_name": "HEnv1",
   "language": "python",
   "name": "python3"
  },
  "language_info": {
   "codemirror_mode": {
    "name": "ipython",
    "version": 3
   },
   "file_extension": ".py",
   "mimetype": "text/x-python",
   "name": "python",
   "nbconvert_exporter": "python",
   "pygments_lexer": "ipython3",
   "version": "3.12.7"
  }
 },
 "nbformat": 4,
 "nbformat_minor": 5
}
