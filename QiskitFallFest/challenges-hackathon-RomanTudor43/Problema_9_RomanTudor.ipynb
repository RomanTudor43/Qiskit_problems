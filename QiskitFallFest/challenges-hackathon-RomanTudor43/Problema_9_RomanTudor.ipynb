{
 "cells": [
  {
   "cell_type": "markdown",
   "id": "a783893a-5ada-4d1e-8528-3615901d7c32",
   "metadata": {
    "deletable": false,
    "editable": false,
    "nbgrader": {
     "cell_type": "markdown",
     "checksum": "cc620c6443926d0b1a7aaf2f92685926",
     "grade": false,
     "grade_id": "cell-a74b49d049c0e880",
     "locked": true,
     "schema_version": 3,
     "solution": false,
     "task": false
    }
   },
   "source": [
    "Write a function kronecker_product(state1, state2) that computes the Kronecker product of two quantum states, each represented as a list or array of complex coefficients. The function should return the resulting combined quantum state as an array of complex coefficients.\n"
   ]
  },
  {
   "cell_type": "code",
   "execution_count": null,
   "id": "4556ab3c-9619-4220-982b-86d9cb3cff8d",
   "metadata": {
    "deletable": false,
    "editable": false,
    "nbgrader": {
     "cell_type": "code",
     "checksum": "a84e01623210dda6ed34c57eeb9b37be",
     "grade": false,
     "grade_id": "cell-930fcfcef70eece3",
     "locked": true,
     "schema_version": 3,
     "solution": false,
     "task": false
    }
   },
   "outputs": [],
   "source": [
    "!pip install numpy"
   ]
  },
  {
   "cell_type": "code",
   "execution_count": 4,
   "id": "41fae274-314f-4104-9442-ac3b8d734d64",
   "metadata": {
    "deletable": false,
    "nbgrader": {
     "cell_type": "code",
     "checksum": "541635a5fb45eb8e2093e2e197239dbf",
     "grade": false,
     "grade_id": "cell-e02eb809d484b0a4",
     "locked": false,
     "schema_version": 3,
     "solution": true,
     "task": false
    }
   },
   "outputs": [],
   "source": [
    "import numpy as np\n",
    "\n",
    "def kronecker_product(state1, state2):\n",
    "   return( np.kron(state1, state2) )\n",
    "\n",
    "\n",
    "    "
   ]
  },
  {
   "cell_type": "code",
   "execution_count": 5,
   "id": "49c4f8c2-d03e-45ba-b2a4-48fe0e438e72",
   "metadata": {
    "deletable": false,
    "editable": false,
    "nbgrader": {
     "cell_type": "code",
     "checksum": "d84e09a9c4bc5d989224702f9d1a6707",
     "grade": true,
     "grade_id": "cell-3830ed149a93f445",
     "locked": true,
     "points": 10,
     "schema_version": 3,
     "solution": false,
     "task": false
    }
   },
   "outputs": [],
   "source": [
    "exp = [0, 1, 0, 0]\n",
    "state1_1 = np.array([1, 0])\n",
    "state1_2 = np.array([0, 1])\n",
    "out = kronecker_product(state1_1, state1_2)\n",
    "assert np.allclose(exp, out), f\"Test failed\""
   ]
  },
  {
   "cell_type": "code",
   "execution_count": 6,
   "id": "9750e775-b410-4e02-87f4-1619bc56c1d4",
   "metadata": {
    "deletable": false,
    "editable": false,
    "nbgrader": {
     "cell_type": "code",
     "checksum": "7f5c34d9b4f4d7b07bbb455a83517d8d",
     "grade": true,
     "grade_id": "cell-eeaae9e4d7dbe6db",
     "locked": true,
     "points": 30,
     "schema_version": 3,
     "solution": false,
     "task": false
    }
   },
   "outputs": [
    {
     "name": "stdout",
     "output_type": "stream",
     "text": [
      "[0 1 0 0]\n"
     ]
    }
   ],
   "source": [
    "state1_1 = np.array([1, 0])\n",
    "state1_2 = np.array([0, 1])\n",
    "print( np.kron(state1_1, state1_2) )"
   ]
  },
  {
   "cell_type": "code",
   "execution_count": null,
   "id": "d076e077-a0a3-4a55-877f-4ec726c45e91",
   "metadata": {
    "deletable": false,
    "editable": false,
    "nbgrader": {
     "cell_type": "code",
     "checksum": "39d1c706cc07da9d4349d2fc169c5b28",
     "grade": true,
     "grade_id": "cell-906ae59a68f045ec",
     "locked": true,
     "points": 30,
     "schema_version": 3,
     "solution": false,
     "task": false
    }
   },
   "outputs": [],
   "source": []
  },
  {
   "cell_type": "code",
   "execution_count": null,
   "id": "565af1d4-fcbd-4490-a582-8f68b1406091",
   "metadata": {
    "deletable": false,
    "editable": false,
    "nbgrader": {
     "cell_type": "code",
     "checksum": "7c4586c3e970ca351019c0b0c0c16bac",
     "grade": true,
     "grade_id": "cell-93c428f401f199c9",
     "locked": true,
     "points": 30,
     "schema_version": 3,
     "solution": false,
     "task": false
    }
   },
   "outputs": [],
   "source": []
  }
 ],
 "metadata": {
  "kernelspec": {
   "display_name": "HEnv1",
   "language": "python",
   "name": "python3"
  },
  "language_info": {
   "codemirror_mode": {
    "name": "ipython",
    "version": 3
   },
   "file_extension": ".py",
   "mimetype": "text/x-python",
   "name": "python",
   "nbconvert_exporter": "python",
   "pygments_lexer": "ipython3",
   "version": "3.12.7"
  }
 },
 "nbformat": 4,
 "nbformat_minor": 5
}
