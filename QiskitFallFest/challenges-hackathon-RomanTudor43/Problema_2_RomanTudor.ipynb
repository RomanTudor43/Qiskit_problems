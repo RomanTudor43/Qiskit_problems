{
 "cells": [
  {
   "cell_type": "markdown",
   "id": "d18d0f46-52f4-4b15-acc6-f80ac91c8082",
   "metadata": {
    "deletable": false,
    "editable": false,
    "nbgrader": {
     "cell_type": "markdown",
     "checksum": "79a5094101e8fdaba5063db7dd3a7766",
     "grade": false,
     "grade_id": "Problem2_Task",
     "locked": true,
     "schema_version": 3,
     "solution": false,
     "task": false
    }
   },
   "source": [
    "# `create_EPRPair(input_state, shots, seed)`\n",
    "\n",
    "### Task\n",
    "Implement a function `create_EPRPair(input_state, shots, seed)` that performs the following steps:\n",
    "1. **Initialize a Single-Qubit State**: Start with the given quantum state `input_state`.\n",
    "2. **Prepare a Bell State**: Construct a quantum circuit that generates an EPR pair (Bell state $(\\left|\\Phi^+\\right\\rangle)$).\n",
    "3. **Simulate the Circuit**: Use a simulator to execute the circuit with the specified `shots` and `seed`.\n",
    "4. **Return Results**: Output the measurement results (counts).\n",
    "\n",
    "### Parameters\n",
    "- **`input_state`** (`list`): The initial quantum state vector of the single qubit (e.g., `[1, 0]` for |0⟩ or `[0, 1]` for |1⟩).\n",
    "- **`shots`** (`int`): The number of measurement shots for the simulation.\n",
    "- **`seed`** (`int`): The seed for the random number generator to ensure reproducibility.\n",
    "\n",
    "### Expected Functionality\n",
    "1. Build a quantum circuit that initializes a single qubit to `input_state`.\n",
    "2. Use the initial state as input to a circuit that implements the construction of the specified Bell State.\n",
    "3. Simulate the circuit using a quantum simulator.\n",
    "4. Return the measurement results (counts).\n"
   ]
  },
  {
   "cell_type": "code",
   "execution_count": null,
   "id": "28ed8dbd-9561-4408-b2d6-1b09c7c7bd86",
   "metadata": {
    "deletable": false,
    "editable": false,
    "jupyter": {
     "outputs_hidden": true
    },
    "nbgrader": {
     "cell_type": "code",
     "checksum": "fd14af1250c7f561dfe136fcf245a5e0",
     "grade": false,
     "grade_id": "Problem2_installation",
     "locked": true,
     "schema_version": 3,
     "solution": false,
     "task": false
    }
   },
   "outputs": [],
   "source": [
    "!pip install qiskit_aer\n",
    "!pip install qiskit"
   ]
  },
  {
   "cell_type": "code",
   "execution_count": 16,
   "id": "16f9bc31",
   "metadata": {},
   "outputs": [],
   "source": [
    "import numpy as np\n",
    "from qiskit_aer import AerSimulator\n",
    "from qiskit import QuantumCircuit, transpile\n",
    "from qiskit.quantum_info import Statevector\n",
    "from qiskit.visualization import plot_histogram, plot_state_city\n",
    "\n",
    "def normalize(v):\n",
    "    norm = np.linalg.norm(v)\n",
    "    if norm == 0: \n",
    "       return v\n",
    "    return v / norm\n",
    "\n",
    "def create_EPRPair(input_state, shots, seed):\n",
    "\n",
    "    qc = QuantumCircuit(2)\n",
    "    qc.initialize(Statevector(input_state), [0])\n",
    "    qc.h(0)\n",
    "    qc.cx(0, 1)\n",
    "    qc.measure_all()\n",
    "   \n",
    "    backend = AerSimulator()\n",
    "    \n",
    "    transpiled_qc = transpile(qc, backend)\n",
    "\n",
    "    job = backend.run(transpiled_qc, shots=shots, seed_simulator=seed)\n",
    "\n",
    "    result = job.result()\n",
    "    counts = result.get_counts(transpiled_qc)\n",
    "    print(counts)\n",
    "\n",
    "\n",
    "    return counts\n"
   ]
  },
  {
   "cell_type": "code",
   "execution_count": null,
   "id": "e51b59a6",
   "metadata": {},
   "outputs": [
    {
     "name": "stdout",
     "output_type": "stream",
     "text": [
      "{'00': 480, '11': 520}\n"
     ]
    },
    {
     "data": {
      "text/plain": [
       "{'00': 480, '11': 520}"
      ]
     },
     "execution_count": 13,
     "metadata": {},
     "output_type": "execute_result"
    }
   ],
   "source": []
  },
  {
   "cell_type": "code",
   "execution_count": 14,
   "id": "47311678-adab-4c85-bc9d-d88fd00f1914",
   "metadata": {
    "deletable": false,
    "editable": false,
    "nbgrader": {
     "cell_type": "code",
     "checksum": "c31bddca48d07a48c77fb035832dcb30",
     "grade": true,
     "grade_id": "Problem2_Test1",
     "locked": true,
     "points": 10,
     "schema_version": 3,
     "solution": false,
     "task": false
    }
   },
   "outputs": [
    {
     "name": "stdout",
     "output_type": "stream",
     "text": [
      "{'00': 480, '11': 520}\n"
     ]
    }
   ],
   "source": [
    "''' test 1 '''\n",
    "input_state = [0.6, 0.8j]\n",
    "expected_counts = {'00': 480, '11': 520}  # Expected output from the function\n",
    "counts = create_EPRPair(input_state, shots=1000, seed=10)\n",
    "assert counts == expected_counts, f\"Test failed\"\n"
   ]
  },
  {
   "cell_type": "code",
   "execution_count": null,
   "id": "3b7121bb-64c2-4d3f-b710-a6cdef370731",
   "metadata": {
    "deletable": false,
    "editable": false,
    "nbgrader": {
     "cell_type": "code",
     "checksum": "25611dd363843f984cba9e77d63c25e2",
     "grade": true,
     "grade_id": "Problem2_Test3",
     "locked": true,
     "points": 30,
     "schema_version": 3,
     "solution": false,
     "task": false
    }
   },
   "outputs": [
    {
     "data": {
      "text/html": [
       "<pre style=\"word-wrap: normal;white-space: pre;background: #fff0;line-height: 1.1;font-family: &quot;Courier New&quot;,Courier,monospace\">     ┌──────────────────────┐\n",
       "q_0: ┤ Initialize(0.6,0.8j) ├\n",
       "     └──────────────────────┘\n",
       "q_1: ────────────────────────\n",
       "                             </pre>"
      ],
      "text/plain": [
       "     ┌──────────────────────┐\n",
       "q_0: ┤ Initialize(0.6,0.8j) ├\n",
       "     └──────────────────────┘\n",
       "q_1: ────────────────────────\n",
       "                             "
      ]
     },
     "execution_count": 10,
     "metadata": {},
     "output_type": "execute_result"
    }
   ],
   "source": [
    "\n"
   ]
  }
 ],
 "metadata": {
  "kernelspec": {
   "display_name": "HEnv1",
   "language": "python",
   "name": "python3"
  },
  "language_info": {
   "codemirror_mode": {
    "name": "ipython",
    "version": 3
   },
   "file_extension": ".py",
   "mimetype": "text/x-python",
   "name": "python",
   "nbconvert_exporter": "python",
   "pygments_lexer": "ipython3",
   "version": "3.12.7"
  }
 },
 "nbformat": 4,
 "nbformat_minor": 5
}
