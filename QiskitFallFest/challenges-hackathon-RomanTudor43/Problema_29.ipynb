{
 "cells": [
  {
   "cell_type": "markdown",
   "id": "d8442efc-4ee1-4aa8-9e61-fe97c4b61f88",
   "metadata": {
    "deletable": false,
    "editable": false,
    "nbgrader": {
     "cell_type": "markdown",
     "checksum": "0276a816e589088648743fc3bee90280",
     "grade": false,
     "grade_id": "cell-ece2e2a4dfd7f4cc",
     "locked": true,
     "schema_version": 3,
     "solution": false,
     "task": false
    }
   },
   "source": [
    "### PROBLEMA 30\n",
    "    Create a function verify_orthonormality(basis_vectors) that accepts a list of basis vectors and determines whether they form an orthonormal set. The function should return True if the vectors are orthonormal; otherwise, return False"
   ]
  },
  {
   "cell_type": "code",
   "execution_count": null,
   "id": "84d1eacb-749b-42a5-ad48-edb6df472265",
   "metadata": {
    "deletable": false,
    "editable": false,
    "nbgrader": {
     "cell_type": "code",
     "checksum": "a60712d29be2138d1f42b5ab91a54b5f",
     "grade": false,
     "grade_id": "cell-eed72ae2490eac8a",
     "locked": true,
     "schema_version": 3,
     "solution": false,
     "task": false
    }
   },
   "outputs": [],
   "source": [
    "!pip install numpy\n",
    "!pip install qiskit\n",
    "!pip install qiskit_aer"
   ]
  },
  {
   "cell_type": "code",
   "execution_count": null,
   "id": "615078b5-2a47-401c-80bd-6013f66dab7d",
   "metadata": {
    "deletable": false,
    "nbgrader": {
     "cell_type": "code",
     "checksum": "0f8de7dee089d8047942c3039e9f506f",
     "grade": false,
     "grade_id": "cell-cc9a80bd967d96e0",
     "locked": false,
     "schema_version": 3,
     "solution": true,
     "task": false
    }
   },
   "outputs": [],
   "source": [
    "import numpy as np\n",
    "\n",
    "def verify_orthonormality(basis_vectors):\n",
    "    # YOUR CODE HERE\n",
    "    raise NotImplementedError()"
   ]
  },
  {
   "cell_type": "code",
   "execution_count": null,
   "id": "62c2c73d-d204-4ce0-8aba-9d92bb95da34",
   "metadata": {
    "deletable": false,
    "editable": false,
    "nbgrader": {
     "cell_type": "code",
     "checksum": "b4f5eb062148420430808e40ce10fca7",
     "grade": true,
     "grade_id": "cell-c756b41fec1eda20",
     "locked": true,
     "points": 20,
     "schema_version": 3,
     "solution": false,
     "task": false
    }
   },
   "outputs": [],
   "source": [
    "exp1 = True\n",
    "basis_vectors1 = [np.array([1, 0, 0]), np.array([0, 1, 0]), np.array([0, 0, 1])]\n",
    "out1 = verify_orthonormality(basis_vectors1)\n",
    "assert exp1 == out1, f\"Test failed\""
   ]
  },
  {
   "cell_type": "code",
   "execution_count": null,
   "id": "5735bc2a-1851-4174-b982-de911bd4f27c",
   "metadata": {
    "deletable": false,
    "editable": false,
    "nbgrader": {
     "cell_type": "code",
     "checksum": "9072008b4865d5a1a9bea1269acaa492",
     "grade": true,
     "grade_id": "cell-42c21665b31d3842",
     "locked": true,
     "points": 20,
     "schema_version": 3,
     "solution": false,
     "task": false
    }
   },
   "outputs": [],
   "source": []
  },
  {
   "cell_type": "code",
   "execution_count": null,
   "id": "f1eead7a-f5d6-4ec1-b985-228c47c06f6d",
   "metadata": {
    "deletable": false,
    "editable": false,
    "nbgrader": {
     "cell_type": "code",
     "checksum": "fff7946ea3aad050c338bb9c2768cba8",
     "grade": true,
     "grade_id": "cell-ba69e5814afbfd85",
     "locked": true,
     "points": 20,
     "schema_version": 3,
     "solution": false,
     "task": false
    }
   },
   "outputs": [],
   "source": []
  },
  {
   "cell_type": "code",
   "execution_count": null,
   "id": "4d6cb2ae-e1fb-45d6-afcd-80ddb03dc70c",
   "metadata": {
    "deletable": false,
    "editable": false,
    "nbgrader": {
     "cell_type": "code",
     "checksum": "952f59aecee374592cf35c684c7e99d7",
     "grade": true,
     "grade_id": "cell-ee941db2e6e11d65",
     "locked": true,
     "points": 20,
     "schema_version": 3,
     "solution": false,
     "task": false
    }
   },
   "outputs": [],
   "source": []
  },
  {
   "cell_type": "code",
   "execution_count": null,
   "id": "deed5d51-953a-40a1-8ebf-73c600028c60",
   "metadata": {
    "deletable": false,
    "editable": false,
    "nbgrader": {
     "cell_type": "code",
     "checksum": "13d4a5d8c44e440eeb1adc323a563c3f",
     "grade": true,
     "grade_id": "cell-aab021b81de045aa",
     "locked": true,
     "points": 20,
     "schema_version": 3,
     "solution": false,
     "task": false
    }
   },
   "outputs": [],
   "source": []
  }
 ],
 "metadata": {
  "kernelspec": {
   "display_name": "Python 3 (ipykernel)",
   "language": "python",
   "name": "python3"
  },
  "language_info": {
   "codemirror_mode": {
    "name": "ipython",
    "version": 3
   },
   "file_extension": ".py",
   "mimetype": "text/x-python",
   "name": "python",
   "nbconvert_exporter": "python",
   "pygments_lexer": "ipython3",
   "version": "3.10.11"
  }
 },
 "nbformat": 4,
 "nbformat_minor": 5
}
