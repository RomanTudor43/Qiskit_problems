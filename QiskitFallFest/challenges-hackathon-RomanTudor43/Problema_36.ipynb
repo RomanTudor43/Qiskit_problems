{
 "cells": [
  {
   "cell_type": "markdown",
   "id": "6a7c9106-dfa0-4a25-9712-8efa559d4775",
   "metadata": {
    "deletable": false,
    "editable": false,
    "nbgrader": {
     "cell_type": "markdown",
     "checksum": "43b26143eed1d0d3ef32655758427dce",
     "grade": false,
     "grade_id": "cell-630e24ce5be3fb53",
     "locked": true,
     "schema_version": 3,
     "solution": false,
     "task": false
    }
   },
   "source": [
    "# Circuit Width Optimization with Classiq\n",
    "\n",
    "**Challenge:**\n",
    "\n",
    "Implement a function ```optimize_circuit(quantum_model)``` that synthesizes two quantum circuits based on the quantum_model, one without constraints and the other one optimized such that it has minimum width. You must use the Classiq SDK and the function should return the optimized model's width and the width ratio between the two circuits: $width\\_optimized\\_circuit / width\\_simple\\_circuit$."
   ]
  },
  {
   "cell_type": "code",
   "execution_count": null,
   "id": "623fb68f-b4c3-42f0-a300-01f04778c8c6",
   "metadata": {
    "deletable": false,
    "editable": false,
    "nbgrader": {
     "cell_type": "code",
     "checksum": "cffb4029a039794f33d68e2f94973f2b",
     "grade": false,
     "grade_id": "cell-f603f4f77e9a132a",
     "locked": true,
     "schema_version": 3,
     "solution": false,
     "task": false
    }
   },
   "outputs": [],
   "source": [
    "!pip install classiq"
   ]
  },
  {
   "cell_type": "code",
   "execution_count": null,
   "id": "181d9186-3de6-488b-b423-4258bd8e13ea",
   "metadata": {
    "deletable": false,
    "editable": false,
    "nbgrader": {
     "cell_type": "code",
     "checksum": "2abf2f67025cc29780b575e36ba1fe4f",
     "grade": false,
     "grade_id": "cell-7551bba35bbccad4",
     "locked": true,
     "schema_version": 3,
     "solution": false,
     "task": false
    }
   },
   "outputs": [],
   "source": [
    "from classiq import *"
   ]
  },
  {
   "cell_type": "code",
   "execution_count": null,
   "id": "aacea4a3-f505-4f31-8a00-0f6aa007239f",
   "metadata": {
    "deletable": false,
    "nbgrader": {
     "cell_type": "code",
     "checksum": "b01aa3588c6b89f92b7927f649044d46",
     "grade": false,
     "grade_id": "cell-79db5c5dd6984661",
     "locked": false,
     "schema_version": 3,
     "solution": true,
     "task": false
    }
   },
   "outputs": [],
   "source": [
    "# Define the function for the challenge\n",
    "def optimize_circuit(quantum_model: str):\n",
    "    # Create an optimized model\n",
    "    # YOUR CODE HERE\n",
    "    raise NotImplementedError()\n",
    "    \n",
    "    # Synthesize both models into quantum programs\n",
    "    # YOUR CODE HERE\n",
    "    raise NotImplementedError()\n",
    "\n",
    "    # Compute the widths of the circuits\n",
    "    # YOUR CODE HERE\n",
    "    raise NotImplementedError()\n",
    "\n",
    "    # Compute the ratio of widths after optimization\n",
    "    # YOUR CODE HERE\n",
    "    raise NotImplementedError()\n",
    "\n",
    "    return width_opt, ratio"
   ]
  },
  {
   "cell_type": "code",
   "execution_count": null,
   "id": "469d3a1e-0435-4b38-a8b0-8bc45e0fe0d3",
   "metadata": {
    "deletable": false,
    "editable": false,
    "nbgrader": {
     "cell_type": "code",
     "checksum": "9035453d60b3f80c254a4a74273b5683",
     "grade": true,
     "grade_id": "cell-d0a61694b2602b70",
     "locked": true,
     "points": 100,
     "schema_version": 3,
     "solution": false,
     "task": false
    }
   },
   "outputs": [],
   "source": [
    "\"\"\"Check that the function returns the correct output for several inputs\"\"\"\n",
    "@qfunc\n",
    "def main(x: Output[QArray[QBit]], y: Output[QBit]):\n",
    "    allocate(12, x)\n",
    "    allocate(1, y)\n",
    "    control(ctrl=x, stmt_block=lambda: X(y))\n",
    "\n",
    "quantum_model_test = create_model(main)\n",
    "# Check the function\n",
    "width, ratio = optimize_circuit(quantum_model_test)\n"
   ]
  }
 ],
 "metadata": {
  "kernelspec": {
   "display_name": "Python 3 (ipykernel)",
   "language": "python",
   "name": "python3"
  },
  "language_info": {
   "codemirror_mode": {
    "name": "ipython",
    "version": 3
   },
   "file_extension": ".py",
   "mimetype": "text/x-python",
   "name": "python",
   "nbconvert_exporter": "python",
   "pygments_lexer": "ipython3",
   "version": "3.11.9"
  }
 },
 "nbformat": 4,
 "nbformat_minor": 5
}
