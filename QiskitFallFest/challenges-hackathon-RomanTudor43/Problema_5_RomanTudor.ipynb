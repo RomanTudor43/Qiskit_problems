{
 "cells": [
  {
   "cell_type": "markdown",
   "id": "92e2e138-27a4-4e32-836e-32ae5edd9a55",
   "metadata": {
    "deletable": false,
    "editable": false,
    "nbgrader": {
     "cell_type": "markdown",
     "checksum": "3a1eb906f781dbee182492f82d5ff919",
     "grade": false,
     "grade_id": "cell-1ba6f4b8ee49d4ce",
     "locked": true,
     "schema_version": 3,
     "solution": false,
     "task": false
    }
   },
   "source": [
    "Write a function normalize_state(alpha, beta) that accepts two complex numbers, alpha and beta, representing the coefficients of an unnormalized quantum state ∣ψ⟩=α∣0⟩+β∣1⟩. The function should return the normalized state ∣ψ′⟩=α′∣0⟩+β′∣1⟩ (ensuring that ∣α′∣2+∣β′∣2=1) as an array.\n"
   ]
  },
  {
   "cell_type": "code",
   "execution_count": null,
   "id": "022255b8-5877-439a-a34d-4fa94e3296cf",
   "metadata": {
    "deletable": false,
    "editable": false,
    "nbgrader": {
     "cell_type": "code",
     "checksum": "58d684f5c315de58b5d54b6cb5c844b1",
     "grade": false,
     "grade_id": "cell-df698565668672ce",
     "locked": true,
     "schema_version": 3,
     "solution": false,
     "task": false
    }
   },
   "outputs": [],
   "source": [
    "!pip install numpy\n",
    "!pip install qiskit\n",
    "!pip install qiskit_aer"
   ]
  },
  {
   "cell_type": "code",
   "execution_count": 4,
   "id": "1360b64c-23f5-49da-9671-18fe6375b897",
   "metadata": {
    "deletable": false,
    "nbgrader": {
     "cell_type": "code",
     "checksum": "ee46c8c7e6fe39fceb957117cd43d73d",
     "grade": false,
     "grade_id": "cell-fd0b1893e14812fc",
     "locked": false,
     "schema_version": 3,
     "solution": true,
     "task": false
    }
   },
   "outputs": [],
   "source": [
    "import numpy as np\n",
    "\n",
    "def normalize_state(alpha, beta):\n",
    "    norm = np.sqrt(abs(alpha)**2 + abs(beta)**2)\n",
    "    \n",
    "    # Normalize the coefficients\n",
    "    alpha_normalized = alpha / norm\n",
    "    beta_normalized = beta / norm\n",
    "    return [alpha_normalized, beta_normalized]\n",
    "  "
   ]
  },
  {
   "cell_type": "code",
   "execution_count": 5,
   "id": "9146c419-24bf-415a-b3ac-66955f7f9e78",
   "metadata": {
    "deletable": false,
    "editable": false,
    "nbgrader": {
     "cell_type": "code",
     "checksum": "3e10ba13fb39b58ce25c149dfcb24ed7",
     "grade": true,
     "grade_id": "cell-d66b9ef75486a880",
     "locked": true,
     "points": 10,
     "schema_version": 3,
     "solution": false,
     "task": false
    }
   },
   "outputs": [
    {
     "name": "stdout",
     "output_type": "stream",
     "text": [
      "[np.float64(0.6), np.float64(0.8)]\n"
     ]
    }
   ],
   "source": [
    "out_expected = [0.6, 0.8]\n",
    "out = normalize_state(3, 4)\n",
    "print(out)\n",
    "assert np.allclose(out, out_expected), f\"Test Failed\"\n"
   ]
  },
  {
   "cell_type": "code",
   "execution_count": null,
   "id": "9e157b79-c126-4d7f-8304-643694781f88",
   "metadata": {
    "deletable": false,
    "editable": false,
    "nbgrader": {
     "cell_type": "code",
     "checksum": "03e390d8867c7f316840e79420697a84",
     "grade": true,
     "grade_id": "cell-84f70c996a70b161",
     "locked": true,
     "points": 22.5,
     "schema_version": 3,
     "solution": false,
     "task": false
    }
   },
   "outputs": [],
   "source": []
  },
  {
   "cell_type": "code",
   "execution_count": null,
   "id": "7e17e451-1a20-432a-b510-8feb6cdf927b",
   "metadata": {
    "deletable": false,
    "editable": false,
    "nbgrader": {
     "cell_type": "code",
     "checksum": "612c4ac8c8c5e0500cbc9cd31a5ff061",
     "grade": true,
     "grade_id": "cell-96df8c2572755c67",
     "locked": true,
     "points": 22.5,
     "schema_version": 3,
     "solution": false,
     "task": false
    }
   },
   "outputs": [],
   "source": []
  },
  {
   "cell_type": "code",
   "execution_count": null,
   "id": "1bc7a302-1303-4cbc-81eb-a371891f9828",
   "metadata": {
    "deletable": false,
    "editable": false,
    "nbgrader": {
     "cell_type": "code",
     "checksum": "a2b02f25e364a379a9ee8d805ba23ce8",
     "grade": true,
     "grade_id": "cell-59b2adfe9397ecbc",
     "locked": true,
     "points": 22.5,
     "schema_version": 3,
     "solution": false,
     "task": false
    }
   },
   "outputs": [],
   "source": []
  },
  {
   "cell_type": "code",
   "execution_count": null,
   "id": "b9fba3c9-a0e1-4a7f-bf61-51dfb660ceb7",
   "metadata": {
    "deletable": false,
    "editable": false,
    "nbgrader": {
     "cell_type": "code",
     "checksum": "c48321b630dededc8d06d539083a7001",
     "grade": true,
     "grade_id": "cell-7826e78c1b9174fa",
     "locked": true,
     "points": 22.5,
     "schema_version": 3,
     "solution": false,
     "task": false
    }
   },
   "outputs": [],
   "source": []
  }
 ],
 "metadata": {
  "kernelspec": {
   "display_name": "HEnv1",
   "language": "python",
   "name": "python3"
  },
  "language_info": {
   "codemirror_mode": {
    "name": "ipython",
    "version": 3
   },
   "file_extension": ".py",
   "mimetype": "text/x-python",
   "name": "python",
   "nbconvert_exporter": "python",
   "pygments_lexer": "ipython3",
   "version": "3.12.7"
  }
 },
 "nbformat": 4,
 "nbformat_minor": 5
}
