{
 "cells": [
  {
   "cell_type": "markdown",
   "id": "1c3f7973-a54a-4299-9c00-54e9fd6cc062",
   "metadata": {
    "deletable": false,
    "editable": false,
    "nbgrader": {
     "cell_type": "markdown",
     "checksum": "aa1cc2009c508113a9d484f1c3ec33de",
     "grade": false,
     "grade_id": "cell-4feb43ca33c89a49",
     "locked": true,
     "schema_version": 3,
     "solution": false,
     "task": false
    }
   },
   "source": [
    "### PROBLEMA 30\n",
    "    Create a function bloch_sphere_angles(state_vector) that computes the angles required for representing a single-qubit quantum state on the Bloch sphere. The function should:\n",
    "1. Validate that the input state is normalized, and raise an error with the message 'state is not normalized' if it is not.\n",
    "2. Return the polar angle θ, the azimuthal angle ϕ, and the global phase ω as an array.\n"
   ]
  },
  {
   "cell_type": "code",
   "execution_count": null,
   "id": "8d07b544-f4ee-48d6-a6bd-f51644024c72",
   "metadata": {
    "deletable": false,
    "editable": false,
    "nbgrader": {
     "cell_type": "code",
     "checksum": "acf7560d6ca1b75431fb85596336eb9d",
     "grade": false,
     "grade_id": "cell-176fa33672acba86",
     "locked": true,
     "schema_version": 3,
     "solution": false,
     "task": false
    }
   },
   "outputs": [],
   "source": [
    "!pip install numpy\n",
    "!pip install qiskit\n",
    "!pip install qiskit_aer"
   ]
  },
  {
   "cell_type": "code",
   "execution_count": null,
   "id": "ac27916d-56c1-4d36-8f1e-811cfcb1ce4a",
   "metadata": {
    "deletable": false,
    "nbgrader": {
     "cell_type": "code",
     "checksum": "d1580d0171c7059bbc24346ee9c8527c",
     "grade": false,
     "grade_id": "cell-6784388b39fabc9e",
     "locked": false,
     "schema_version": 3,
     "solution": true,
     "task": false
    }
   },
   "outputs": [],
   "source": [
    "import numpy as np\n",
    "\n",
    "def bloch_sphere_angles(state_vector):\n",
    "    # YOUR CODE HERE\n",
    "    raise NotImplementedError()"
   ]
  },
  {
   "cell_type": "code",
   "execution_count": null,
   "id": "37a4ffd8-db35-46b8-b3b5-7a692583d641",
   "metadata": {
    "deletable": false,
    "editable": false,
    "nbgrader": {
     "cell_type": "code",
     "checksum": "04a3f43458001f884ead8674d1cf58b9",
     "grade": true,
     "grade_id": "cell-af78c147a4e7fc35",
     "locked": true,
     "points": 20,
     "schema_version": 3,
     "solution": false,
     "task": false
    }
   },
   "outputs": [],
   "source": [
    "exp1 = (1.5707963267948968, 0.0, 0.0)\n",
    "state_vector1 = np.array([1/np.sqrt(2), 1/np.sqrt(2)])\n",
    "out1 = bloch_sphere_angles(state_vector1)\n",
    "assert np.allclose(out1, exp1), f\"Test failed\""
   ]
  },
  {
   "cell_type": "code",
   "execution_count": null,
   "id": "50016e17-470e-4cb8-ba0d-49e911d96a1e",
   "metadata": {
    "deletable": false,
    "editable": false,
    "nbgrader": {
     "cell_type": "code",
     "checksum": "f0414d9918555cd95589306d3de61956",
     "grade": true,
     "grade_id": "cell-5f7f58d13a7c31d7",
     "locked": true,
     "points": 20,
     "schema_version": 3,
     "solution": false,
     "task": false
    }
   },
   "outputs": [],
   "source": []
  },
  {
   "cell_type": "code",
   "execution_count": null,
   "id": "3dafbe4f-84e5-471b-a165-c04d1ccacc61",
   "metadata": {
    "deletable": false,
    "editable": false,
    "nbgrader": {
     "cell_type": "code",
     "checksum": "8c87c3347ef6dfce175e1482de10fd3d",
     "grade": true,
     "grade_id": "cell-f3e6404aa060bbdc",
     "locked": true,
     "points": 20,
     "schema_version": 3,
     "solution": false,
     "task": false
    }
   },
   "outputs": [],
   "source": []
  },
  {
   "cell_type": "code",
   "execution_count": null,
   "id": "1c003da6-dbc6-4066-b4d8-db6714b1e911",
   "metadata": {
    "deletable": false,
    "editable": false,
    "nbgrader": {
     "cell_type": "code",
     "checksum": "d2415c27dc72f265009b70d9ba475f94",
     "grade": true,
     "grade_id": "cell-db4df458553eb4bc",
     "locked": true,
     "points": 20,
     "schema_version": 3,
     "solution": false,
     "task": false
    }
   },
   "outputs": [],
   "source": []
  },
  {
   "cell_type": "code",
   "execution_count": null,
   "id": "c92c9896-8481-4416-b320-1e224a8a6542",
   "metadata": {
    "deletable": false,
    "editable": false,
    "nbgrader": {
     "cell_type": "code",
     "checksum": "6fdd5ef6283143b44bef38bd3b1e1c71",
     "grade": true,
     "grade_id": "cell-0d50ddd55d7575c2",
     "locked": true,
     "points": 20,
     "schema_version": 3,
     "solution": false,
     "task": false
    }
   },
   "outputs": [],
   "source": []
  }
 ],
 "metadata": {
  "kernelspec": {
   "display_name": "Python 3 (ipykernel)",
   "language": "python",
   "name": "python3"
  },
  "language_info": {
   "codemirror_mode": {
    "name": "ipython",
    "version": 3
   },
   "file_extension": ".py",
   "mimetype": "text/x-python",
   "name": "python",
   "nbconvert_exporter": "python",
   "pygments_lexer": "ipython3",
   "version": "3.10.11"
  }
 },
 "nbformat": 4,
 "nbformat_minor": 5
}
