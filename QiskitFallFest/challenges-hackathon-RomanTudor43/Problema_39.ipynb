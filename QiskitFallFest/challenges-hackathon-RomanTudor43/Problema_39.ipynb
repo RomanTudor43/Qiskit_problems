{
 "cells": [
  {
   "cell_type": "markdown",
   "id": "fba5c2cb-70b1-403c-b5ab-d84a334c78c0",
   "metadata": {
    "deletable": false,
    "editable": false,
    "nbgrader": {
     "cell_type": "markdown",
     "checksum": "ebb40e42c57b20bb37435307900ab277",
     "grade": false,
     "grade_id": "cell-e91cff997a152329",
     "locked": true,
     "schema_version": 3,
     "solution": false,
     "task": false
    }
   },
   "source": [
    "# Quantum conditional statements with Classiq\n",
    "\n",
    "**Challenge:** Implement a function ```q_if(initial_state, test_value)``` that creates a circuit to check if the initial state is equal to the ```test_value``` without collapsing the state. The function should return the results of the measurement which will highlight with a target qubit the value 1 if the initial state matches the test_value, or 0 otherwise.\n"
   ]
  },
  {
   "cell_type": "code",
   "execution_count": null,
   "id": "f976a34f-b10d-4df6-afac-e4c7a5cfa89d",
   "metadata": {
    "deletable": false,
    "editable": false,
    "nbgrader": {
     "cell_type": "code",
     "checksum": "17aa38054f12f4ed55bfe66f5cb11b7e",
     "grade": false,
     "grade_id": "cell-91f62cb860391fbe",
     "locked": true,
     "schema_version": 3,
     "solution": false,
     "task": false
    }
   },
   "outputs": [],
   "source": [
    "!pip install classiq"
   ]
  },
  {
   "cell_type": "code",
   "execution_count": null,
   "id": "f799958d-5152-49b0-ad9e-5e0de71f67a7",
   "metadata": {
    "deletable": false,
    "editable": false,
    "nbgrader": {
     "cell_type": "code",
     "checksum": "7fe93c5f9ba2dfbb6545052c5bf18e76",
     "grade": false,
     "grade_id": "cell-45c4820917e45f1f",
     "locked": true,
     "schema_version": 3,
     "solution": false,
     "task": false
    }
   },
   "outputs": [],
   "source": [
    "from classiq import *"
   ]
  },
  {
   "cell_type": "code",
   "execution_count": null,
   "id": "545b9123-1f6f-400e-ba29-d982703d5c90",
   "metadata": {
    "deletable": false,
    "nbgrader": {
     "cell_type": "code",
     "checksum": "8682dfb5e9296eb23ab08dea98538952",
     "grade": false,
     "grade_id": "cell-fda87242456ad3bd",
     "locked": false,
     "schema_version": 3,
     "solution": true,
     "task": false
    }
   },
   "outputs": [],
   "source": [
    "def q_if(initial_state, test_value):\n",
    "    \n",
    "    @qfunc\n",
    "    def main(x: Output[QNum], target: Output[QBit]):\n",
    "        # YOUR CODE HERE\n",
    "        raise NotImplementedError()\n",
    "\n",
    "    # Create the quantum program and execute the job\n",
    "    # YOUR CODE HERE\n",
    "    raise NotImplementedError()\n",
    "    \n",
    "    # Get the results\n",
    "    results = job.result()[0].value.parsed_counts\n",
    "\n",
    "    # Get the data of the circuit\n",
    "    data = QuantumProgram.from_qprog(quantum_program).data\n",
    "\n",
    "    # Return the results\n",
    "    return results, data"
   ]
  },
  {
   "cell_type": "code",
   "execution_count": null,
   "id": "a446724e-f581-4ee3-94a3-d8bbf8b7c26d",
   "metadata": {
    "deletable": false,
    "editable": false,
    "nbgrader": {
     "cell_type": "code",
     "checksum": "44a0f6b517803149b601bf2c005ce5e1",
     "grade": true,
     "grade_id": "cell-92f6e0fafceb3b69",
     "locked": true,
     "points": 0,
     "schema_version": 3,
     "solution": false,
     "task": false
    }
   },
   "outputs": [],
   "source": [
    "\"\"\"Check that the function returns the correct output for several inputs\"\"\"\n",
    "\n",
    "assert \"'target': 1\" in f'{q_if(3, 3)[0]}'\n",
    "assert \"'target': 0\" in f'{q_if(3, 2)[0]}'"
   ]
  }
 ],
 "metadata": {
  "kernelspec": {
   "display_name": "Python 3 (ipykernel)",
   "language": "python",
   "name": "python3"
  },
  "language_info": {
   "codemirror_mode": {
    "name": "ipython",
    "version": 3
   },
   "file_extension": ".py",
   "mimetype": "text/x-python",
   "name": "python",
   "nbconvert_exporter": "python",
   "pygments_lexer": "ipython3",
   "version": "3.11.9"
  }
 },
 "nbformat": 4,
 "nbformat_minor": 5
}
