{
 "cells": [
  {
   "cell_type": "markdown",
   "id": "da364ab9-fdc4-4c91-b391-a8126f4c3a02",
   "metadata": {
    "deletable": false,
    "editable": false,
    "nbgrader": {
     "cell_type": "markdown",
     "checksum": "762579d680d7ae1c24fc36e7a50c772b",
     "grade": false,
     "grade_id": "cell-33d2c6500fb9885a",
     "locked": true,
     "schema_version": 3,
     "solution": false,
     "task": false
    }
   },
   "source": [
    "### PROBLEMA 31\n",
    "    Create a function toffoli_with_basic_gates(num_qubits, control1, control2, target) that constructs a Toffoli (CCX) gate using only fundamental quantum gates such as CNOT and single-qubit gates. The function should represent the construction in the standard, paper-based notation of quantum gates (not specific to Qiskit) and encapsulate the resulting circuit into a single gate. Return the final constructed gate.\n"
   ]
  },
  {
   "cell_type": "code",
   "execution_count": null,
   "id": "198f87cb-d799-4b4f-b35b-e8bd9f25b652",
   "metadata": {
    "deletable": false,
    "editable": false,
    "nbgrader": {
     "cell_type": "code",
     "checksum": "4da5a4a0065fdc2d2c56a6f6594bf727",
     "grade": false,
     "grade_id": "cell-22df591da3b3c37e",
     "locked": true,
     "schema_version": 3,
     "solution": false,
     "task": false
    }
   },
   "outputs": [],
   "source": [
    "!pip install numpy\n",
    "!pip install qiskit\n",
    "!pip install qiskit_aer"
   ]
  },
  {
   "cell_type": "code",
   "execution_count": null,
   "id": "a80f550e-9bdc-433c-b4a5-36585ab0d1d4",
   "metadata": {
    "deletable": false,
    "nbgrader": {
     "cell_type": "code",
     "checksum": "fd38e8a5504aebd22dbfe6bd9e3df7b3",
     "grade": false,
     "grade_id": "cell-7e08ded47b5c9a91",
     "locked": false,
     "schema_version": 3,
     "solution": true,
     "task": false
    }
   },
   "outputs": [],
   "source": [
    "from qiskit import QuantumCircuit\n",
    "from qiskit.quantum_info import Operator\n",
    "import numpy as np\n",
    "\n",
    "def toffoli_with_basic_gates(num_qubits, control1, control2, target):\n",
    "    # YOUR CODE HERE\n",
    "    raise NotImplementedError()"
   ]
  },
  {
   "cell_type": "code",
   "execution_count": null,
   "id": "37571dee-69b6-4c78-8d2c-c8addb52a77b",
   "metadata": {
    "deletable": false,
    "editable": false,
    "nbgrader": {
     "cell_type": "code",
     "checksum": "e4d02e8df291dc63a9bbdd337131f3f1",
     "grade": true,
     "grade_id": "cell-8ff84a7c18bc8026",
     "locked": true,
     "points": 40,
     "schema_version": 3,
     "solution": false,
     "task": false
    }
   },
   "outputs": [],
   "source": [
    "exp1 = [[(0.9999999999999997+0j),(1.1102230246251565e-16+0j),0j,0j,0j,0j,0j,0j,],[(1.1102230246251565e-16+0j),(0.9999999999999997+0j),0j,0j,0j,0j,0j,0j,],[0j,0j,(0.9999999999999996+0j),0j,0j,0j,0j,0j,],[0j,0j,0j,(0.9999999999999996+0j),0j,0j,0j,0j,],[0j,0j,0j,0j,(0.9999999999999996+0j),0j,0j,0j,],[0j,0j,0j,0j,0j,(0.9999999999999996+0j),0j,0j,],[0j,0j,0j,0j,0j,0j,0j,(0.9999999999999996+0j),],[0j,0j,0j,0j,0j,0j,(0.9999999999999996+0j),0j]]\n",
    "out1 = toffoli_with_basic_gates(3, 0, 1, 2)\n",
    "assert np.allclose(out1, exp1), f\"Test failed\""
   ]
  },
  {
   "cell_type": "code",
   "execution_count": null,
   "id": "cd5a0f75-7041-4714-bac0-e6f6e50e25c8",
   "metadata": {
    "deletable": false,
    "editable": false,
    "nbgrader": {
     "cell_type": "code",
     "checksum": "61855cc921fec0d6bf57ff22fd654e3f",
     "grade": true,
     "grade_id": "cell-097db8609765d8dd",
     "locked": true,
     "points": 40,
     "schema_version": 3,
     "solution": false,
     "task": false
    }
   },
   "outputs": [],
   "source": []
  },
  {
   "cell_type": "code",
   "execution_count": null,
   "id": "5db82746-12a8-4b95-bf5f-038750b90c79",
   "metadata": {
    "deletable": false,
    "editable": false,
    "nbgrader": {
     "cell_type": "code",
     "checksum": "aaeb5933628023c239750f28a5e310e2",
     "grade": true,
     "grade_id": "cell-d81f3243193ad958",
     "locked": true,
     "points": 40,
     "schema_version": 3,
     "solution": false,
     "task": false
    }
   },
   "outputs": [],
   "source": []
  },
  {
   "cell_type": "code",
   "execution_count": null,
   "id": "c4281d24-e75f-4da9-8016-e8c34cae7477",
   "metadata": {
    "deletable": false,
    "editable": false,
    "nbgrader": {
     "cell_type": "code",
     "checksum": "609fe90f848d987e9d0bcc5db7a111f4",
     "grade": true,
     "grade_id": "cell-64cf7e55a8b42c2a",
     "locked": true,
     "points": 40,
     "schema_version": 3,
     "solution": false,
     "task": false
    }
   },
   "outputs": [],
   "source": []
  }
 ],
 "metadata": {
  "kernelspec": {
   "display_name": "Python 3 (ipykernel)",
   "language": "python",
   "name": "python3"
  },
  "language_info": {
   "codemirror_mode": {
    "name": "ipython",
    "version": 3
   },
   "file_extension": ".py",
   "mimetype": "text/x-python",
   "name": "python",
   "nbconvert_exporter": "python",
   "pygments_lexer": "ipython3",
   "version": "3.10.11"
  }
 },
 "nbformat": 4,
 "nbformat_minor": 5
}
