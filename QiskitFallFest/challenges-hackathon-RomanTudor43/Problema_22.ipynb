{
 "cells": [
  {
   "cell_type": "markdown",
   "id": "6a56257c-e925-4708-8e92-382b27459ddb",
   "metadata": {
    "deletable": false,
    "editable": false,
    "nbgrader": {
     "cell_type": "markdown",
     "checksum": "29a7c3d14ca04aecf26f0c6485fafe0a",
     "grade": false,
     "grade_id": "cell-891d18fb0f72fa6f",
     "locked": true,
     "schema_version": 3,
     "solution": false,
     "task": false
    }
   },
   "source": [
    "### PROBLEMA 22\n",
    "    Write a function create_u3_gate(theta, phi, lambda) that generates the matrix representation of a custom U3 gate based on the input rotation angles θ, ϕ, and λ. The function should compute and return the U3 gate matrix. Use the normal way of representing qubits (not the one Qiskit does).\n"
   ]
  },
  {
   "cell_type": "code",
   "execution_count": null,
   "id": "e4b2fbcc-261f-47b6-a01d-3e357bceca43",
   "metadata": {
    "deletable": false,
    "editable": false,
    "nbgrader": {
     "cell_type": "code",
     "checksum": "afa92926b141ddc79b88f2dfe43b2727",
     "grade": false,
     "grade_id": "cell-6a5a85e019920280",
     "locked": true,
     "schema_version": 3,
     "solution": false,
     "task": false
    }
   },
   "outputs": [],
   "source": [
    "!pip install numpy\n",
    "!pip install qiskit\n",
    "!pip install qiskit_aer"
   ]
  },
  {
   "cell_type": "code",
   "execution_count": null,
   "id": "902ffb76-8a30-4c5a-ae65-2c76f37bfa43",
   "metadata": {
    "deletable": false,
    "nbgrader": {
     "cell_type": "code",
     "checksum": "5e30e957ab181993e3917866ac27fbbb",
     "grade": false,
     "grade_id": "cell-a2bfc8092600b8f3",
     "locked": false,
     "schema_version": 3,
     "solution": true,
     "task": false
    }
   },
   "outputs": [],
   "source": [
    "import numpy as np\n",
    "\n",
    "\n",
    "def create_u3_gate(theta, phi, lamda):\n",
    "    # YOUR CODE HERE\n",
    "    raise NotImplementedError()"
   ]
  },
  {
   "cell_type": "code",
   "execution_count": null,
   "id": "5ee2db5d-59e0-4e04-b06d-527ce3d4692e",
   "metadata": {
    "deletable": false,
    "editable": false,
    "nbgrader": {
     "cell_type": "code",
     "checksum": "256f7de2eff4bb2c118d1f230d1b0f7d",
     "grade": true,
     "grade_id": "cell-4c5d947fba523068",
     "locked": true,
     "points": 20,
     "schema_version": 3,
     "solution": false,
     "task": false
    }
   },
   "outputs": [],
   "source": [
    "exp1 = [[ 1.+0.j, -0.+0.j], \n",
    "        [ 0.+0.j,  1.+0.j]]\n",
    "theta1, phi1, lamda1 = 0, 0, 0\n",
    "out1 = create_u3_gate(theta1, phi1, lamda1)\n",
    "assert np.allclose(exp1, out1), f\"Test failed\""
   ]
  },
  {
   "cell_type": "code",
   "execution_count": null,
   "id": "9832b3e4-c87d-4d6c-8e42-0db8048c98a9",
   "metadata": {
    "deletable": false,
    "editable": false,
    "nbgrader": {
     "cell_type": "code",
     "checksum": "07ac3ceb253945e29ab8025470c5d0e2",
     "grade": true,
     "grade_id": "cell-77645620011b9a2a",
     "locked": true,
     "points": 20,
     "schema_version": 3,
     "solution": false,
     "task": false
    }
   },
   "outputs": [],
   "source": []
  },
  {
   "cell_type": "code",
   "execution_count": null,
   "id": "17ce9aa8-141b-45b9-866b-e26096c8f2ef",
   "metadata": {
    "deletable": false,
    "editable": false,
    "nbgrader": {
     "cell_type": "code",
     "checksum": "ac7a597d0f8688a4e14044edd80c9318",
     "grade": true,
     "grade_id": "cell-f4f3af435df5ad15",
     "locked": true,
     "points": 20,
     "schema_version": 3,
     "solution": false,
     "task": false
    }
   },
   "outputs": [],
   "source": []
  },
  {
   "cell_type": "code",
   "execution_count": null,
   "id": "8b76ebdd-1630-490b-a6aa-45b8978427a6",
   "metadata": {
    "deletable": false,
    "editable": false,
    "nbgrader": {
     "cell_type": "code",
     "checksum": "28138a2850de5f9a7f681014ff6acc7f",
     "grade": true,
     "grade_id": "cell-ff87b56a67857b14",
     "locked": true,
     "points": 20,
     "schema_version": 3,
     "solution": false,
     "task": false
    }
   },
   "outputs": [],
   "source": []
  },
  {
   "cell_type": "code",
   "execution_count": null,
   "id": "9a31058c-71b5-40c7-89c7-f62a2b30bb47",
   "metadata": {
    "deletable": false,
    "editable": false,
    "nbgrader": {
     "cell_type": "code",
     "checksum": "913f000fdafbb0d33ef37c857f0d7fe4",
     "grade": true,
     "grade_id": "cell-3cc09fa0521388fc",
     "locked": true,
     "points": 20,
     "schema_version": 3,
     "solution": false,
     "task": false
    }
   },
   "outputs": [],
   "source": []
  }
 ],
 "metadata": {
  "kernelspec": {
   "display_name": "Python 3 (ipykernel)",
   "language": "python",
   "name": "python3"
  },
  "language_info": {
   "codemirror_mode": {
    "name": "ipython",
    "version": 3
   },
   "file_extension": ".py",
   "mimetype": "text/x-python",
   "name": "python",
   "nbconvert_exporter": "python",
   "pygments_lexer": "ipython3",
   "version": "3.10.11"
  }
 },
 "nbformat": 4,
 "nbformat_minor": 5
}
