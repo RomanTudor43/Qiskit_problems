{
 "cells": [
  {
   "cell_type": "markdown",
   "id": "14eef225-d028-403b-9025-4f76452e104a",
   "metadata": {
    "deletable": false,
    "editable": false,
    "nbgrader": {
     "cell_type": "markdown",
     "checksum": "ed86f24fb247da52721ad3e04a7d5ad7",
     "grade": false,
     "grade_id": "cell-ad71385b4f6e50b9",
     "locked": true,
     "schema_version": 3,
     "solution": false,
     "task": false
    }
   },
   "source": [
    "#### PROBLEMA 10\n",
    "Write a function quantum_fourier_transform(num_qubits, shots, seed, input_state) that creates and simulates a Quantum Fourier Transform (QFT) circuit. The function should:\n",
    "\n",
    "- Initialize the qubits with the given input_state.\n",
    "- Apply the QFT to the qubits.\n",
    "- Perform the specified number of shots measurements.\n",
    "- Use the provided seed for reproducibility.\n",
    "- Include the final swap of the algorithm\n"
   ]
  },
  {
   "cell_type": "code",
   "execution_count": null,
   "id": "952b223f-59e6-4cc8-b3db-fe1dd00a2ab1",
   "metadata": {
    "deletable": false,
    "editable": false,
    "nbgrader": {
     "cell_type": "code",
     "checksum": "a17d9c0dce31052ae2e7cdabe27d60e3",
     "grade": false,
     "grade_id": "cell-b91b352ad4c7dcda",
     "locked": true,
     "schema_version": 3,
     "solution": false,
     "task": false
    }
   },
   "outputs": [],
   "source": [
    "!pip install numpy\n",
    "!pip install qiskit\n",
    "!pip install qiskit_aer"
   ]
  },
  {
   "cell_type": "code",
   "execution_count": null,
   "id": "d4c0b982-b409-4dc1-8717-e5b3025a0314",
   "metadata": {
    "deletable": false,
    "nbgrader": {
     "cell_type": "code",
     "checksum": "175e0e70a2baad47d95f15fcc29378b6",
     "grade": false,
     "grade_id": "cell-8a80cacad296f511",
     "locked": false,
     "schema_version": 3,
     "solution": true,
     "task": false
    }
   },
   "outputs": [],
   "source": [
    "import numpy as np\n",
    "from qiskit import QuantumCircuit, transpile\n",
    "from qiskit.quantum_info import Statevector\n",
    "from qiskit_aer import AerSimulator\n",
    "from qiskit.circuit.library import Initialize\n",
    "\n",
    "\n",
    "def apply_qft(circuit, num_qubits):\n",
    "    for qubit in range(num_qubits):\n",
    "   \n",
    "        circuit.h(qubit)\n",
    "        \n",
    "        for control_qubit in range(qubit + 1, num_qubits):\n",
    "            angle = np.pi / (2 ** (control_qubit - qubit))\n",
    "            circuit.cp(angle, control_qubit, qubit)\n",
    "    \n",
    "    for i in range(num_qubits // 2):\n",
    "        circuit.swap(i, num_qubits - i - 1)\n",
    "\n",
    "\n",
    "def quantum_fourier_transform(num_qubits, shots, seed, input_state):\n",
    "    qc = QuantumCircuit(num_qubits)\n",
    "    qc.initialize(Statevector(input_state), range(num_qubits))\n",
    "    apply_qft(qc, num_qubits)\n",
    "    qc.measure_all()\n",
    "    \n",
    "    backend = AerSimulator()\n",
    "    \n",
    "    transpiled_qc = transpile(qc, backend)\n",
    "\n",
    "    job = backend.run(transpiled_qc, shots=shots, seed_simulator=seed)\n",
    "\n",
    "    result = job.result()\n",
    "    counts = result.get_counts(transpiled_qc)\n",
    "    return counts\n",
    "    \n",
    "\n",
    "\n"
   ]
  },
  {
   "cell_type": "code",
   "execution_count": null,
   "id": "3f2f9087-bd9e-40a3-a252-4aef0d5ec65e",
   "metadata": {
    "deletable": false,
    "editable": false,
    "nbgrader": {
     "cell_type": "code",
     "checksum": "794b623b795d231c18fb6ba3c21576ef",
     "grade": true,
     "grade_id": "cell-c39602bcffd90f2d",
     "locked": true,
     "points": 50,
     "schema_version": 3,
     "solution": false,
     "task": false
    }
   },
   "outputs": [
    {
     "ename": "AssertionError",
     "evalue": "Test failed",
     "output_type": "error",
     "traceback": [
      "\u001b[0;31m---------------------------------------------------------------------------\u001b[0m",
      "\u001b[0;31mAssertionError\u001b[0m                            Traceback (most recent call last)",
      "Cell \u001b[0;32mIn[11], line 4\u001b[0m\n\u001b[1;32m      2\u001b[0m state1 \u001b[38;5;241m=\u001b[39m [\u001b[38;5;241m1\u001b[39m, \u001b[38;5;241m0\u001b[39m]\n\u001b[1;32m      3\u001b[0m out1 \u001b[38;5;241m=\u001b[39m quantum_fourier_transform(\u001b[38;5;241m1\u001b[39m, \u001b[38;5;241m1000\u001b[39m, \u001b[38;5;241m19\u001b[39m, state1)\n\u001b[0;32m----> 4\u001b[0m \u001b[38;5;28;01massert\u001b[39;00m exp1 \u001b[38;5;241m==\u001b[39m out1, \u001b[38;5;124mf\u001b[39m\u001b[38;5;124m\"\u001b[39m\u001b[38;5;124mTest failed\u001b[39m\u001b[38;5;124m\"\u001b[39m\n",
      "\u001b[0;31mAssertionError\u001b[0m: Test failed"
     ]
    }
   ],
   "source": [
    "exp1 = {'1': 479, '0': 521}\n",
    "state1 = [1, 0]\n",
    "out1 = quantum_fourier_transform(1, 1000, 19, state1)\n",
    "assert exp1 == out1, f\"Test failed\""
   ]
  },
  {
   "cell_type": "code",
   "execution_count": 18,
   "id": "b6b57027-ce6a-4592-9e9f-8b22ebc7a8e3",
   "metadata": {
    "deletable": false,
    "editable": false,
    "nbgrader": {
     "cell_type": "code",
     "checksum": "48b87042c3a695f919c56df570de79bd",
     "grade": true,
     "grade_id": "cell-075267e77f26a616",
     "locked": true,
     "points": 50,
     "schema_version": 3,
     "solution": false,
     "task": false
    }
   },
   "outputs": [
    {
     "name": "stdout",
     "output_type": "stream",
     "text": [
      "{'001': 255, '010': 227, '000': 266, '011': 252}\n"
     ]
    }
   ],
   "source": [
    "num_qubits = 3\n",
    "input_state = [1, 0,0,0,0,0,0,0]\n",
    "qc = QuantumCircuit(num_qubits)\n",
    "\n",
    "qc.initialize(Statevector(input_state), range(num_qubits))\n",
    "apply_qft(qc, num_qubits-1)\n",
    "qc.measure_all()\n",
    "\n",
    "backend = AerSimulator()\n",
    "\n",
    "transpiled_qc = transpile(qc, backend)\n",
    "\n",
    "job = backend.run(transpiled_qc, shots=1000, seed_simulator=19)\n",
    "\n",
    "result = job.result()\n",
    "counts = result.get_counts(transpiled_qc)\n",
    "print(counts)"
   ]
  },
  {
   "cell_type": "code",
   "execution_count": null,
   "id": "47a32201-d3ba-428a-bb12-9466fbfacb5d",
   "metadata": {
    "deletable": false,
    "editable": false,
    "nbgrader": {
     "cell_type": "code",
     "checksum": "db0c5c4efd9185330fd07c2f9a506f8d",
     "grade": true,
     "grade_id": "cell-0ea0d5e6d080c95e",
     "locked": true,
     "points": 50,
     "schema_version": 3,
     "solution": false,
     "task": false
    }
   },
   "outputs": [],
   "source": []
  },
  {
   "cell_type": "code",
   "execution_count": null,
   "id": "dfc06328-de7b-4267-b2a4-62a6c2e5253e",
   "metadata": {
    "deletable": false,
    "editable": false,
    "nbgrader": {
     "cell_type": "code",
     "checksum": "0e50478f32795070fe82ed2130c19006",
     "grade": true,
     "grade_id": "cell-1f1ffcdb0e186e04",
     "locked": true,
     "points": 50,
     "schema_version": 3,
     "solution": false,
     "task": false
    }
   },
   "outputs": [],
   "source": []
  }
 ],
 "metadata": {
  "kernelspec": {
   "display_name": "HEnv1",
   "language": "python",
   "name": "python3"
  },
  "language_info": {
   "codemirror_mode": {
    "name": "ipython",
    "version": 3
   },
   "file_extension": ".py",
   "mimetype": "text/x-python",
   "name": "python",
   "nbconvert_exporter": "python",
   "pygments_lexer": "ipython3",
   "version": "3.12.7"
  }
 },
 "nbformat": 4,
 "nbformat_minor": 5
}
