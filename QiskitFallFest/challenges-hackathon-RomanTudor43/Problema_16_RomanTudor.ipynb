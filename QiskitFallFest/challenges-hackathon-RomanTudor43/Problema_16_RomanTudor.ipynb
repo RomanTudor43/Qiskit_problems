{
 "cells": [
  {
   "cell_type": "markdown",
   "id": "aba27fcd-515f-4994-9232-ede80735e9d6",
   "metadata": {
    "deletable": false,
    "editable": false,
    "nbgrader": {
     "cell_type": "markdown",
     "checksum": "1626a6af822e41e6b5b51085cf15e103",
     "grade": false,
     "grade_id": "cell-1d53c6ff1c7941cc",
     "locked": true,
     "schema_version": 3,
     "solution": false,
     "task": false
    }
   },
   "source": [
    "#### PROBLEMA 16\n",
    "    Write a function bit_flip_code(input_state, error) that implements a repetition code for detecting bit-flip errors. The function should:\n",
    "        - Encode a single-qubit quantum state (input_state) into a three-qubit (repetition code) state using a stabilizer code.\n",
    "        - Apply bit-flip errors (X gates) based on the qubit indices provided in the error list.\n",
    "        - Decode the three-qubit state and return the error syndrome after the decoding process.\n",
    "    The function should use stabilizer code principles to detect bit-flip errors.\n"
   ]
  },
  {
   "cell_type": "code",
   "execution_count": null,
   "id": "69e6317b-0203-483e-af1f-7639fa412f91",
   "metadata": {
    "deletable": false,
    "editable": false,
    "nbgrader": {
     "cell_type": "code",
     "checksum": "5d126fc4a4fabe9e87694082227f8593",
     "grade": false,
     "grade_id": "cell-790ca70a053bb888",
     "locked": true,
     "schema_version": 3,
     "solution": false,
     "task": false
    }
   },
   "outputs": [],
   "source": [
    "!pip install numpy\n",
    "!pip install qiskit\n",
    "!pip install qiskit_aer"
   ]
  },
  {
   "cell_type": "code",
   "execution_count": 47,
   "id": "a314596c-9773-4395-8414-d4a8d032289a",
   "metadata": {
    "deletable": false,
    "nbgrader": {
     "cell_type": "code",
     "checksum": "afc36c729b4e6df7266af646bbdfdf9a",
     "grade": false,
     "grade_id": "cell-01ca43c24ef9ff75",
     "locked": false,
     "schema_version": 3,
     "solution": true,
     "task": false
    }
   },
   "outputs": [],
   "source": [
    "import numpy as np\n",
    "from qiskit import QuantumCircuit, transpile\n",
    "from qiskit.quantum_info import Statevector\n",
    "from qiskit_aer import AerSimulator\n",
    "\n",
    "def bit_flip_code(input_state, error_qubits):\n",
    "    \n",
    "    qc = QuantumCircuit(3, 2)\n",
    "    qc.initialize(Statevector(input_state), [0])\n",
    "    \n",
    "    # encode\n",
    "    qc.cx(0, 1)\n",
    "    qc.cx(0, 2)\n",
    "    \n",
    "    for qubit in error_qubits:\n",
    "        qc.x(qubit)\n",
    "\n",
    "    # syndrome\n",
    "    qc.cx(1, 2)\n",
    "    qc.cx(0, 1)\n",
    "    qc.measure([1, 2], [0, 1])\n",
    "    \n",
    "    # decode\n",
    "    qc.cx(0, 2)\n",
    "    qc.cx(0, 1)\n",
    "\n",
    "    backend = AerSimulator()\n",
    "    transpiled_qc = transpile(qc, backend)\n",
    "    result = backend.run(transpiled_qc, shots=1).result()\n",
    "    counts = result.get_counts(transpiled_qc)\n",
    "\n",
    "    return next(iter(counts.keys()))\n"
   ]
  },
  {
   "cell_type": "code",
   "execution_count": 48,
   "id": "815d6eca-4931-4752-abde-585e5d5471a4",
   "metadata": {
    "deletable": false,
    "editable": false,
    "nbgrader": {
     "cell_type": "code",
     "checksum": "9b61a43e689bb50e316e5d4daff5a2d6",
     "grade": true,
     "grade_id": "cell-b0cb92ca5cfb544c",
     "locked": true,
     "points": 40,
     "schema_version": 3,
     "solution": false,
     "task": false
    }
   },
   "outputs": [],
   "source": [
    "exp1 = '01'\n",
    "input_state = [1/np.sqrt(2), 1/np.sqrt(2)]\n",
    "out1 = bit_flip_code(input_state, [0])\n",
    "assert exp1 == out1, f\"Test failed\""
   ]
  },
  {
   "cell_type": "code",
   "execution_count": null,
   "id": "16776d8e-e132-465b-b3f8-908c02b732c1",
   "metadata": {
    "deletable": false,
    "editable": false,
    "nbgrader": {
     "cell_type": "code",
     "checksum": "510e0c20a28cca6110b7127448fa4f12",
     "grade": true,
     "grade_id": "cell-fcf220a5d5bcdd59",
     "locked": true,
     "points": 40,
     "schema_version": 3,
     "solution": false,
     "task": false
    }
   },
   "outputs": [],
   "source": []
  },
  {
   "cell_type": "code",
   "execution_count": null,
   "id": "ab8a39f7-3dd7-42f9-b49f-1a7fd4a6fd28",
   "metadata": {
    "deletable": false,
    "editable": false,
    "nbgrader": {
     "cell_type": "code",
     "checksum": "1d4fa76ade3ca4326c812e208634a7b6",
     "grade": true,
     "grade_id": "cell-8ebb8c43b9ddad86",
     "locked": true,
     "points": 40,
     "schema_version": 3,
     "solution": false,
     "task": false
    }
   },
   "outputs": [],
   "source": []
  },
  {
   "cell_type": "code",
   "execution_count": null,
   "id": "daa661e9-0eaf-46bb-a71e-5c9bd6db8092",
   "metadata": {
    "deletable": false,
    "editable": false,
    "nbgrader": {
     "cell_type": "code",
     "checksum": "70c8a1cda18a2f32a4c452d5395e1140",
     "grade": true,
     "grade_id": "cell-bc28ffb39bde6230",
     "locked": true,
     "points": 40,
     "schema_version": 3,
     "solution": false,
     "task": false
    }
   },
   "outputs": [],
   "source": []
  },
  {
   "cell_type": "code",
   "execution_count": null,
   "id": "3be4348f-7858-49e7-9ffc-c4ae4ae3d759",
   "metadata": {
    "deletable": false,
    "editable": false,
    "nbgrader": {
     "cell_type": "code",
     "checksum": "433cc6f638f3661ca9b44d855a35ee98",
     "grade": true,
     "grade_id": "cell-0317899dd0abf8d5",
     "locked": true,
     "points": 40,
     "schema_version": 3,
     "solution": false,
     "task": false
    }
   },
   "outputs": [],
   "source": []
  }
 ],
 "metadata": {
  "kernelspec": {
   "display_name": "HEnv1",
   "language": "python",
   "name": "python3"
  },
  "language_info": {
   "codemirror_mode": {
    "name": "ipython",
    "version": 3
   },
   "file_extension": ".py",
   "mimetype": "text/x-python",
   "name": "python",
   "nbconvert_exporter": "python",
   "pygments_lexer": "ipython3",
   "version": "3.12.7"
  }
 },
 "nbformat": 4,
 "nbformat_minor": 5
}
