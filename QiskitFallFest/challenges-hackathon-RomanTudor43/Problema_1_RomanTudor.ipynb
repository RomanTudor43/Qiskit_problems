{
 "cells": [
  {
   "cell_type": "markdown",
   "id": "4d784664-97be-443d-97c8-c6ea39bac3ff",
   "metadata": {
    "deletable": false,
    "editable": false,
    "nbgrader": {
     "cell_type": "markdown",
     "checksum": "5c409924a68a099bb2f0445fd8c9dc4c",
     "grade": false,
     "grade_id": "cell-7b5b2543b2e739d5",
     "locked": true,
     "schema_version": 3,
     "solution": false,
     "task": false
    }
   },
   "source": [
    "## Function: `create_circuit_matrix`\n",
    "\n",
    "Implement a function `create_circuit_matrix(qiskit_representation)` that computes the overall matrix representation of a quantum circuit based on the given image (circuit diagram). The function should:\n",
    "\n",
    "- Combine all gates in the circuit to produce the final unitary matrix.\n",
    "- Ignore any measurement operations in the circuit.\n",
    "- Accept a parameter `qiskit_representation`:\n",
    "  - If `True`, return the matrix in Qiskit’s qubit ordering format (little-endian).\n",
    "  - If `False`, return the matrix in the standard qubit ordering (big-endian).\n",
    "\n",
    "### Parameters:\n",
    "- `qiskit_representation` (bool): Determines the qubit ordering format of the returned matrix.\n",
    "\n",
    "### Returns:\n",
    "- A `numpy.ndarray` representing the unitary matrix of the quantum circuit.\n"
   ]
  },
  {
   "cell_type": "code",
   "execution_count": 1,
   "id": "c01be7e3-82f8-4739-ac0e-35a083c28a49",
   "metadata": {
    "deletable": false,
    "editable": false,
    "jupyter": {
     "outputs_hidden": true
    },
    "nbgrader": {
     "cell_type": "code",
     "checksum": "69d5bea29410b5f0c561827bc2ced5a4",
     "grade": false,
     "grade_id": "cell-d45d415cc348e182",
     "locked": true,
     "schema_version": 3,
     "solution": false,
     "task": false
    }
   },
   "outputs": [
    {
     "name": "stdout",
     "output_type": "stream",
     "text": [
      "Requirement already satisfied: qiskit in /Users/romantudorgeorge/Enviroments/HEnv1/lib/python3.12/site-packages (1.2.4)\n",
      "Requirement already satisfied: rustworkx>=0.15.0 in /Users/romantudorgeorge/Enviroments/HEnv1/lib/python3.12/site-packages (from qiskit) (0.15.1)\n",
      "Requirement already satisfied: numpy<3,>=1.17 in /Users/romantudorgeorge/Enviroments/HEnv1/lib/python3.12/site-packages (from qiskit) (2.1.3)\n",
      "Requirement already satisfied: scipy>=1.5 in /Users/romantudorgeorge/Enviroments/HEnv1/lib/python3.12/site-packages (from qiskit) (1.14.1)\n",
      "Requirement already satisfied: sympy>=1.3 in /Users/romantudorgeorge/Enviroments/HEnv1/lib/python3.12/site-packages (from qiskit) (1.13.3)\n",
      "Requirement already satisfied: dill>=0.3 in /Users/romantudorgeorge/Enviroments/HEnv1/lib/python3.12/site-packages (from qiskit) (0.3.9)\n",
      "Requirement already satisfied: python-dateutil>=2.8.0 in /Users/romantudorgeorge/Enviroments/HEnv1/lib/python3.12/site-packages (from qiskit) (2.9.0.post0)\n",
      "Requirement already satisfied: stevedore>=3.0.0 in /Users/romantudorgeorge/Enviroments/HEnv1/lib/python3.12/site-packages (from qiskit) (5.4.0)\n",
      "Requirement already satisfied: typing-extensions in /Users/romantudorgeorge/Enviroments/HEnv1/lib/python3.12/site-packages (from qiskit) (4.12.2)\n",
      "Requirement already satisfied: symengine<0.14,>=0.11 in /Users/romantudorgeorge/Enviroments/HEnv1/lib/python3.12/site-packages (from qiskit) (0.13.0)\n",
      "Requirement already satisfied: six>=1.5 in /Users/romantudorgeorge/Enviroments/HEnv1/lib/python3.12/site-packages (from python-dateutil>=2.8.0->qiskit) (1.16.0)\n",
      "Requirement already satisfied: pbr>=2.0.0 in /Users/romantudorgeorge/Enviroments/HEnv1/lib/python3.12/site-packages (from stevedore>=3.0.0->qiskit) (6.1.0)\n",
      "Requirement already satisfied: mpmath<1.4,>=1.1.0 in /Users/romantudorgeorge/Enviroments/HEnv1/lib/python3.12/site-packages (from sympy>=1.3->qiskit) (1.3.0)\n",
      "\n",
      "\u001b[1m[\u001b[0m\u001b[34;49mnotice\u001b[0m\u001b[1;39;49m]\u001b[0m\u001b[39;49m A new release of pip is available: \u001b[0m\u001b[31;49m24.2\u001b[0m\u001b[39;49m -> \u001b[0m\u001b[32;49m24.3.1\u001b[0m\n",
      "\u001b[1m[\u001b[0m\u001b[34;49mnotice\u001b[0m\u001b[1;39;49m]\u001b[0m\u001b[39;49m To update, run: \u001b[0m\u001b[32;49mpip install --upgrade pip\u001b[0m\n",
      "Collecting qiskit_aer\n",
      "  Using cached qiskit_aer-0.15.1-cp312-cp312-macosx_11_0_arm64.whl.metadata (8.0 kB)\n",
      "Requirement already satisfied: qiskit>=1.1.0 in /Users/romantudorgeorge/Enviroments/HEnv1/lib/python3.12/site-packages (from qiskit_aer) (1.2.4)\n",
      "Requirement already satisfied: numpy>=1.16.3 in /Users/romantudorgeorge/Enviroments/HEnv1/lib/python3.12/site-packages (from qiskit_aer) (2.1.3)\n",
      "Requirement already satisfied: scipy>=1.0 in /Users/romantudorgeorge/Enviroments/HEnv1/lib/python3.12/site-packages (from qiskit_aer) (1.14.1)\n",
      "Requirement already satisfied: psutil>=5 in /Users/romantudorgeorge/Enviroments/HEnv1/lib/python3.12/site-packages (from qiskit_aer) (6.1.0)\n",
      "Requirement already satisfied: rustworkx>=0.15.0 in /Users/romantudorgeorge/Enviroments/HEnv1/lib/python3.12/site-packages (from qiskit>=1.1.0->qiskit_aer) (0.15.1)\n",
      "Requirement already satisfied: sympy>=1.3 in /Users/romantudorgeorge/Enviroments/HEnv1/lib/python3.12/site-packages (from qiskit>=1.1.0->qiskit_aer) (1.13.3)\n",
      "Requirement already satisfied: dill>=0.3 in /Users/romantudorgeorge/Enviroments/HEnv1/lib/python3.12/site-packages (from qiskit>=1.1.0->qiskit_aer) (0.3.9)\n",
      "Requirement already satisfied: python-dateutil>=2.8.0 in /Users/romantudorgeorge/Enviroments/HEnv1/lib/python3.12/site-packages (from qiskit>=1.1.0->qiskit_aer) (2.9.0.post0)\n",
      "Requirement already satisfied: stevedore>=3.0.0 in /Users/romantudorgeorge/Enviroments/HEnv1/lib/python3.12/site-packages (from qiskit>=1.1.0->qiskit_aer) (5.4.0)\n",
      "Requirement already satisfied: typing-extensions in /Users/romantudorgeorge/Enviroments/HEnv1/lib/python3.12/site-packages (from qiskit>=1.1.0->qiskit_aer) (4.12.2)\n",
      "Requirement already satisfied: symengine<0.14,>=0.11 in /Users/romantudorgeorge/Enviroments/HEnv1/lib/python3.12/site-packages (from qiskit>=1.1.0->qiskit_aer) (0.13.0)\n",
      "Requirement already satisfied: six>=1.5 in /Users/romantudorgeorge/Enviroments/HEnv1/lib/python3.12/site-packages (from python-dateutil>=2.8.0->qiskit>=1.1.0->qiskit_aer) (1.16.0)\n",
      "Requirement already satisfied: pbr>=2.0.0 in /Users/romantudorgeorge/Enviroments/HEnv1/lib/python3.12/site-packages (from stevedore>=3.0.0->qiskit>=1.1.0->qiskit_aer) (6.1.0)\n",
      "Requirement already satisfied: mpmath<1.4,>=1.1.0 in /Users/romantudorgeorge/Enviroments/HEnv1/lib/python3.12/site-packages (from sympy>=1.3->qiskit>=1.1.0->qiskit_aer) (1.3.0)\n",
      "Using cached qiskit_aer-0.15.1-cp312-cp312-macosx_11_0_arm64.whl (2.2 MB)\n",
      "Installing collected packages: qiskit_aer\n",
      "Successfully installed qiskit_aer-0.15.1\n",
      "\n",
      "\u001b[1m[\u001b[0m\u001b[34;49mnotice\u001b[0m\u001b[1;39;49m]\u001b[0m\u001b[39;49m A new release of pip is available: \u001b[0m\u001b[31;49m24.2\u001b[0m\u001b[39;49m -> \u001b[0m\u001b[32;49m24.3.1\u001b[0m\n",
      "\u001b[1m[\u001b[0m\u001b[34;49mnotice\u001b[0m\u001b[1;39;49m]\u001b[0m\u001b[39;49m To update, run: \u001b[0m\u001b[32;49mpip install --upgrade pip\u001b[0m\n",
      "Requirement already satisfied: numpy in /Users/romantudorgeorge/Enviroments/HEnv1/lib/python3.12/site-packages (2.1.3)\n",
      "\n",
      "\u001b[1m[\u001b[0m\u001b[34;49mnotice\u001b[0m\u001b[1;39;49m]\u001b[0m\u001b[39;49m A new release of pip is available: \u001b[0m\u001b[31;49m24.2\u001b[0m\u001b[39;49m -> \u001b[0m\u001b[32;49m24.3.1\u001b[0m\n",
      "\u001b[1m[\u001b[0m\u001b[34;49mnotice\u001b[0m\u001b[1;39;49m]\u001b[0m\u001b[39;49m To update, run: \u001b[0m\u001b[32;49mpip install --upgrade pip\u001b[0m\n"
     ]
    }
   ],
   "source": [
    "!pip install qiskit\n",
    "!pip install qiskit_aer\n",
    "!pip install numpy"
   ]
  },
  {
   "cell_type": "code",
   "execution_count": 4,
   "id": "7adddd7b-a77d-4c17-b773-5d4384850b26",
   "metadata": {
    "deletable": false,
    "nbgrader": {
     "cell_type": "code",
     "checksum": "4c44a28e7cfbd1d7c8d37964726e4f4e",
     "grade": false,
     "grade_id": "cell-4d82584b1e8f7d6e",
     "locked": false,
     "schema_version": 3,
     "solution": true,
     "task": false
    }
   },
   "outputs": [],
   "source": [
    "import numpy as np\n",
    "from qiskit import QuantumCircuit\n",
    "from qiskit.quantum_info import Operator\n",
    "\n",
    "def create_circuit_matrix(qiskit_representation):\n",
    "    # YOUR CODE HERE\n",
    "    raise NotImplementedError()\n",
    "    "
   ]
  },
  {
   "cell_type": "code",
   "execution_count": 5,
   "id": "072a3bcf-376b-4e26-a499-7cecbcac732c",
   "metadata": {
    "deletable": false,
    "editable": false,
    "nbgrader": {
     "cell_type": "code",
     "checksum": "242969ac4dc82dd154eb71b3f0ddaa39",
     "grade": true,
     "grade_id": "cell-184377b8a1ee191f",
     "locked": true,
     "points": 50,
     "schema_version": 3,
     "solution": false,
     "task": false
    }
   },
   "outputs": [
    {
     "name": "stdout",
     "output_type": "stream",
     "text": [
      "Qiskit (little-endian) representation:\n",
      " [[ 0.70710678+0.j  0.70710678+0.j  0.        +0.j  0.        +0.j]\n",
      " [ 0.        +0.j  0.        +0.j  0.70710678+0.j -0.70710678+0.j]\n",
      " [ 0.        +0.j  0.        +0.j  0.70710678+0.j  0.70710678+0.j]\n",
      " [ 0.70710678+0.j -0.70710678+0.j  0.        +0.j  0.        +0.j]]\n",
      "Standard (big-endian) representation:\n",
      " [[ 0.70710678+0.j  0.        +0.j  0.70710678+0.j  0.        +0.j]\n",
      " [ 0.        +0.j  0.70710678+0.j  0.        +0.j  0.70710678+0.j]\n",
      " [ 0.        +0.j  0.70710678+0.j  0.        +0.j -0.70710678+0.j]\n",
      " [ 0.70710678+0.j  0.        +0.j -0.70710678+0.j  0.        +0.j]]\n"
     ]
    }
   ],
   "source": [
    "import numpy as np\n",
    "from qiskit import QuantumCircuit\n",
    "from qiskit.quantum_info import Operator\n",
    "\n",
    "def create_circuit_matrix( qiskit_representation: bool = True) -> np.ndarray:\n",
    "  \n",
    "\n",
    "    qc = QuantumCircuit(2)\n",
    "    qc.h(0)\n",
    "    qc.cx(0, 1)\n",
    "    unitary = Operator(qc).data\n",
    "    \n",
    "    if not qiskit_representation:\n",
    "        # Convert to big-endian by reversing the order of the qubits\n",
    "        num_qubits = qc.num_qubits\n",
    "        index_order = list(range(num_qubits))[::-1]\n",
    "        unitary = unitary.reshape([2] * num_qubits * 2).transpose(index_order + [i + num_qubits for i in index_order]).reshape(2**num_qubits, 2**num_qubits)\n",
    "    \n",
    "    return unitary\n",
    "\n",
    "\n",
    "matrix_little_endian = create_circuit_matrix(qiskit_representation=True)\n",
    "print(\"Qiskit (little-endian) representation:\\n\", matrix_little_endian)\n",
    "\n",
    "matrix_big_endian = create_circuit_matrix(qiskit_representation=False)\n",
    "print(\"Standard (big-endian) representation:\\n\", matrix_big_endian)"
   ]
  },
  {
   "cell_type": "code",
   "execution_count": null,
   "id": "a70bb706-7421-4572-90a9-e2c70c8b9f03",
   "metadata": {
    "deletable": false,
    "editable": false,
    "nbgrader": {
     "cell_type": "code",
     "checksum": "0b1989a4de507c2d7e05c94e9bee93b9",
     "grade": true,
     "grade_id": "cell-147c8738c5f16b3f",
     "locked": true,
     "points": 50,
     "schema_version": 3,
     "solution": false,
     "task": false
    }
   },
   "outputs": [],
   "source": []
  },
  {
   "cell_type": "code",
   "execution_count": null,
   "id": "7029584a-63d1-463e-b21c-34e2cc08e8ba",
   "metadata": {},
   "outputs": [],
   "source": []
  }
 ],
 "metadata": {
  "kernelspec": {
   "display_name": "HEnv1",
   "language": "python",
   "name": "python3"
  },
  "language_info": {
   "codemirror_mode": {
    "name": "ipython",
    "version": 3
   },
   "file_extension": ".py",
   "mimetype": "text/x-python",
   "name": "python",
   "nbconvert_exporter": "python",
   "pygments_lexer": "ipython3",
   "version": "3.12.7"
  }
 },
 "nbformat": 4,
 "nbformat_minor": 5
}
