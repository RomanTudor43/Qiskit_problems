{
 "cells": [
  {
   "cell_type": "markdown",
   "id": "637e9e20-27ef-49f8-96c6-28532429378d",
   "metadata": {
    "deletable": false,
    "editable": false,
    "nbgrader": {
     "cell_type": "markdown",
     "checksum": "c545868bb5d15e9359b0ee3319d3e786",
     "grade": false,
     "grade_id": "cell-c077b517478d3cf0",
     "locked": true,
     "schema_version": 3,
     "solution": false,
     "task": false
    }
   },
   "source": [
    "#### PROBLEMA 17\n",
    "    Write a function phase_flip_code(input_state, error) that implements a repetition code for detecting phase-flip errors. The function should:\n",
    "        - Encode a single-qubit quantum state (input_state) into a three-qubit (repetition code) state using a stabilizer code.\n",
    "        - Apply phase-flip errors (Z gates) based on the qubit indices provided in the error list.\n",
    "        - Decode the three-qubit state and return the error syndrome after the decoding process.\n",
    "\n",
    "    The function should use stabilizer code principles to detect phase-flip errors. HINT. The circuit can be constructed starting from the previous one (problem 16) and adapt the way the Z gate can be simplified.\n"
   ]
  },
  {
   "cell_type": "code",
   "execution_count": null,
   "id": "701ae9f3-396b-42db-8dfe-fe62c41c0cfd",
   "metadata": {
    "deletable": false,
    "editable": false,
    "nbgrader": {
     "cell_type": "code",
     "checksum": "b076d91acd0a4cb2f8564b6f658b29fc",
     "grade": false,
     "grade_id": "cell-67db094aec0b417a",
     "locked": true,
     "schema_version": 3,
     "solution": false,
     "task": false
    }
   },
   "outputs": [],
   "source": [
    "!pip install numpy\n",
    "!pip install qiskit\n",
    "!pip install qiskit_aer"
   ]
  },
  {
   "cell_type": "code",
   "execution_count": 6,
   "id": "3c8049ac-73d6-4640-9bef-0424faceecf4",
   "metadata": {
    "deletable": false,
    "nbgrader": {
     "cell_type": "code",
     "checksum": "ab239fba942a759163cbd25c47b7322c",
     "grade": false,
     "grade_id": "cell-b2985341360b7b9d",
     "locked": false,
     "schema_version": 3,
     "solution": true,
     "task": false
    }
   },
   "outputs": [],
   "source": [
    "import numpy as np\n",
    "from qiskit import QuantumCircuit, transpile\n",
    "from qiskit.quantum_info import Statevector\n",
    "from qiskit_aer import AerSimulator\n",
    "\n",
    "def phase_flip_code(input_state, error_qubits):\n",
    "\n",
    "    qc = QuantumCircuit(3, 2)\n",
    "    \n",
    "    qc.initialize(Statevector(input_state), [0])\n",
    "    \n",
    "    qc.h(0)\n",
    "    qc.cx(0, 1)\n",
    "    qc.cx(0, 2)\n",
    "    qc.h(0)\n",
    "    qc.h(1)\n",
    "    qc.h(2)\n",
    "\n",
    "    for qubit in error_qubits:\n",
    "        qc.z(qubit)\n",
    "\n",
    "    qc.h(0)\n",
    "    qc.h(1)\n",
    "    qc.h(2)\n",
    "    qc.cx(1, 2)\n",
    "    qc.cx(0, 1)\n",
    "    qc.measure([1, 2], [0, 1])\n",
    "    \n",
    "\n",
    "    qc.cx(0, 2)\n",
    "    qc.cx(0, 1)\n",
    "    qc.h(0)\n",
    "    qc.h(1)\n",
    "    qc.h(2)\n",
    "    \n",
    "    # Simulate the circuit\n",
    "    backend = AerSimulator()\n",
    "    transpiled_qc = transpile(qc, backend)\n",
    "    result = backend.run(transpiled_qc, shots=1).result()\n",
    "    counts = result.get_counts(transpiled_qc)\n",
    "    return counts"
   ]
  },
  {
   "cell_type": "code",
   "execution_count": 7,
   "id": "751d1329-3c1e-476a-b3a0-9c70bf9a6158",
   "metadata": {
    "deletable": false,
    "editable": false,
    "nbgrader": {
     "cell_type": "code",
     "checksum": "18124aa7f6aa466caef9e183298bd969",
     "grade": true,
     "grade_id": "cell-5e53cca07d23857a",
     "locked": true,
     "points": 40,
     "schema_version": 3,
     "solution": false,
     "task": false
    }
   },
   "outputs": [
    {
     "ename": "AssertionError",
     "evalue": "Test failed",
     "output_type": "error",
     "traceback": [
      "\u001b[0;31m---------------------------------------------------------------------------\u001b[0m",
      "\u001b[0;31mAssertionError\u001b[0m                            Traceback (most recent call last)",
      "Cell \u001b[0;32mIn[7], line 4\u001b[0m\n\u001b[1;32m      2\u001b[0m input_state \u001b[38;5;241m=\u001b[39m [\u001b[38;5;241m1\u001b[39m\u001b[38;5;241m/\u001b[39mnp\u001b[38;5;241m.\u001b[39msqrt(\u001b[38;5;241m2\u001b[39m), \u001b[38;5;241m1\u001b[39m\u001b[38;5;241m/\u001b[39mnp\u001b[38;5;241m.\u001b[39msqrt(\u001b[38;5;241m2\u001b[39m)]\n\u001b[1;32m      3\u001b[0m out1 \u001b[38;5;241m=\u001b[39m phase_flip_code(input_state, [\u001b[38;5;241m0\u001b[39m])\n\u001b[0;32m----> 4\u001b[0m \u001b[38;5;28;01massert\u001b[39;00m exp1 \u001b[38;5;241m==\u001b[39m out1, \u001b[38;5;124mf\u001b[39m\u001b[38;5;124m\"\u001b[39m\u001b[38;5;124mTest failed\u001b[39m\u001b[38;5;124m\"\u001b[39m\n",
      "\u001b[0;31mAssertionError\u001b[0m: Test failed"
     ]
    }
   ],
   "source": [
    "exp1 = '01'\n",
    "input_state = [1/np.sqrt(2), 1/np.sqrt(2)]\n",
    "out1 = phase_flip_code(input_state, [0])\n",
    "assert exp1 == out1, f\"Test failed\""
   ]
  },
  {
   "cell_type": "code",
   "execution_count": 5,
   "id": "09ce764d",
   "metadata": {},
   "outputs": [
    {
     "name": "stdout",
     "output_type": "stream",
     "text": [
      "{'01': 1}\n"
     ]
    }
   ],
   "source": [
    "    error_qubits = [0]    \n",
    "    qc = QuantumCircuit(3, 2)\n",
    "    \n",
    "    qc.initialize(Statevector(input_state), [0])\n",
    "    \n",
    "    qc.h(0)\n",
    "    qc.cx(0, 1)\n",
    "    qc.cx(0, 2)\n",
    "    qc.h(0)\n",
    "    qc.h(1)\n",
    "    qc.h(2)\n",
    "\n",
    "    for qubit in error_qubits:\n",
    "        qc.z(qubit)\n",
    "\n",
    "    qc.h(0)\n",
    "    qc.h(1)\n",
    "    qc.h(2)\n",
    "    qc.cx(1, 2)\n",
    "    qc.cx(0, 1)\n",
    "    qc.measure([1, 2], [0, 1])\n",
    "    \n",
    "\n",
    "    qc.cx(0, 2)\n",
    "    qc.cx(0, 1)\n",
    "    qc.h(0)\n",
    "    qc.h(1)\n",
    "    qc.h(2)\n",
    "    \n",
    "    # Simulate the circuit\n",
    "    backend = AerSimulator()\n",
    "    transpiled_qc = transpile(qc, backend)\n",
    "    result = backend.run(transpiled_qc, shots=1).result()\n",
    "    counts = result.get_counts(transpiled_qc)\n",
    "    print(counts)"
   ]
  }
 ],
 "metadata": {
  "kernelspec": {
   "display_name": "HEnv1",
   "language": "python",
   "name": "python3"
  },
  "language_info": {
   "codemirror_mode": {
    "name": "ipython",
    "version": 3
   },
   "file_extension": ".py",
   "mimetype": "text/x-python",
   "name": "python",
   "nbconvert_exporter": "python",
   "pygments_lexer": "ipython3",
   "version": "3.12.7"
  }
 },
 "nbformat": 4,
 "nbformat_minor": 5
}
