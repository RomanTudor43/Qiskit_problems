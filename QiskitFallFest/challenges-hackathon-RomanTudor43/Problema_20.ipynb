{
 "cells": [
  {
   "cell_type": "markdown",
   "id": "13a73120-a7c3-4012-9e7e-e7eff9e31c0c",
   "metadata": {
    "deletable": false,
    "editable": false,
    "nbgrader": {
     "cell_type": "markdown",
     "checksum": "8671464ab4d109d37a28724dc40d81c2",
     "grade": false,
     "grade_id": "cell-725962cce08dadf3",
     "locked": true,
     "schema_version": 3,
     "solution": false,
     "task": false
    }
   },
   "source": [
    "#### PROBLEMA 20\n",
    "    Write a function measure_in_basis(state_vector, basis_matrix) that measures a qubit initially in the computational basis in an arbitrary basis defined by basis_matrix. The matrix represents the basis of transformation. The function should:\n",
    "        1. Verify that basis_matrix is unitary; if not, raise an error with the message 'matrix is not unitary'.\n",
    "        2. Compute and return the probabilities of measurement outcomes in the specified basis as an array.\n"
   ]
  },
  {
   "cell_type": "code",
   "execution_count": null,
   "id": "1a15e397-acf0-464d-aa3a-f428aaa351d8",
   "metadata": {
    "deletable": false,
    "editable": false,
    "nbgrader": {
     "cell_type": "code",
     "checksum": "6ab29b6210e41d8f41f803aea1e194a8",
     "grade": false,
     "grade_id": "cell-a472fabf6494bf80",
     "locked": true,
     "schema_version": 3,
     "solution": false,
     "task": false
    }
   },
   "outputs": [],
   "source": [
    "!pip install numpy\n",
    "!pip install qiskit\n",
    "!pip install qiskit_aer"
   ]
  },
  {
   "cell_type": "code",
   "execution_count": null,
   "id": "d2942924-0417-4a2d-a452-5682b303526e",
   "metadata": {
    "deletable": false,
    "nbgrader": {
     "cell_type": "code",
     "checksum": "a28f2c9c425a0a757447315e53b03b4f",
     "grade": false,
     "grade_id": "cell-98319709080d8d73",
     "locked": false,
     "schema_version": 3,
     "solution": true,
     "task": false
    }
   },
   "outputs": [],
   "source": [
    "import numpy as np\n",
    "\n",
    "def measure_in_basis(state_vector, basis_matrix):\n",
    "    # YOUR CODE HERE\n",
    "    raise NotImplementedError()"
   ]
  },
  {
   "cell_type": "code",
   "execution_count": null,
   "id": "a169fb30-3515-497a-8398-f3f0bc9ca139",
   "metadata": {
    "deletable": false,
    "editable": false,
    "nbgrader": {
     "cell_type": "code",
     "checksum": "e4dcdc9de7993be4eba2e3491e5ff1fc",
     "grade": true,
     "grade_id": "cell-7818584f4ceea0e8",
     "locked": true,
     "points": 20,
     "schema_version": 3,
     "solution": false,
     "task": false
    }
   },
   "outputs": [],
   "source": [
    "exp1 = [0.4999999999999999, 0.4999999999999999]\n",
    "state = np.array([0.6, -0.8j])\n",
    "X_obs_gate = (1/np.sqrt(2)) * np.array([[1, 1],[1, -1]])\n",
    "out1 = measure_in_basis(state, X_obs_gate)\n",
    "assert np.allclose(exp1, out1), f\"Test failed\""
   ]
  },
  {
   "cell_type": "code",
   "execution_count": null,
   "id": "86d9fb66-0ef8-4975-9bf9-1bab9f52a69d",
   "metadata": {
    "deletable": false,
    "editable": false,
    "nbgrader": {
     "cell_type": "code",
     "checksum": "2c9f954ff90bbdb49c5a5667e70b2d24",
     "grade": true,
     "grade_id": "cell-78f9dfd3cce189f2",
     "locked": true,
     "points": 20,
     "schema_version": 3,
     "solution": false,
     "task": false
    }
   },
   "outputs": [],
   "source": []
  },
  {
   "cell_type": "code",
   "execution_count": null,
   "id": "5a429d33-df00-48e0-a184-90c7c23a3904",
   "metadata": {
    "deletable": false,
    "editable": false,
    "nbgrader": {
     "cell_type": "code",
     "checksum": "3993503f41a9b84d52d22e5244c6b81f",
     "grade": true,
     "grade_id": "cell-3ab5f59e7a7e14b3",
     "locked": true,
     "points": 20,
     "schema_version": 3,
     "solution": false,
     "task": false
    }
   },
   "outputs": [],
   "source": []
  },
  {
   "cell_type": "code",
   "execution_count": null,
   "id": "24194075-d726-494d-84ee-106b19e9f597",
   "metadata": {
    "deletable": false,
    "editable": false,
    "nbgrader": {
     "cell_type": "code",
     "checksum": "dc541686887cc1b5bbd1a2453ac1f7a4",
     "grade": true,
     "grade_id": "cell-66a0bd069e5b4e44",
     "locked": true,
     "points": 20,
     "schema_version": 3,
     "solution": false,
     "task": false
    }
   },
   "outputs": [],
   "source": []
  },
  {
   "cell_type": "code",
   "execution_count": null,
   "id": "d8678f03-d729-44e3-b686-ce020155f934",
   "metadata": {
    "deletable": false,
    "editable": false,
    "nbgrader": {
     "cell_type": "code",
     "checksum": "4b8aca4fb5316f2245d63b5d98c5f97f",
     "grade": true,
     "grade_id": "cell-77073002ecd639e6",
     "locked": true,
     "points": 20,
     "schema_version": 3,
     "solution": false,
     "task": false
    }
   },
   "outputs": [],
   "source": []
  }
 ],
 "metadata": {
  "kernelspec": {
   "display_name": "Python 3 (ipykernel)",
   "language": "python",
   "name": "python3"
  },
  "language_info": {
   "codemirror_mode": {
    "name": "ipython",
    "version": 3
   },
   "file_extension": ".py",
   "mimetype": "text/x-python",
   "name": "python",
   "nbconvert_exporter": "python",
   "pygments_lexer": "ipython3",
   "version": "3.10.11"
  }
 },
 "nbformat": 4,
 "nbformat_minor": 5
}
