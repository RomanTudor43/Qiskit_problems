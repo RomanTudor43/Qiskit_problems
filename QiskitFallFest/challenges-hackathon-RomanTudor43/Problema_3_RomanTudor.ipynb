{
 "cells": [
  {
   "cell_type": "markdown",
   "id": "14723704-9707-4262-a15e-12928f065b2e",
   "metadata": {
    "deletable": false,
    "editable": false,
    "nbgrader": {
     "cell_type": "markdown",
     "checksum": "a1db1a00feae8f7d1532e01a36dc78cb",
     "grade": false,
     "grade_id": "cell-b4d7932d88cd878f",
     "locked": true,
     "schema_version": 3,
     "solution": false,
     "task": false
    }
   },
   "source": [
    "# `create_W_state(shots, seed)`\n",
    "\n",
    "### Task\n",
    "Implement a function `create_W_state(shots, seed)` that generates a W state starting from the initial state ∣000⟩. The function should:\n",
    "\n",
    "1. **Prepare the W State**: Use a quantum circuit to create the W state:\n",
    "   $$(\n",
    "   |W⟩ = \\frac{1}{\\sqrt{3}}(|100⟩ + |010⟩ + |001⟩)\n",
    "   )$$\n",
    "\n",
    "2. **Simulate the Circuit**: Use a quantum simulator to execute the circuit with the specified `shots` and `seed`.\n",
    "\n",
    "3. **Return Results**: Output the measurement results (counts) from the simulation.\n",
    "\n",
    "---\n",
    "\n",
    "### Parameters\n",
    "- **`shots`** (`int`): The number of measurements for the simulation.\n",
    "- **`seed`** (`int`): The seed for the random number generator to ensure reproducibility.\n",
    "\n",
    "---\n",
    "\n",
    "### Functionality Requirements\n",
    "1. **Initial State**: Start with the state ∣000⟩.\n",
    "2. **Circuit Design**:\n",
    "   - Apply gates to transform ∣000⟩ into the W state.\n",
    "3. **Simulation**: Run the circuit using a quantum simulator.\n",
    "4. **Return**: The measurement results (counts)."
   ]
  },
  {
   "cell_type": "code",
   "execution_count": null,
   "id": "f88f090e-9480-4206-aab7-d01f3b960545",
   "metadata": {
    "deletable": false,
    "editable": false,
    "nbgrader": {
     "cell_type": "code",
     "checksum": "65cb7f6e6c4f7d07c8fbbedd4c6cc34b",
     "grade": false,
     "grade_id": "cell-1467163a037cc337",
     "locked": true,
     "schema_version": 3,
     "solution": false,
     "task": false
    }
   },
   "outputs": [],
   "source": [
    "!pip install numpy\n",
    "!pip install qiskit\n",
    "!pip install qiskit_aer"
   ]
  },
  {
   "cell_type": "code",
   "execution_count": 10,
   "id": "88ce9082-3ae8-40d6-9bbe-3baea99b3a94",
   "metadata": {
    "deletable": false,
    "nbgrader": {
     "cell_type": "code",
     "checksum": "37bfc97df1abbc343c536ea992aad06b",
     "grade": false,
     "grade_id": "cell-04fd3fd43ebd8174",
     "locked": false,
     "schema_version": 3,
     "solution": true,
     "task": false
    }
   },
   "outputs": [],
   "source": [
    "import numpy as np\n",
    "from qiskit_aer import AerSimulator\n",
    "from qiskit import QuantumCircuit, transpile\n",
    "import matplotlib.pyplot as plt\n",
    "\n",
    "def create_W_state(shots, seed):\n",
    "     qc = QuantumCircuit(3)\n",
    " \n",
    "     qc.ry(2 * np.arccos(1 / np.sqrt(3)), 0)\n",
    "     qc.ch(0,1)\n",
    "     qc.cx(1,2)\n",
    "     qc.cx(0, 1)\n",
    "     qc.x(0)\n",
    "     qc.draw('mpl')\n",
    "     qc.measure_all()\n",
    "   \n",
    "     plt.show()\n",
    "     backend = AerSimulator()\n",
    "    \n",
    "     transpiled_qc = transpile(qc, backend)\n",
    "\n",
    "     job = backend.run(transpiled_qc, shots=shots, seed_simulator=seed)\n",
    "\n",
    "     result = job.result()\n",
    "     counts = result.get_counts(transpiled_qc)\n",
    "     print(counts)\n",
    "\n",
    "\n",
    "     return counts"
   ]
  },
  {
   "cell_type": "code",
   "execution_count": 9,
   "id": "0d3d7726-cb30-49f2-8d08-6143f9608d14",
   "metadata": {
    "deletable": false,
    "editable": false,
    "nbgrader": {
     "cell_type": "code",
     "checksum": "89fa2e2994299e535398da9048c969f7",
     "grade": true,
     "grade_id": "cell-c86d340314477725",
     "locked": true,
     "points": 10,
     "schema_version": 3,
     "solution": false,
     "task": false
    }
   },
   "outputs": [
    {
     "name": "stdout",
     "output_type": "stream",
     "text": [
      "{'001': 3256, '100': 3429, '010': 3315}\n"
     ]
    }
   ],
   "source": [
    "counts_expected = {'010': 3315, '100': 3429, '001': 3256}\n",
    "cts = create_W_state(10000, 10)\n",
    "assert cts == counts_expected, f\"Test Failed\""
   ]
  },
  {
   "cell_type": "code",
   "execution_count": null,
   "id": "83b792b9-988c-4dc8-942f-1a1982d70c63",
   "metadata": {
    "deletable": false,
    "editable": false,
    "nbgrader": {
     "cell_type": "code",
     "checksum": "e441e047c364b902bb46f4dd8a154380",
     "grade": true,
     "grade_id": "cell-69ebaffbf2824e0f",
     "locked": true,
     "points": 30,
     "schema_version": 3,
     "solution": false,
     "task": false
    }
   },
   "outputs": [],
   "source": []
  },
  {
   "cell_type": "code",
   "execution_count": null,
   "id": "7679dbfd-b0eb-4fd0-9081-3e44c4ada7ce",
   "metadata": {
    "deletable": false,
    "editable": false,
    "nbgrader": {
     "cell_type": "code",
     "checksum": "596e72552881747f5622df0c5a036e92",
     "grade": true,
     "grade_id": "cell-9cb74ace68b50d3f",
     "locked": true,
     "points": 30,
     "schema_version": 3,
     "solution": false,
     "task": false
    }
   },
   "outputs": [],
   "source": []
  }
 ],
 "metadata": {
  "kernelspec": {
   "display_name": "HEnv1",
   "language": "python",
   "name": "python3"
  },
  "language_info": {
   "codemirror_mode": {
    "name": "ipython",
    "version": 3
   },
   "file_extension": ".py",
   "mimetype": "text/x-python",
   "name": "python",
   "nbconvert_exporter": "python",
   "pygments_lexer": "ipython3",
   "version": "3.12.7"
  }
 },
 "nbformat": 4,
 "nbformat_minor": 5
}
