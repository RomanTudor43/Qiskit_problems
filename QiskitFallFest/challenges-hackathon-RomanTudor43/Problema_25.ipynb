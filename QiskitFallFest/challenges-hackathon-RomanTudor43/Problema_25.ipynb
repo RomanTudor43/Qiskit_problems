{
 "cells": [
  {
   "cell_type": "markdown",
   "id": "7391fd85-861b-4ece-93eb-596a35542693",
   "metadata": {
    "deletable": false,
    "editable": false,
    "nbgrader": {
     "cell_type": "markdown",
     "checksum": "679908da7fa6460a2af57e189ce174c4",
     "grade": false,
     "grade_id": "cell-7fea72d6e438b61a",
     "locked": true,
     "schema_version": 3,
     "solution": false,
     "task": false
    }
   },
   "source": [
    "### PROBLEMA 25\n",
    "    Write a function custom_measurement_circuit that takes the following arguments: input_state (a state in the computational basis), observable (a Hermitian operator to measure), seed (to initialize a quantum simulator), and shots (the number of measurement runs). The function should construct a quantum circuit that measures the input_state in the eigenbasis of the observable. It should then return the expected value of the measurement based on the simulator's initialization and the specified number of shots.\n"
   ]
  },
  {
   "cell_type": "code",
   "execution_count": null,
   "id": "b3a50deb-c7e3-4bf2-b6d5-8a492e1fc46c",
   "metadata": {
    "deletable": false,
    "editable": false,
    "nbgrader": {
     "cell_type": "code",
     "checksum": "28cb4c09efbc379e181ddf880277bd0e",
     "grade": false,
     "grade_id": "cell-b3e29d9a478b73d2",
     "locked": true,
     "schema_version": 3,
     "solution": false,
     "task": false
    }
   },
   "outputs": [],
   "source": [
    "!pip install numpy\n",
    "!pip install qiskit\n",
    "!pip install qiskit_aer"
   ]
  },
  {
   "cell_type": "code",
   "execution_count": null,
   "id": "07dd6c3c-94df-4d35-a7be-c85e6b4c9f30",
   "metadata": {
    "deletable": false,
    "nbgrader": {
     "cell_type": "code",
     "checksum": "41a8ec1e044a9c9b0198fb7f9618a740",
     "grade": false,
     "grade_id": "cell-20afaa1c6d11cb65",
     "locked": false,
     "schema_version": 3,
     "solution": true,
     "task": false
    }
   },
   "outputs": [],
   "source": [
    "import numpy as np\n",
    "from qiskit import QuantumCircuit, transpile\n",
    "from qiskit.quantum_info import Statevector\n",
    "from qiskit_aer import AerSimulator\n",
    "from qiskit.circuit.library import UnitaryGate\n",
    "\n",
    "\n",
    "def custom_measurement_circuit(input_state, observable, seed, shots):\n",
    "    # YOUR CODE HERE\n",
    "    raise NotImplementedError()\n",
    "    "
   ]
  },
  {
   "cell_type": "code",
   "execution_count": null,
   "id": "a10adee4-897b-4dbb-b05f-82249d93cb5c",
   "metadata": {
    "deletable": false,
    "editable": false,
    "nbgrader": {
     "cell_type": "code",
     "checksum": "8ff16e3f92df978f41e35fb7ca06b5dc",
     "grade": true,
     "grade_id": "cell-ab0b02526e637719",
     "locked": true,
     "points": 10,
     "schema_version": 3,
     "solution": false,
     "task": false
    }
   },
   "outputs": [],
   "source": [
    "exp1 = -0.30319999999999997\n",
    "Z_obs = np.array([[1, 0], [0, -1]])\n",
    "state1 = np.array([0.6, +0.8j])\n",
    "out1 = custom_measurement_circuit(state1, Z_obs, 10, 5000)\n",
    "assert np.allclose(out1, exp1), f\"Test failed\""
   ]
  },
  {
   "cell_type": "code",
   "execution_count": null,
   "id": "85cf3597-8784-4071-ac66-6e88471b69b9",
   "metadata": {
    "deletable": false,
    "editable": false,
    "nbgrader": {
     "cell_type": "code",
     "checksum": "089be3b49b2e4520a97dddce407943b4",
     "grade": true,
     "grade_id": "cell-ebb86b4512fa31e3",
     "locked": true,
     "points": 18,
     "schema_version": 3,
     "solution": false,
     "task": false
    }
   },
   "outputs": [],
   "source": []
  },
  {
   "cell_type": "code",
   "execution_count": null,
   "id": "5bf6150f-07b5-4d10-af3a-b731efe6f3e4",
   "metadata": {
    "deletable": false,
    "editable": false,
    "nbgrader": {
     "cell_type": "code",
     "checksum": "c69b3cf8f3b4f5efb3d657970685bd7d",
     "grade": true,
     "grade_id": "cell-0395004221150776",
     "locked": true,
     "points": 18,
     "schema_version": 3,
     "solution": false,
     "task": false
    }
   },
   "outputs": [],
   "source": []
  },
  {
   "cell_type": "code",
   "execution_count": null,
   "id": "e750ef7d-6664-4a20-bdf8-a48655cd6ce6",
   "metadata": {
    "deletable": false,
    "editable": false,
    "nbgrader": {
     "cell_type": "code",
     "checksum": "1144f9da26631ea83d0bc0f6efeac87f",
     "grade": true,
     "grade_id": "cell-11c8e4fd40179a25",
     "locked": true,
     "points": 18,
     "schema_version": 3,
     "solution": false,
     "task": false
    }
   },
   "outputs": [],
   "source": []
  },
  {
   "cell_type": "code",
   "execution_count": null,
   "id": "b2c8e595-c4b3-4132-8e74-40c01411c104",
   "metadata": {
    "deletable": false,
    "editable": false,
    "nbgrader": {
     "cell_type": "code",
     "checksum": "a22b4961214a8720827bfdb0ff795ee9",
     "grade": true,
     "grade_id": "cell-b10623d7e5db4de8",
     "locked": true,
     "points": 18,
     "schema_version": 3,
     "solution": false,
     "task": false
    }
   },
   "outputs": [],
   "source": []
  },
  {
   "cell_type": "code",
   "execution_count": null,
   "id": "7a437cde-42bc-4336-8948-09d4a34ca5eb",
   "metadata": {
    "deletable": false,
    "editable": false,
    "nbgrader": {
     "cell_type": "code",
     "checksum": "23bd8e657cddf0241af1806102898829",
     "grade": true,
     "grade_id": "cell-1901b5010b5a8fb9",
     "locked": true,
     "points": 18,
     "schema_version": 3,
     "solution": false,
     "task": false
    }
   },
   "outputs": [],
   "source": []
  }
 ],
 "metadata": {
  "kernelspec": {
   "display_name": "Python 3 (ipykernel)",
   "language": "python",
   "name": "python3"
  },
  "language_info": {
   "codemirror_mode": {
    "name": "ipython",
    "version": 3
   },
   "file_extension": ".py",
   "mimetype": "text/x-python",
   "name": "python",
   "nbconvert_exporter": "python",
   "pygments_lexer": "ipython3",
   "version": "3.10.11"
  }
 },
 "nbformat": 4,
 "nbformat_minor": 5
}
