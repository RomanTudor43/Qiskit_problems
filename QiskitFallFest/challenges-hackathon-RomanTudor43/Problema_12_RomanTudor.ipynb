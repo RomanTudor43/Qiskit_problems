{
 "cells": [
  {
   "cell_type": "markdown",
   "id": "e191a08e-596c-48c5-bfc7-c6b1db3ddb00",
   "metadata": {
    "deletable": false,
    "editable": false,
    "nbgrader": {
     "cell_type": "markdown",
     "checksum": "f471a15a3bb050a0701836e321f90ec2",
     "grade": false,
     "grade_id": "cell-cb2b0fedcb7da5fc",
     "locked": true,
     "schema_version": 3,
     "solution": false,
     "task": false
    }
   },
   "source": [
    "#### PROBLEMA 12\n",
    "    Write a function qft_then_inverse_qft(num_qubits, input_state) that constructs a quantum circuit for a given number of qubits (num_qubits) and an input_state represented as a list or array of complex coefficients. The circuit should apply the Quantum Fourier Transform (QFT) followed by its inverse to the input_state. The function should return the final state vector after these operations.\n"
   ]
  },
  {
   "cell_type": "code",
   "execution_count": null,
   "id": "a65855ae-447c-4109-9bba-9e17a3dc3fdd",
   "metadata": {
    "deletable": false,
    "editable": false,
    "nbgrader": {
     "cell_type": "code",
     "checksum": "fe4468703488a44793a4ee7dca33c88f",
     "grade": false,
     "grade_id": "cell-8ac6e5d3bcddef76",
     "locked": true,
     "schema_version": 3,
     "solution": false,
     "task": false
    }
   },
   "outputs": [],
   "source": [
    "!pip install numpy\n",
    "!pip install qiskit\n",
    "!pip install qiskit_aer"
   ]
  },
  {
   "cell_type": "code",
   "execution_count": 5,
   "id": "651d4eed-8b0d-4856-bf81-1910ad55a6ee",
   "metadata": {
    "deletable": false,
    "nbgrader": {
     "cell_type": "code",
     "checksum": "246aae579662dab0409c2eb8aaf1ebf2",
     "grade": false,
     "grade_id": "cell-93832c5ab582d6f1",
     "locked": false,
     "schema_version": 3,
     "solution": true,
     "task": false
    }
   },
   "outputs": [],
   "source": [
    "from qiskit import QuantumCircuit\n",
    "from qiskit.quantum_info import Statevector\n",
    "import numpy as np\n",
    "\n",
    "def apply_inverse_qft(circuit, num_qubits):\n",
    "    \n",
    "    \n",
    "    # Reverse the order of the qubits\n",
    "    for i in range(num_qubits // 2):\n",
    "        circuit.swap(i, num_qubits - i - 1)\n",
    "        # back iteration and negative angle for inverse\n",
    "    for qubit in range(num_qubits - 1, -1, -1): \n",
    "        for control_qubit in range(num_qubits - 1, qubit, -1):\n",
    "            angle = -np.pi / (2 ** (control_qubit - qubit))\n",
    "            circuit.cp(angle, control_qubit, qubit)\n",
    "        \n",
    "        circuit.h(qubit)\n",
    "\n",
    "def apply_qft(circuit, num_qubits):\n",
    "    for qubit in range(num_qubits):\n",
    "   \n",
    "        circuit.h(qubit)\n",
    "        \n",
    "        for control_qubit in range(qubit + 1, num_qubits):\n",
    "            angle = np.pi / (2 ** (control_qubit - qubit))\n",
    "            circuit.cp(angle, control_qubit, qubit)\n",
    "    \n",
    "    for i in range(num_qubits // 2):\n",
    "        circuit.swap(i, num_qubits - i - 1)\n",
    "\n",
    "def qft_then_inverse_qft(num_qubits, input_state):\n",
    "    qc = QuantumCircuit(num_qubits)\n",
    "    qc.initialize(Statevector(input_state), range(num_qubits))\n",
    "    apply_qft(qc, num_qubits)\n",
    "    apply_inverse_qft(qc, num_qubits)\n",
    "    final_state = Statevector.from_instruction(qc)\n",
    "    return final_state\n",
    "\n"
   ]
  },
  {
   "cell_type": "code",
   "execution_count": 6,
   "id": "059de63a-4ca0-45cf-a618-062fba6374fd",
   "metadata": {
    "deletable": false,
    "editable": false,
    "nbgrader": {
     "cell_type": "code",
     "checksum": "5bf736fc2f3a4c38332ae3e32d60230b",
     "grade": true,
     "grade_id": "cell-aebc550b7700cd95",
     "locked": true,
     "points": 50,
     "schema_version": 3,
     "solution": false,
     "task": false
    }
   },
   "outputs": [],
   "source": [
    "exp1 = [0.5+0.j, 0.5+0.j, 0.5+0.j, 0.5+0.j]\n",
    "input_state1 = [1/2, 1/2, 1/2, 1/2]\n",
    "out1 = qft_then_inverse_qft(2, input_state1).data\n",
    "assert np.allclose(out1, exp1), f\"Test failed\""
   ]
  },
  {
   "cell_type": "code",
   "execution_count": null,
   "id": "23d0ffeb-e7cc-4944-aea3-3a9008f47787",
   "metadata": {
    "deletable": false,
    "editable": false,
    "nbgrader": {
     "cell_type": "code",
     "checksum": "42c9d662f625345af70ef3ac054e7831",
     "grade": true,
     "grade_id": "cell-8caaf115a91f0e68",
     "locked": true,
     "points": 50,
     "schema_version": 3,
     "solution": false,
     "task": false
    }
   },
   "outputs": [],
   "source": []
  },
  {
   "cell_type": "code",
   "execution_count": null,
   "id": "70394539-04ca-4e83-b5d7-e3155383589b",
   "metadata": {
    "deletable": false,
    "editable": false,
    "nbgrader": {
     "cell_type": "code",
     "checksum": "9724ebed95641dbbf1a41be4f521b690",
     "grade": true,
     "grade_id": "cell-bae72a23805f29c3",
     "locked": true,
     "points": 50,
     "schema_version": 3,
     "solution": false,
     "task": false
    }
   },
   "outputs": [],
   "source": []
  },
  {
   "cell_type": "code",
   "execution_count": null,
   "id": "7d7408eb-ac04-4f7d-8b3c-68e36f0c87db",
   "metadata": {
    "deletable": false,
    "editable": false,
    "nbgrader": {
     "cell_type": "code",
     "checksum": "6d825db660fe439fc1a3cf21e538d5de",
     "grade": true,
     "grade_id": "cell-324df13cdaef9472",
     "locked": true,
     "points": 50,
     "schema_version": 3,
     "solution": false,
     "task": false
    }
   },
   "outputs": [],
   "source": []
  },
  {
   "cell_type": "code",
   "execution_count": null,
   "id": "99dcc643-8333-4f65-b613-8174c0127341",
   "metadata": {
    "deletable": false,
    "editable": false,
    "nbgrader": {
     "cell_type": "code",
     "checksum": "8acc1d53508a318291ec4693b72c4e0c",
     "grade": true,
     "grade_id": "cell-8bfda5843ae31e62",
     "locked": true,
     "points": 50,
     "schema_version": 3,
     "solution": false,
     "task": false
    }
   },
   "outputs": [],
   "source": []
  },
  {
   "cell_type": "code",
   "execution_count": null,
   "id": "4fda043a-ea2a-4655-b62b-0d52b9e4aca6",
   "metadata": {
    "deletable": false,
    "editable": false,
    "nbgrader": {
     "cell_type": "code",
     "checksum": "69fc2be2096e622128b86196bc22dcb8",
     "grade": true,
     "grade_id": "cell-05540d195c01215d",
     "locked": true,
     "points": 50,
     "schema_version": 3,
     "solution": false,
     "task": false
    }
   },
   "outputs": [],
   "source": []
  }
 ],
 "metadata": {
  "kernelspec": {
   "display_name": "HEnv1",
   "language": "python",
   "name": "python3"
  },
  "language_info": {
   "codemirror_mode": {
    "name": "ipython",
    "version": 3
   },
   "file_extension": ".py",
   "mimetype": "text/x-python",
   "name": "python",
   "nbconvert_exporter": "python",
   "pygments_lexer": "ipython3",
   "version": "3.12.7"
  }
 },
 "nbformat": 4,
 "nbformat_minor": 5
}
