{
 "cells": [
  {
   "cell_type": "markdown",
   "id": "6c863a34-1c12-4020-b0bb-dcb2815fa205",
   "metadata": {
    "deletable": false,
    "editable": false,
    "nbgrader": {
     "cell_type": "markdown",
     "checksum": "461ab0307bb140c7c02cd1f88325a94c",
     "grade": false,
     "grade_id": "cell-e4a79e22e6717786",
     "locked": true,
     "schema_version": 3,
     "solution": false,
     "task": false
    }
   },
   "source": [
    "Write a function is_quantum_gate(matrix) that determines whether a given matrix represents a valid quantum gate. The function should return True if the matrix satisfies the necessary conditions for a quantum gate and False otherwise."
   ]
  },
  {
   "cell_type": "code",
   "execution_count": null,
   "id": "99c08cd0-3653-4274-a833-7d70be52196a",
   "metadata": {
    "deletable": false,
    "editable": false,
    "nbgrader": {
     "cell_type": "code",
     "checksum": "c6028480998e84d24b9328d45a81d19c",
     "grade": false,
     "grade_id": "cell-08d6021d86dc1b45",
     "locked": true,
     "schema_version": 3,
     "solution": false,
     "task": false
    }
   },
   "outputs": [],
   "source": [
    "!pip install numpy"
   ]
  },
  {
   "cell_type": "code",
   "execution_count": 3,
   "id": "263205e1-2b78-478e-afa6-858527cf0bfa",
   "metadata": {
    "deletable": false,
    "nbgrader": {
     "cell_type": "code",
     "checksum": "ce066eca5080f2892b18f877a2078d6f",
     "grade": false,
     "grade_id": "Problema8",
     "locked": false,
     "schema_version": 3,
     "solution": true,
     "task": false
    }
   },
   "outputs": [],
   "source": [
    "import numpy as np\n",
    "def is_quantum_gate(matrix):\n",
    "    conjugate_transpose = matrix.conj().T\n",
    "    inverse = np.linalg.inv(matrix)\n",
    "    return np.array_equal(conjugate_transpose, inverse)\n",
    "    \n"
   ]
  },
  {
   "cell_type": "code",
   "execution_count": 4,
   "id": "f9cdb6fd-14dc-4895-bcbb-2bf36ca62a56",
   "metadata": {
    "deletable": false,
    "editable": false,
    "nbgrader": {
     "cell_type": "code",
     "checksum": "e5a5ef00fc53954c123f6c28f108550d",
     "grade": true,
     "grade_id": "Problema8_T1",
     "locked": true,
     "points": 4,
     "schema_version": 3,
     "solution": false,
     "task": false
    }
   },
   "outputs": [],
   "source": [
    "''' test 1 '''\n",
    "exp = True\n",
    "matrix = np.array([[1, 0], [0, 1]])\n",
    "out = is_quantum_gate(matrix)\n",
    "assert exp == out, f\"Test failed\"\n"
   ]
  },
  {
   "cell_type": "code",
   "execution_count": null,
   "id": "d3fc6c64-4b71-408d-a6a9-9e7476bc2848",
   "metadata": {
    "deletable": false,
    "editable": false,
    "nbgrader": {
     "cell_type": "code",
     "checksum": "1d21772cb41ded5c61326fc87f5eb7b5",
     "grade": true,
     "grade_id": "Problema8_T3",
     "locked": true,
     "points": 24,
     "schema_version": 3,
     "solution": false,
     "task": false
    }
   },
   "outputs": [],
   "source": []
  },
  {
   "cell_type": "code",
   "execution_count": null,
   "id": "1d54ee87-c7e9-416c-a609-2296e9464925",
   "metadata": {
    "deletable": false,
    "editable": false,
    "nbgrader": {
     "cell_type": "code",
     "checksum": "1e81d0aefa965cbd1b75bb7fb22dff3a",
     "grade": true,
     "grade_id": "Problema8_T4",
     "locked": true,
     "points": 24,
     "schema_version": 3,
     "solution": false,
     "task": false
    }
   },
   "outputs": [],
   "source": []
  },
  {
   "cell_type": "code",
   "execution_count": null,
   "id": "42fc1b2e-a674-488e-a38e-aee6dd2eaace",
   "metadata": {
    "deletable": false,
    "editable": false,
    "nbgrader": {
     "cell_type": "code",
     "checksum": "1ac6ebc422c81241a59a4abee6c2aaaf",
     "grade": true,
     "grade_id": "Problema8_T5",
     "locked": true,
     "points": 24,
     "schema_version": 3,
     "solution": false,
     "task": false
    }
   },
   "outputs": [],
   "source": []
  },
  {
   "cell_type": "code",
   "execution_count": null,
   "id": "11651dc1-cfed-44a7-9b0e-8707e01180bf",
   "metadata": {},
   "outputs": [],
   "source": []
  }
 ],
 "metadata": {
  "kernelspec": {
   "display_name": "HEnv1",
   "language": "python",
   "name": "python3"
  },
  "language_info": {
   "codemirror_mode": {
    "name": "ipython",
    "version": 3
   },
   "file_extension": ".py",
   "mimetype": "text/x-python",
   "name": "python",
   "nbconvert_exporter": "python",
   "pygments_lexer": "ipython3",
   "version": "3.12.7"
  }
 },
 "nbformat": 4,
 "nbformat_minor": 5
}
