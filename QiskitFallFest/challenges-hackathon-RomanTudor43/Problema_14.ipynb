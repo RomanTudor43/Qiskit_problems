{
 "cells": [
  {
   "cell_type": "markdown",
   "id": "0b9de5ab-8333-4f9e-8f4d-c3385b2dec48",
   "metadata": {
    "deletable": false,
    "editable": false,
    "nbgrader": {
     "cell_type": "markdown",
     "checksum": "9ec8d03b36310d1653205035ec2ff6ad",
     "grade": false,
     "grade_id": "cell-2848e2769e96a7e2",
     "locked": true,
     "schema_version": 3,
     "solution": false,
     "task": false
    }
   },
   "source": [
    "#### PROBLEMA 14\n",
    "    Write a function quantum_addition(a, b) that performs quantum addition of two integers, a and b. The function should:\n",
    "    - Prepare the input quantum state based on the binary representation of a, with qubit_0 as the least significant bit (LSB) and qubit_n as the most significant bit (MSB), where qubit_0 is the first qubit in the circuit, as conventionally represented.\n",
    "    - Construct a quantum circuit that adds b to a, ensuring the resulting quantum state encodes the binary representation of a+ba + ba+b.\n",
    "    - Combine all operations into a single gate and return the resulting gate as a quantum circuit.\n"
   ]
  },
  {
   "cell_type": "code",
   "execution_count": null,
   "id": "98b0d781-1cda-411a-ae7a-3f5532c63f82",
   "metadata": {
    "deletable": false,
    "editable": false,
    "nbgrader": {
     "cell_type": "code",
     "checksum": "58018d4b4f8e92ad89b0e567df106f2e",
     "grade": false,
     "grade_id": "cell-81ac0f6b9b125416",
     "locked": true,
     "schema_version": 3,
     "solution": false,
     "task": false
    }
   },
   "outputs": [],
   "source": [
    "!pip install numpy\n",
    "!pip install qiskit\n",
    "!pip install qiskit_aer"
   ]
  },
  {
   "cell_type": "code",
   "execution_count": null,
   "id": "2e181dec-1784-4a63-8a0b-b3ca4c6612e3",
   "metadata": {
    "deletable": false,
    "nbgrader": {
     "cell_type": "code",
     "checksum": "ea2c18153ac80ac4e8eb83749f810116",
     "grade": false,
     "grade_id": "cell-486f064b05395e04",
     "locked": false,
     "schema_version": 3,
     "solution": true,
     "task": false
    }
   },
   "outputs": [],
   "source": [
    "import numpy as np\n",
    "from qiskit import QuantumCircuit, transpile\n",
    "import matplotlib.pyplot as plt\n",
    "\n",
    "#inverse encoding\n",
    "def prepare_binary_state(a):\n",
    "\n",
    "    n = a.bit_length()\n",
    "    qc = QuantumCircuit(n*2)\n",
    "    for i in range(n/2-1, -1, -1):\n",
    "        if a>=2**i:\n",
    "            qc.x(i)\n",
    "            a -= 2**i\n",
    "\n",
    "    return Operator(qc)\n",
    "\n",
    "\n",
    "def quantum_addition(a, b):\n",
    "    # YOUR CODE HERE\n",
    "    raise NotImplementedError()"
   ]
  },
  {
   "cell_type": "code",
   "execution_count": null,
   "id": "ee5968ba-0187-432a-ad4c-53d541a4a2e6",
   "metadata": {
    "deletable": false,
    "editable": false,
    "nbgrader": {
     "cell_type": "code",
     "checksum": "607b53ec4235a9521a1ae7e62869c1b8",
     "grade": true,
     "grade_id": "cell-d322040f709992b4",
     "locked": true,
     "points": 75,
     "schema_version": 3,
     "solution": false,
     "task": false
    }
   },
   "outputs": [
    {
     "ename": "NotImplementedError",
     "evalue": "",
     "output_type": "error",
     "traceback": [
      "\u001b[0;31m---------------------------------------------------------------------------\u001b[0m",
      "\u001b[0;31mNotImplementedError\u001b[0m                       Traceback (most recent call last)",
      "Cell \u001b[0;32mIn[11], line 2\u001b[0m\n\u001b[1;32m      1\u001b[0m exp1 \u001b[38;5;241m=\u001b[39m [[(\u001b[38;5;241m-\u001b[39m\u001b[38;5;241m6.938893903907227e-18\u001b[39m\u001b[38;5;241m-\u001b[39m\u001b[38;5;241m3.4694469519536136e-17\u001b[39mj),\u001b[38;5;241m0\u001b[39mj,(\u001b[38;5;241m6.938893903907227e-17\u001b[39m\u001b[38;5;241m+\u001b[39m\u001b[38;5;241m0\u001b[39mj),\u001b[38;5;241m0\u001b[39mj,(\u001b[38;5;241m-\u001b[39m\u001b[38;5;241m6.938893903907227e-18\u001b[39m\u001b[38;5;241m-\u001b[39m\u001b[38;5;241m3.4694469519536136e-17\u001b[39mj),(\u001b[38;5;241m-\u001b[39m\u001b[38;5;241m0.9238795325112864\u001b[39m\u001b[38;5;241m-\u001b[39m\u001b[38;5;241m0.3826834323650895\u001b[39mj),\u001b[38;5;241m-\u001b[39m\u001b[38;5;241m1.3877787807814454e-17\u001b[39mj,\u001b[38;5;241m0\u001b[39mj,],[(\u001b[38;5;241m-\u001b[39m\u001b[38;5;241m1.3877787807814457e-17\u001b[39m\u001b[38;5;241m+\u001b[39m\u001b[38;5;241m5.74836792573273e-18\u001b[39mj),(\u001b[38;5;241m4.212649542996074e-17\u001b[39m\u001b[38;5;241m-\u001b[39m\u001b[38;5;241m5.4320625253083316e-17\u001b[39mj),(\u001b[38;5;241m-\u001b[39m\u001b[38;5;241m0.9238795325112864\u001b[39m\u001b[38;5;241m-\u001b[39m\u001b[38;5;241m0.3826834323650896\u001b[39mj),(\u001b[38;5;241m6.413370311985692e-17\u001b[39m\u001b[38;5;241m-\u001b[39m\u001b[38;5;241m6.938893903907227e-18\u001b[39mj),(\u001b[38;5;241m1.3877787807814457e-17\u001b[39m\u001b[38;5;241m+\u001b[39m\u001b[38;5;241m3.3503943541361643e-17\u001b[39mj),(\u001b[38;5;241m-\u001b[39m\u001b[38;5;241m5.600428323777519e-17\u001b[39m\u001b[38;5;241m-\u001b[39m\u001b[38;5;241m1.5068313785988955e-17\u001b[39mj),\u001b[38;5;241m8.326672684688674e-17\u001b[39mj,(\u001b[38;5;241m5.255235919215356e-18\u001b[39m\u001b[38;5;241m-\u001b[39m\u001b[38;5;241m6.938893903907227e-18\u001b[39mj),],[(\u001b[38;5;241m3.4694469519536136e-17\u001b[39m\u001b[38;5;241m-\u001b[39m\u001b[38;5;241m6.938893903907227e-18\u001b[39mj),\u001b[38;5;241m0\u001b[39mj,(\u001b[38;5;241m-\u001b[39m\u001b[38;5;241m4.1633363423443364e-17\u001b[39m\u001b[38;5;241m-\u001b[39m\u001b[38;5;241m4.1633363423443364e-17\u001b[39mj),(\u001b[38;5;241m-\u001b[39m\u001b[38;5;241m0.9238795325112864\u001b[39m\u001b[38;5;241m-\u001b[39m\u001b[38;5;241m0.3826834323650896\u001b[39mj),(\u001b[38;5;241m3.4694469519536136e-17\u001b[39m\u001b[38;5;241m-\u001b[39m\u001b[38;5;241m6.938893903907227e-18\u001b[39mj),\u001b[38;5;241m0\u001b[39mj,(\u001b[38;5;241m2.7755575615628907e-17\u001b[39m\u001b[38;5;241m-\u001b[39m\u001b[38;5;241m2.7755575615628907e-17\u001b[39mj),\u001b[38;5;241m1.3877787807814457e-16\u001b[39mj,],[(\u001b[38;5;241m-\u001b[39m\u001b[38;5;241m0.9238795325112863\u001b[39m\u001b[38;5;241m-\u001b[39m\u001b[38;5;241m0.3826834323650896\u001b[39mj),(\u001b[38;5;241m8.37598588534041e-17\u001b[39m\u001b[38;5;241m-\u001b[39m\u001b[38;5;241m2.656504963745441e-17\u001b[39mj),\u001b[38;5;241m1.9626155733547187e-17\u001b[39mj,(\u001b[38;5;241m-\u001b[39m\u001b[38;5;241m3.637812750422801e-17\u001b[39m\u001b[38;5;241m-\u001b[39m\u001b[38;5;241m3.4694469519536136e-17\u001b[39mj),(\u001b[38;5;241m-\u001b[39m\u001b[38;5;241m1.1102230246251565e-16\u001b[39m\u001b[38;5;241m+\u001b[39m\u001b[38;5;241m1.3877787807814457e-16\u001b[39mj),(\u001b[38;5;241m-\u001b[39m\u001b[38;5;241m1.437091981433183e-17\u001b[39m\u001b[38;5;241m+\u001b[39m\u001b[38;5;241m1.2687261829639954e-17\u001b[39mj),\u001b[38;5;241m1.9626155733547187e-17\u001b[39mj,(\u001b[38;5;241m2.250033969641355e-17\u001b[39m\u001b[38;5;241m-\u001b[39m\u001b[38;5;241m3.4694469519536136e-17\u001b[39mj),],[(\u001b[38;5;241m-\u001b[39m\u001b[38;5;241m6.938893903907227e-18\u001b[39m\u001b[38;5;241m-\u001b[39m\u001b[38;5;241m3.4694469519536136e-17\u001b[39mj),(\u001b[38;5;241m-\u001b[39m\u001b[38;5;241m0.9238795325112864\u001b[39m\u001b[38;5;241m-\u001b[39m\u001b[38;5;241m0.3826834323650895\u001b[39mj),\u001b[38;5;241m-\u001b[39m\u001b[38;5;241m1.3877787807814454e-17\u001b[39mj,\u001b[38;5;241m0\u001b[39mj,(\u001b[38;5;241m-\u001b[39m\u001b[38;5;241m6.938893903907227e-18\u001b[39m\u001b[38;5;241m-\u001b[39m\u001b[38;5;241m3.4694469519536136e-17\u001b[39mj),\u001b[38;5;241m0\u001b[39mj,(\u001b[38;5;241m6.938893903907227e-17\u001b[39m\u001b[38;5;241m+\u001b[39m\u001b[38;5;241m0\u001b[39mj),\u001b[38;5;241m0\u001b[39mj,],[(\u001b[38;5;241m1.3877787807814457e-17\u001b[39m\u001b[38;5;241m+\u001b[39m\u001b[38;5;241m3.3503943541361643e-17\u001b[39mj),(\u001b[38;5;241m-\u001b[39m\u001b[38;5;241m5.600428323777519e-17\u001b[39m\u001b[38;5;241m-\u001b[39m\u001b[38;5;241m1.5068313785988955e-17\u001b[39mj),\u001b[38;5;241m8.326672684688674e-17\u001b[39mj,(\u001b[38;5;241m5.255235919215356e-18\u001b[39m\u001b[38;5;241m-\u001b[39m\u001b[38;5;241m6.938893903907227e-18\u001b[39mj),(\u001b[38;5;241m-\u001b[39m\u001b[38;5;241m1.3877787807814457e-17\u001b[39m\u001b[38;5;241m+\u001b[39m\u001b[38;5;241m5.74836792573273e-18\u001b[39mj),(\u001b[38;5;241m4.212649542996074e-17\u001b[39m\u001b[38;5;241m-\u001b[39m\u001b[38;5;241m5.4320625253083316e-17\u001b[39mj),(\u001b[38;5;241m-\u001b[39m\u001b[38;5;241m0.9238795325112864\u001b[39m\u001b[38;5;241m-\u001b[39m\u001b[38;5;241m0.3826834323650896\u001b[39mj),(\u001b[38;5;241m6.413370311985692e-17\u001b[39m\u001b[38;5;241m-\u001b[39m\u001b[38;5;241m6.938893903907227e-18\u001b[39mj),],[(\u001b[38;5;241m3.4694469519536136e-17\u001b[39m\u001b[38;5;241m-\u001b[39m\u001b[38;5;241m6.938893903907227e-18\u001b[39mj),\u001b[38;5;241m0\u001b[39mj,(\u001b[38;5;241m2.7755575615628907e-17\u001b[39m\u001b[38;5;241m-\u001b[39m\u001b[38;5;241m2.7755575615628907e-17\u001b[39mj),\u001b[38;5;241m1.3877787807814457e-16\u001b[39mj,(\u001b[38;5;241m3.4694469519536136e-17\u001b[39m\u001b[38;5;241m-\u001b[39m\u001b[38;5;241m6.938893903907227e-18\u001b[39mj),\u001b[38;5;241m0\u001b[39mj,(\u001b[38;5;241m-\u001b[39m\u001b[38;5;241m4.1633363423443364e-17\u001b[39m\u001b[38;5;241m-\u001b[39m\u001b[38;5;241m4.1633363423443364e-17\u001b[39mj),(\u001b[38;5;241m-\u001b[39m\u001b[38;5;241m0.9238795325112864\u001b[39m\u001b[38;5;241m-\u001b[39m\u001b[38;5;241m0.3826834323650896\u001b[39mj),],[(\u001b[38;5;241m-\u001b[39m\u001b[38;5;241m1.1102230246251565e-16\u001b[39m\u001b[38;5;241m+\u001b[39m\u001b[38;5;241m1.3877787807814457e-16\u001b[39mj),(\u001b[38;5;241m-\u001b[39m\u001b[38;5;241m1.437091981433183e-17\u001b[39m\u001b[38;5;241m+\u001b[39m\u001b[38;5;241m1.2687261829639954e-17\u001b[39mj),\u001b[38;5;241m1.9626155733547187e-17\u001b[39mj,(\u001b[38;5;241m2.250033969641355e-17\u001b[39m\u001b[38;5;241m-\u001b[39m\u001b[38;5;241m3.4694469519536136e-17\u001b[39mj),(\u001b[38;5;241m-\u001b[39m\u001b[38;5;241m0.9238795325112863\u001b[39m\u001b[38;5;241m-\u001b[39m\u001b[38;5;241m0.3826834323650896\u001b[39mj),(\u001b[38;5;241m8.37598588534041e-17\u001b[39m\u001b[38;5;241m-\u001b[39m\u001b[38;5;241m2.656504963745441e-17\u001b[39mj),\u001b[38;5;241m1.9626155733547187e-17\u001b[39mj,(\u001b[38;5;241m-\u001b[39m\u001b[38;5;241m3.637812750422801e-17\u001b[39m\u001b[38;5;241m-\u001b[39m\u001b[38;5;241m3.4694469519536136e-17\u001b[39mj)]]\n\u001b[0;32m----> 2\u001b[0m out1 \u001b[38;5;241m=\u001b[39m \u001b[43mquantum_addition\u001b[49m\u001b[43m(\u001b[49m\u001b[38;5;241;43m2\u001b[39;49m\u001b[43m,\u001b[49m\u001b[38;5;241;43m1\u001b[39;49m\u001b[43m)\u001b[49m\n\u001b[1;32m      3\u001b[0m \u001b[38;5;28;01massert\u001b[39;00m np\u001b[38;5;241m.\u001b[39mallclose(out1, exp1), \u001b[38;5;124mf\u001b[39m\u001b[38;5;124m\"\u001b[39m\u001b[38;5;124mTest failed\u001b[39m\u001b[38;5;124m\"\u001b[39m\n",
      "Cell \u001b[0;32mIn[10], line 18\u001b[0m, in \u001b[0;36mquantum_addition\u001b[0;34m(a, b)\u001b[0m\n\u001b[1;32m     16\u001b[0m \u001b[38;5;28;01mdef\u001b[39;00m \u001b[38;5;21mquantum_addition\u001b[39m(a, b):\n\u001b[1;32m     17\u001b[0m     \u001b[38;5;66;03m# YOUR CODE HERE\u001b[39;00m\n\u001b[0;32m---> 18\u001b[0m     \u001b[38;5;28;01mraise\u001b[39;00m \u001b[38;5;167;01mNotImplementedError\u001b[39;00m()\n",
      "\u001b[0;31mNotImplementedError\u001b[0m: "
     ]
    }
   ],
   "source": [
    "exp1 = [[(-6.938893903907227e-18-3.4694469519536136e-17j),0j,(6.938893903907227e-17+0j),0j,(-6.938893903907227e-18-3.4694469519536136e-17j),(-0.9238795325112864-0.3826834323650895j),-1.3877787807814454e-17j,0j,],[(-1.3877787807814457e-17+5.74836792573273e-18j),(4.212649542996074e-17-5.4320625253083316e-17j),(-0.9238795325112864-0.3826834323650896j),(6.413370311985692e-17-6.938893903907227e-18j),(1.3877787807814457e-17+3.3503943541361643e-17j),(-5.600428323777519e-17-1.5068313785988955e-17j),8.326672684688674e-17j,(5.255235919215356e-18-6.938893903907227e-18j),],[(3.4694469519536136e-17-6.938893903907227e-18j),0j,(-4.1633363423443364e-17-4.1633363423443364e-17j),(-0.9238795325112864-0.3826834323650896j),(3.4694469519536136e-17-6.938893903907227e-18j),0j,(2.7755575615628907e-17-2.7755575615628907e-17j),1.3877787807814457e-16j,],[(-0.9238795325112863-0.3826834323650896j),(8.37598588534041e-17-2.656504963745441e-17j),1.9626155733547187e-17j,(-3.637812750422801e-17-3.4694469519536136e-17j),(-1.1102230246251565e-16+1.3877787807814457e-16j),(-1.437091981433183e-17+1.2687261829639954e-17j),1.9626155733547187e-17j,(2.250033969641355e-17-3.4694469519536136e-17j),],[(-6.938893903907227e-18-3.4694469519536136e-17j),(-0.9238795325112864-0.3826834323650895j),-1.3877787807814454e-17j,0j,(-6.938893903907227e-18-3.4694469519536136e-17j),0j,(6.938893903907227e-17+0j),0j,],[(1.3877787807814457e-17+3.3503943541361643e-17j),(-5.600428323777519e-17-1.5068313785988955e-17j),8.326672684688674e-17j,(5.255235919215356e-18-6.938893903907227e-18j),(-1.3877787807814457e-17+5.74836792573273e-18j),(4.212649542996074e-17-5.4320625253083316e-17j),(-0.9238795325112864-0.3826834323650896j),(6.413370311985692e-17-6.938893903907227e-18j),],[(3.4694469519536136e-17-6.938893903907227e-18j),0j,(2.7755575615628907e-17-2.7755575615628907e-17j),1.3877787807814457e-16j,(3.4694469519536136e-17-6.938893903907227e-18j),0j,(-4.1633363423443364e-17-4.1633363423443364e-17j),(-0.9238795325112864-0.3826834323650896j),],[(-1.1102230246251565e-16+1.3877787807814457e-16j),(-1.437091981433183e-17+1.2687261829639954e-17j),1.9626155733547187e-17j,(2.250033969641355e-17-3.4694469519536136e-17j),(-0.9238795325112863-0.3826834323650896j),(8.37598588534041e-17-2.656504963745441e-17j),1.9626155733547187e-17j,(-3.637812750422801e-17-3.4694469519536136e-17j)]]\n",
    "out1 = quantum_addition(2,1)\n",
    "assert np.allclose(out1, exp1), f\"Test failed\""
   ]
  },
  {
   "cell_type": "code",
   "execution_count": null,
   "id": "788113b9",
   "metadata": {},
   "outputs": [
    {
     "name": "stdout",
     "output_type": "stream",
     "text": [
      "     ┌───┐\n",
      "q_0: ┤ X ├\n",
      "     └───┘\n",
      "q_1: ─────\n",
      "          \n",
      "q_2: ─────\n",
      "          \n",
      "q_3: ─────\n",
      "          \n",
      "q_4: ─────\n",
      "          \n",
      "q_5: ─────\n",
      "          \n",
      "q_6: ─────\n",
      "          \n"
     ]
    }
   ],
   "source": [
    "a = 4\n",
    "b = 3\n",
    "n = a.bit_length()\n",
    "qc = QuantumCircuit(n*2 + 1)\n",
    "for i in range(n//2 - 1, -1, -1):\n",
    "    if a>=2**i:\n",
    "        qc.x(i)\n",
    "        a -= 2**i\n",
    "\n",
    "Operator(qc)\n",
    "print(qc)"
   ]
  },
  {
   "cell_type": "code",
   "execution_count": 83,
   "id": "af77abd8",
   "metadata": {},
   "outputs": [],
   "source": [
    "def apply_inverse_qft(circuit, num_qubits):\n",
    "    \n",
    "    \n",
    "    # Reverse the order of the qubits\n",
    "    for i in range(num_qubits // 2):\n",
    "        circuit.swap(i, num_qubits - i - 1)\n",
    "        # back iteration and negative angle for inverse\n",
    "    for qubit in range(num_qubits - 1, -1, -1): \n",
    "        for control_qubit in range(num_qubits - 1, qubit, -1):\n",
    "            angle = -np.pi / (2 ** (control_qubit - qubit))\n",
    "            circuit.cp(angle, control_qubit, qubit)\n",
    "        \n",
    "        circuit.h(qubit)"
   ]
  },
  {
   "cell_type": "code",
   "execution_count": 84,
   "id": "e5320dc5",
   "metadata": {},
   "outputs": [],
   "source": [
    "def apply_qft(circuit, num_qubits):\n",
    "    for qubit in range(num_qubits):\n",
    "   \n",
    "        circuit.h(qubit)\n",
    "        \n",
    "        for control_qubit in range(qubit + 1, num_qubits):\n",
    "            angle = np.pi / (2 ** (control_qubit - qubit))\n",
    "            circuit.cp(angle, control_qubit, qubit)\n",
    "    \n",
    "    for i in range(num_qubits // 2):\n",
    "        circuit.swap(i, num_qubits - i - 1)"
   ]
  },
  {
   "cell_type": "code",
   "execution_count": 93,
   "id": "20eb2402",
   "metadata": {},
   "outputs": [
    {
     "name": "stdout",
     "output_type": "stream",
     "text": [
      "          \n",
      "q_0: ─────\n",
      "          \n",
      "q_1: ─────\n",
      "     ┌───┐\n",
      "q_2: ┤ X ├\n",
      "     └───┘\n",
      "q_3: ─────\n",
      "          \n",
      "q_4: ─────\n",
      "     ┌───┐\n",
      "q_5: ┤ X ├\n",
      "     ├───┤\n",
      "q_6: ┤ X ├\n",
      "     └───┘\n",
      "     ┌───┐                                                                     »\n",
      "q_0: ┤ H ├─■────────■─────────────■────────────────────────────────────────────»\n",
      "     └───┘ │P(π/2)  │       ┌───┐ │                                            »\n",
      "q_1: ──────■────────┼───────┤ H ├─┼────────■────────■───────────────────────X──»\n",
      "     ┌───┐          │P(π/4) └───┘ │        │P(π/2)  │       ┌───┐           │  »\n",
      "q_2: ┤ X ├──────────■─────────────┼────────■────────┼───────┤ H ├─■─────────X──»\n",
      "     └───┘                        │P(π/8)           │P(π/4) └───┘ │P(π/2) ┌───┐»\n",
      "q_3: ─────────────────────────────■─────────────────■─────────────■───────┤ H ├»\n",
      "                                                                          └───┘»\n",
      "q_4: ──────────────────────────────────────────────────────────────────────────»\n",
      "     ┌───┐                                                                     »\n",
      "q_5: ┤ X ├─────────────────────────────────────────────────────────────────────»\n",
      "     ├───┤                                                                     »\n",
      "q_6: ┤ X ├─────────────────────────────────────────────────────────────────────»\n",
      "     └───┘                                                                     »\n",
      "«        \n",
      "«q_0: ─X─\n",
      "«      │ \n",
      "«q_1: ─┼─\n",
      "«      │ \n",
      "«q_2: ─┼─\n",
      "«      │ \n",
      "«q_3: ─X─\n",
      "«        \n",
      "«q_4: ───\n",
      "«        \n",
      "«q_5: ───\n",
      "«        \n",
      "«q_6: ───\n",
      "«        \n"
     ]
    },
    {
     "data": {
      "text/plain": [
       "array([[0.+0.j, 0.+0.j, 0.+0.j, ..., 0.+0.j, 0.+0.j, 0.+0.j],\n",
       "       [0.+0.j, 0.+0.j, 0.+0.j, ..., 0.+0.j, 0.+0.j, 0.+0.j],\n",
       "       [0.+0.j, 0.+0.j, 0.+0.j, ..., 0.+0.j, 0.+0.j, 0.+0.j],\n",
       "       ...,\n",
       "       [0.+0.j, 0.+0.j, 0.+0.j, ..., 0.+0.j, 0.+0.j, 0.+0.j],\n",
       "       [0.+0.j, 0.+0.j, 0.+0.j, ..., 0.+0.j, 0.+0.j, 0.+0.j],\n",
       "       [0.+0.j, 0.+0.j, 0.+0.j, ..., 0.+0.j, 0.+0.j, 0.+0.j]])"
      ]
     },
     "execution_count": 93,
     "metadata": {},
     "output_type": "execute_result"
    }
   ],
   "source": [
    "import numpy as np\n",
    "from qiskit import QuantumCircuit, transpile\n",
    "from qiskit.quantum_info import Statevector\n",
    "from qiskit_aer import AerSimulator\n",
    "import matplotlib.pyplot as plt\n",
    "# Inputs\n",
    "a = 4\n",
    "b = 3\n",
    "n = max(a.bit_length(), b.bit_length()) \n",
    "total_qubits = n * 2 + 1\n",
    "  # |a>|0>|b> .\n",
    "\n",
    "qc = QuantumCircuit(total_qubits)\n",
    "\n",
    "\n",
    "for i in range(n - 1, -1, -1):\n",
    "    if a >= 2**i:\n",
    "        qc.x(i) \n",
    "        a -= 2**i\n",
    "\n",
    "  \n",
    "for i in range(n - 1, -1, -1):\n",
    "    if b >= 2**i:\n",
    "        qc.x(2 * n + 1 - 1 - i)  #\n",
    "        b -= 2**i\n",
    "\n",
    "\n",
    "# q23Q    \n",
    "print(qc)\n",
    "\n",
    "apply_qft(qc, n+1)\n",
    "print(qc)\n",
    "\n",
    "    \n",
    "\n",
    "#for j in range(n):\n",
    "#  for s in range(n):\n",
    "#      # Calculate the angle for the CP gate\n",
    "#      angle = 2 * np.pi / 2**(j + s - n)\n",
    "      # Apply the CP gate\n",
    "#      qc.cp(angle, j, n + 1 + s)\n",
    "\n",
    "\n",
    "#apply_invere_qft(qc,n+1)\n",
    "\n",
    "Operator(qc).to_matrix()\n"
   ]
  },
  {
   "cell_type": "code",
   "execution_count": null,
   "id": "5243ce41",
   "metadata": {},
   "outputs": [],
   "source": []
  },
  {
   "cell_type": "code",
   "execution_count": null,
   "id": "3a329e6a",
   "metadata": {},
   "outputs": [],
   "source": []
  }
 ],
 "metadata": {
  "kernelspec": {
   "display_name": "HEnv1",
   "language": "python",
   "name": "python3"
  },
  "language_info": {
   "codemirror_mode": {
    "name": "ipython",
    "version": 3
   },
   "file_extension": ".py",
   "mimetype": "text/x-python",
   "name": "python",
   "nbconvert_exporter": "python",
   "pygments_lexer": "ipython3",
   "version": "3.12.7"
  }
 },
 "nbformat": 4,
 "nbformat_minor": 5
}
