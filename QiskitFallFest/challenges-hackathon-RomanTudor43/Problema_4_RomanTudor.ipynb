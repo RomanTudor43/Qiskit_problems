{
 "cells": [
  {
   "cell_type": "markdown",
   "id": "09235bd1-2fa3-46b9-8f37-161b3a63b0c3",
   "metadata": {
    "deletable": false,
    "editable": false,
    "nbgrader": {
     "cell_type": "markdown",
     "checksum": "ae30a7b28e756a9a8f1cf52f550da2ca",
     "grade": false,
     "grade_id": "cell-ab045e54f09cf49f",
     "locked": true,
     "schema_version": 3,
     "solution": false,
     "task": false
    }
   },
   "source": [
    "Write a function prepare_ghz_state(num_qubits, shots, seed) that generates a generalized ∣GHZ⟩ state for a given number of qubits (num_qubits). The function should take the number of measurements (shots) and a seed (seed) for reproducibility. After preparing the GHZ state, simulate the circuit, perform the specified number of measurements, and return the measurement results (counts).\n"
   ]
  },
  {
   "cell_type": "code",
   "execution_count": null,
   "id": "3f711406-6633-424a-a53a-092ed0c7951c",
   "metadata": {
    "deletable": false,
    "editable": false,
    "nbgrader": {
     "cell_type": "code",
     "checksum": "eb861b7c6f652df3fcaf4825e497daf9",
     "grade": false,
     "grade_id": "cell-dcd65360f1597e66",
     "locked": true,
     "schema_version": 3,
     "solution": false,
     "task": false
    }
   },
   "outputs": [],
   "source": [
    "!pip install numpy\n",
    "!pip install qiskit\n",
    "!pip install qiskit_aer"
   ]
  },
  {
   "cell_type": "code",
   "execution_count": 4,
   "id": "d5a9f2e0-5b1f-4e85-bc77-7ae8ce3d9a87",
   "metadata": {
    "deletable": false,
    "nbgrader": {
     "cell_type": "code",
     "checksum": "b3c510116a9c3ab123fd6005eafa3c9f",
     "grade": false,
     "grade_id": "cell-9c744b72699b9c24",
     "locked": false,
     "schema_version": 3,
     "solution": true,
     "task": false
    }
   },
   "outputs": [],
   "source": [
    "import numpy as np\n",
    "from qiskit_aer import AerSimulator\n",
    "from qiskit import QuantumCircuit, transpile\n",
    "\n",
    "\n",
    "def prepare_ghz_state(num_qubits, shots, seed):\n",
    "    qc = QuantumCircuit(3)\n",
    "    qc.h(0)\n",
    "    qc.cx(0, 1)\n",
    "    qc.cx(0, 2)\n",
    "    qc.measure_all()\n",
    "\n",
    "    backend = AerSimulator()\n",
    "    \n",
    "    transpiled_qc = transpile(qc, backend)\n",
    "\n",
    "    job = backend.run(transpiled_qc, shots=shots, seed_simulator=seed)\n",
    "\n",
    "    result = job.result()\n",
    "    counts = result.get_counts(transpiled_qc)\n",
    "    print(counts)\n",
    "\n",
    "\n",
    "    return counts\n",
    " "
   ]
  },
  {
   "cell_type": "code",
   "execution_count": 5,
   "id": "5e59e065-9678-4460-8540-a9f1d04fdde5",
   "metadata": {
    "deletable": false,
    "editable": false,
    "nbgrader": {
     "cell_type": "code",
     "checksum": "224747a99deb0f077937a5a45925bc37",
     "grade": true,
     "grade_id": "cell-f76f3e4f8af93244",
     "locked": true,
     "points": 24,
     "schema_version": 3,
     "solution": false,
     "task": false
    }
   },
   "outputs": [
    {
     "name": "stdout",
     "output_type": "stream",
     "text": [
      "{'111': 4950, '000': 5050}\n"
     ]
    }
   ],
   "source": [
    "counts_expected = {'000': 5050, '111': 4950}\n",
    "cts = prepare_ghz_state(3, 10000, 90)\n",
    "assert cts == counts_expected, f\"Test Failed\""
   ]
  },
  {
   "cell_type": "code",
   "execution_count": null,
   "id": "42a185fc-e590-4217-813a-bb7a8c150e41",
   "metadata": {
    "deletable": false,
    "editable": false,
    "nbgrader": {
     "cell_type": "code",
     "checksum": "cd0074fd070d3d0dd857a55eeb433d30",
     "grade": true,
     "grade_id": "cell-f961343545eb3f66",
     "locked": true,
     "points": 24,
     "schema_version": 3,
     "solution": false,
     "task": false
    }
   },
   "outputs": [
    {
     "data": {
      "text/html": [
       "<pre style=\"word-wrap: normal;white-space: pre;background: #fff0;line-height: 1.1;font-family: &quot;Courier New&quot;,Courier,monospace\">        ┌───┐           ░ ┌─┐      \n",
       "   q_0: ┤ H ├──■────■───░─┤M├──────\n",
       "        └───┘┌─┴─┐  │   ░ └╥┘┌─┐   \n",
       "   q_1: ─────┤ X ├──┼───░──╫─┤M├───\n",
       "             └───┘┌─┴─┐ ░  ║ └╥┘┌─┐\n",
       "   q_2: ──────────┤ X ├─░──╫──╫─┤M├\n",
       "                  └───┘ ░  ║  ║ └╥┘\n",
       "meas: 3/═══════════════════╩══╩══╩═\n",
       "                           0  1  2 </pre>"
      ],
      "text/plain": [
       "        ┌───┐           ░ ┌─┐      \n",
       "   q_0: ┤ H ├──■────■───░─┤M├──────\n",
       "        └───┘┌─┴─┐  │   ░ └╥┘┌─┐   \n",
       "   q_1: ─────┤ X ├──┼───░──╫─┤M├───\n",
       "             └───┘┌─┴─┐ ░  ║ └╥┘┌─┐\n",
       "   q_2: ──────────┤ X ├─░──╫──╫─┤M├\n",
       "                  └───┘ ░  ║  ║ └╥┘\n",
       "meas: 3/═══════════════════╩══╩══╩═\n",
       "                           0  1  2 "
      ]
     },
     "execution_count": 3,
     "metadata": {},
     "output_type": "execute_result"
    }
   ],
   "source": []
  },
  {
   "cell_type": "code",
   "execution_count": null,
   "id": "8ad9359f-209e-4072-9971-0f15ecac522b",
   "metadata": {
    "deletable": false,
    "editable": false,
    "nbgrader": {
     "cell_type": "code",
     "checksum": "33e39c465244df8240ab8cf2c8ff5782",
     "grade": true,
     "grade_id": "cell-c4f456e12733016a",
     "locked": true,
     "points": 24,
     "schema_version": 3,
     "solution": false,
     "task": false
    }
   },
   "outputs": [],
   "source": []
  },
  {
   "cell_type": "code",
   "execution_count": null,
   "id": "6ffb245a-c8bd-4113-9635-4dd6dc14b0e2",
   "metadata": {
    "deletable": false,
    "editable": false,
    "nbgrader": {
     "cell_type": "code",
     "checksum": "b5d56abc8055703c74173a9f4fe5b8c3",
     "grade": true,
     "grade_id": "cell-a4fa4da19a67efb9",
     "locked": true,
     "points": 24,
     "schema_version": 3,
     "solution": false,
     "task": false
    }
   },
   "outputs": [],
   "source": []
  },
  {
   "cell_type": "code",
   "execution_count": null,
   "id": "b9b702af-1628-4a2a-b7b6-b91e5236922c",
   "metadata": {},
   "outputs": [],
   "source": []
  }
 ],
 "metadata": {
  "kernelspec": {
   "display_name": "HEnv1",
   "language": "python",
   "name": "python3"
  },
  "language_info": {
   "codemirror_mode": {
    "name": "ipython",
    "version": 3
   },
   "file_extension": ".py",
   "mimetype": "text/x-python",
   "name": "python",
   "nbconvert_exporter": "python",
   "pygments_lexer": "ipython3",
   "version": "3.12.7"
  }
 },
 "nbformat": 4,
 "nbformat_minor": 5
}
