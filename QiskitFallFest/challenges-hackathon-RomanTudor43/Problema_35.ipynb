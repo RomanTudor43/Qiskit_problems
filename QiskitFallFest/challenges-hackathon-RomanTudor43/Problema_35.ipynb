{
 "cells": [
  {
   "cell_type": "markdown",
   "id": "17394750-e06c-4b4f-b0fa-52a9b3a00ceb",
   "metadata": {
    "deletable": false,
    "editable": false,
    "nbgrader": {
     "cell_type": "markdown",
     "checksum": "06997f07d77b235b55f3f26a697ed1d9",
     "grade": false,
     "grade_id": "cell-829e5fb305e4411f",
     "locked": true,
     "schema_version": 3,
     "solution": false,
     "task": false
    }
   },
   "source": [
    "# Quantum Machine Learning Challenge\n",
    "\n",
    "**Challenge:** \n",
    "\n",
    "> Implement a function ```qnn(samples, labels, seed)``` that constructs a quantum circuit to train a simple quantum neural network (QNN) on the provided training data and returns the trained model.\n",
    "\n",
    "**Details:**\n",
    "\n",
    "1. Initialize the Quantum Circuit: Create a quantum circuit with enough qubits to encode the features of the data points.\n",
    "2. Define Ansatz: Choose a simple parameterized quantum circuit as the ansatz for the QNN.\n",
    "3. Encode Training Data: Use parameterized gates to encode the training data into the quantum circuit.\n",
    "4. Train QNN: Use a classical optimizer to train the QNN by minimizing the loss function.\n",
    "5. Output of QNN Function: Return the trained model.\n",
    "6. Evaluate Model: Test the trained QNN on a validation dataset.\n"
   ]
  },
  {
   "cell_type": "code",
   "execution_count": null,
   "id": "5b0eba67-66fc-4b34-a157-a144bcc259fe",
   "metadata": {
    "deletable": false,
    "editable": false,
    "nbgrader": {
     "cell_type": "code",
     "checksum": "cae64ad8480db743940ddde9f984d868",
     "grade": false,
     "grade_id": "cell-2ff86deda34213fe",
     "locked": true,
     "schema_version": 3,
     "solution": false,
     "task": false
    }
   },
   "outputs": [],
   "source": [
    "!pip install scikit-learn\n",
    "!pip install qiskit_machine_learning\n",
    "!pip install matplotlib"
   ]
  },
  {
   "cell_type": "code",
   "execution_count": null,
   "id": "1087ba18-0f22-4e4b-ba60-170d63c57cb6",
   "metadata": {
    "deletable": false,
    "editable": false,
    "nbgrader": {
     "cell_type": "code",
     "checksum": "8902f64f616de4035dd0dd0ea3ccf0c2",
     "grade": false,
     "grade_id": "cell-25ded1132877138d",
     "locked": true,
     "schema_version": 3,
     "solution": false,
     "task": false
    }
   },
   "outputs": [],
   "source": [
    "from sklearn.datasets import make_classification\n",
    "from sklearn.model_selection import train_test_split \n",
    "from qiskit.circuit.library import *\n",
    "from qiskit_machine_learning.optimizers import *\n",
    "from qiskit.primitives import *\n",
    "from qiskit_machine_learning.algorithms.classifiers import *"
   ]
  },
  {
   "cell_type": "code",
   "execution_count": null,
   "id": "9999d13b-09d4-4a64-b1e6-1615b05a8157",
   "metadata": {
    "deletable": false,
    "nbgrader": {
     "cell_type": "code",
     "checksum": "b93efcc0ba36d4623baadefd225202e6",
     "grade": false,
     "grade_id": "cell-c0091def48cb0a50",
     "locked": false,
     "schema_version": 3,
     "solution": true,
     "task": false
    }
   },
   "outputs": [],
   "source": [
    "def qnn(samples, labels, number_of_features):\n",
    "    # Define the feature_map\n",
    "    # Write your solution here | feature_map = ... \n",
    "    # YOUR CODE HERE\n",
    "    raise NotImplementedError()\n",
    "\n",
    "    # Create the ansatz\n",
    "    # Write your solution here | ansatz = ... \n",
    "    # YOUR CODE HERE\n",
    "    raise NotImplementedError()\n",
    "\n",
    "    # Define the optimizer\n",
    "    # Write your solution here | optimizer = ...\n",
    "    # YOUR CODE HERE\n",
    "    raise NotImplementedError()\n",
    "    # Create a sampler that is backed by a quantum computer\n",
    "    # Write your solution here | sampler = ... \n",
    "    # YOUR CODE HERE\n",
    "    raise NotImplementedError()\n",
    "\n",
    "    # Create the quantum neural network (Veriational Quantum Classifier)\n",
    "    # Write your solution here | vqc = ... \n",
    "    # YOUR CODE HERE\n",
    "    raise NotImplementedError()\n",
    "\n",
    "    # Fit the VQC model\n",
    "    # YOUR CODE HERE\n",
    "    raise NotImplementedError()\n",
    "\n",
    "    return vqc"
   ]
  },
  {
   "cell_type": "code",
   "execution_count": null,
   "id": "9ea5c3cb-89e3-4594-a5fc-44e0c0dc6c4e",
   "metadata": {
    "deletable": false,
    "editable": false,
    "nbgrader": {
     "cell_type": "code",
     "checksum": "466a38820cb9d404244bf770c74cf92f",
     "grade": true,
     "grade_id": "cell-190cebe6ca50a149",
     "locked": true,
     "points": 35,
     "schema_version": 3,
     "solution": false,
     "task": false
    }
   },
   "outputs": [],
   "source": [
    "\"\"\"Check that the function returns the correct output for several inputs\"\"\"\n",
    "# Creating a dataset\n",
    "number_of_samples = 100\n",
    "number_of_features = 6\n",
    "seed = 1234\n",
    "\n",
    "X, y = make_classification(\n",
    "    n_samples=number_of_samples, \n",
    "    n_features=number_of_features, n_informative=number_of_features,\n",
    "    n_redundant=0, n_clusters_per_class=1, \n",
    "    class_sep=1.0, random_state=seed)\n",
    "    \n",
    "# Split the dataset in train and test using a test_size of 20% and use the seed as random_state\n",
    "X_train, X_test, y_train, y_test = train_test_split(\n",
    "    X, y , random_state=seed, test_size=0.2, shuffle=True)\n",
    "\n",
    "QNN = qnn(X_train, y_train, number_of_features)\n",
    "accuracy = QNN.score(X_test, y_test)\n",
    "\n",
    "# Test the accuracy\n",
    "assert accuracy > 0.5"
   ]
  },
  {
   "cell_type": "code",
   "execution_count": null,
   "id": "17962ee5-af66-49ca-a96e-722fc83628ea",
   "metadata": {
    "deletable": false,
    "editable": false,
    "nbgrader": {
     "cell_type": "code",
     "checksum": "79d6116596dc1a0473d9fbeb7d92015d",
     "grade": true,
     "grade_id": "cell-b42cc2157e880f43",
     "locked": true,
     "points": 35,
     "schema_version": 3,
     "solution": false,
     "task": false
    }
   },
   "outputs": [],
   "source": []
  },
  {
   "cell_type": "code",
   "execution_count": null,
   "id": "70ec77c6-9b7f-426e-bc03-d51ad12f2e59",
   "metadata": {
    "deletable": false,
    "editable": false,
    "nbgrader": {
     "cell_type": "code",
     "checksum": "774e8b6be42887500467c20af5db473d",
     "grade": true,
     "grade_id": "cell-5ec8ae68a368b1b8",
     "locked": true,
     "points": 10,
     "schema_version": 3,
     "solution": false,
     "task": false
    }
   },
   "outputs": [],
   "source": []
  },
  {
   "cell_type": "code",
   "execution_count": null,
   "id": "e590a3fa-0319-4bdb-8099-4a62e70ce7ad",
   "metadata": {
    "deletable": false,
    "editable": false,
    "nbgrader": {
     "cell_type": "code",
     "checksum": "ac862d8478c8dcfe03c6a8c0f62485a2",
     "grade": true,
     "grade_id": "cell-fd4165af7104503c",
     "locked": true,
     "points": 20,
     "schema_version": 3,
     "solution": false,
     "task": false
    }
   },
   "outputs": [],
   "source": []
  }
 ],
 "metadata": {
  "kernelspec": {
   "display_name": "Python 3 (ipykernel)",
   "language": "python",
   "name": "python3"
  },
  "language_info": {
   "codemirror_mode": {
    "name": "ipython",
    "version": 3
   },
   "file_extension": ".py",
   "mimetype": "text/x-python",
   "name": "python",
   "nbconvert_exporter": "python",
   "pygments_lexer": "ipython3",
   "version": "3.11.9"
  }
 },
 "nbformat": 4,
 "nbformat_minor": 5
}
