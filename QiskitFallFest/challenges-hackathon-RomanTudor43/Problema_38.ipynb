{
 "cells": [
  {
   "cell_type": "markdown",
   "id": "946cab91-da8a-4eda-99be-9600182c69b8",
   "metadata": {
    "deletable": false,
    "editable": false,
    "nbgrader": {
     "cell_type": "markdown",
     "checksum": "b72183fddd9ea35ac643cc7206ee8a70",
     "grade": false,
     "grade_id": "cell-ddc40d1550e2e299",
     "locked": true,
     "schema_version": 3,
     "solution": false,
     "task": false
    }
   },
   "source": [
    "# Implementing a polynomial function with Classiq\n",
    "\n",
    "**Challenge:** Implement a function ```polynomial(num_qbits_x, a)``` that creates a circuit to solve the equation $x^2 + a$. The input state x will be an equal superposition of ```num_qbits_x``` qubits and the function should return the results of the execution job.\n"
   ]
  },
  {
   "cell_type": "code",
   "execution_count": null,
   "id": "149e32cb-c1a6-430b-8bad-ba692c7f7299",
   "metadata": {
    "deletable": false,
    "editable": false,
    "nbgrader": {
     "cell_type": "code",
     "checksum": "9b61a32d56712a269d01ed276508cc98",
     "grade": false,
     "grade_id": "cell-3154e81333fbd8ba",
     "locked": true,
     "schema_version": 3,
     "solution": false,
     "task": false
    }
   },
   "outputs": [],
   "source": [
    "!pip install classiq"
   ]
  },
  {
   "cell_type": "code",
   "execution_count": null,
   "id": "fb752a32-34d0-49aa-98b7-f34593d24e9c",
   "metadata": {
    "deletable": false,
    "editable": false,
    "nbgrader": {
     "cell_type": "code",
     "checksum": "fed70ef34f6c20f92702e8808f80074f",
     "grade": false,
     "grade_id": "cell-3721132011dd4591",
     "locked": true,
     "schema_version": 3,
     "solution": false,
     "task": false
    }
   },
   "outputs": [],
   "source": [
    "from classiq import *"
   ]
  },
  {
   "cell_type": "code",
   "execution_count": null,
   "id": "e3859d25-1997-4cb8-9266-f7c73ce816a1",
   "metadata": {
    "deletable": false,
    "nbgrader": {
     "cell_type": "code",
     "checksum": "e69240404a3cf9f219258fddeddeb15d",
     "grade": false,
     "grade_id": "cell-8d7d2a3743ead06b",
     "locked": false,
     "schema_version": 3,
     "solution": true,
     "task": false
    }
   },
   "outputs": [],
   "source": [
    "def polynomial(num_qbts_x, a):\n",
    "    # Define the circuit\n",
    "    @qfunc\n",
    "    def main(x: Output[QNum], y: Output[QNum]):\n",
    "        # YOUR CODE HERE\n",
    "        raise NotImplementedError()\n",
    "\n",
    "    # Create the quantum program and execute the job\n",
    "    # YOUR CODE HERE\n",
    "    raise NotImplementedError()\n",
    "\n",
    "    # Get the results\n",
    "    results = job.result()[0].value.parsed_counts\n",
    "\n",
    "    # Return the results\n",
    "    return results"
   ]
  },
  {
   "cell_type": "code",
   "execution_count": null,
   "id": "5446fe3e-aa87-4886-bf02-ec25690f3575",
   "metadata": {
    "deletable": false,
    "editable": false,
    "nbgrader": {
     "cell_type": "code",
     "checksum": "94e81fc0c18fc01a301b595e88d3f387",
     "grade": true,
     "grade_id": "cell-3a358e6996749bb5",
     "locked": true,
     "points": 100,
     "schema_version": 3,
     "solution": false,
     "task": false
    }
   },
   "outputs": [],
   "source": [
    "\"\"\"Check that the function returns the correct output for several inputs\"\"\"\n",
    "assert  \"{'x': 0, 'y': 1}\" in f'{polynomial(2,1)}'\n",
    "assert  \"{'x': 3, 'y': 10}\" in f'{polynomial(2,1)}'\n",
    "assert  \"{'x': 7, 'y': 50}\" in f'{polynomial(3,1)}'\n"
   ]
  }
 ],
 "metadata": {
  "kernelspec": {
   "display_name": "Python 3 (ipykernel)",
   "language": "python",
   "name": "python3"
  },
  "language_info": {
   "codemirror_mode": {
    "name": "ipython",
    "version": 3
   },
   "file_extension": ".py",
   "mimetype": "text/x-python",
   "name": "python",
   "nbconvert_exporter": "python",
   "pygments_lexer": "ipython3",
   "version": "3.11.9"
  }
 },
 "nbformat": 4,
 "nbformat_minor": 5
}
