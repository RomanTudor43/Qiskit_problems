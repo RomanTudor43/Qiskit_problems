{
 "cells": [
  {
   "cell_type": "markdown",
   "id": "ef2f84d6-420c-4ce7-ab3c-ac4dffffa9d0",
   "metadata": {
    "deletable": false,
    "editable": false,
    "nbgrader": {
     "cell_type": "markdown",
     "checksum": "a6c01ad34707710ee1e81789118b35ca",
     "grade": false,
     "grade_id": "cell-c087bc1d1b778cc8",
     "locked": true,
     "schema_version": 3,
     "solution": false,
     "task": false
    }
   },
   "source": [
    "### PROBLEMA 24\n",
    "    Write a Python function multi_controlled_not(num_qubits, control_qubits, target_qubit) that constructs and returns the matrix representation of a multi-controlled NOT gate. The function should:\n",
    "        1. Accept num_qubits as the total number of qubits in the system.\n",
    "        2. Take control_qubits as a list of indices representing the control qubits.\n",
    "        3. Specify target_qubit as the index of the target qubit.\n",
    "    Return the resulting matrix in the standard format of quantum computing (not Qiskit's representation).\n"
   ]
  },
  {
   "cell_type": "code",
   "execution_count": null,
   "id": "3110916c-99bc-472a-b07e-4e45e3422a40",
   "metadata": {
    "deletable": false,
    "editable": false,
    "nbgrader": {
     "cell_type": "code",
     "checksum": "85f493b11e7417e96076048e7ee7c99c",
     "grade": false,
     "grade_id": "cell-d29e15c34e0b3640",
     "locked": true,
     "schema_version": 3,
     "solution": false,
     "task": false
    }
   },
   "outputs": [],
   "source": [
    "!pip install numpy\n",
    "!pip install qiskit\n",
    "!pip install qiskit_aer"
   ]
  },
  {
   "cell_type": "code",
   "execution_count": null,
   "id": "8caa25f7-e82a-440f-af1b-7ae19473c6f3",
   "metadata": {
    "deletable": false,
    "nbgrader": {
     "cell_type": "code",
     "checksum": "443de9280eaf61e1ec110924ccdea5e5",
     "grade": false,
     "grade_id": "cell-d810bfe04f4b187a",
     "locked": false,
     "schema_version": 3,
     "solution": true,
     "task": false
    }
   },
   "outputs": [],
   "source": [
    "import numpy as np\n",
    "from qiskit import QuantumCircuit\n",
    "from qiskit.quantum_info import Operator\n",
    "# from qiskit.circuit.library import.\n",
    "\n",
    "\n",
    "def multi_controlled_not(num_qubits, control_qubits, target_qubit):\n",
    "    # YOUR CODE HERE\n",
    "    raise NotImplementedError()"
   ]
  },
  {
   "cell_type": "code",
   "execution_count": null,
   "id": "ae2ea5c5-9bc5-40ef-bf0d-8b620b58eb52",
   "metadata": {
    "deletable": false,
    "editable": false,
    "nbgrader": {
     "cell_type": "code",
     "checksum": "0f768a1a65d30c4b846208e67cf8baaa",
     "grade": true,
     "grade_id": "cell-22503623e56f106c",
     "locked": true,
     "points": 20,
     "schema_version": 3,
     "solution": false,
     "task": false
    }
   },
   "outputs": [],
   "source": [
    "exp1 = [[(1+0j),0j,0j,0j,],[0j,(1+0j),0j,0j,],[0j,0j,0j,(1+0j),],[0j,0j,(1+0j),0j]]\n",
    "out1 = multi_controlled_not(2, [0], 1)\n",
    "assert np.allclose(out1, exp1), f\"Test failed\""
   ]
  },
  {
   "cell_type": "code",
   "execution_count": null,
   "id": "c9ba4169-08c7-47d2-b04d-04ffb2020f62",
   "metadata": {
    "deletable": false,
    "editable": false,
    "nbgrader": {
     "cell_type": "code",
     "checksum": "469b8cd16c32632f2934315acd8952ee",
     "grade": true,
     "grade_id": "cell-ab5177486358a3ca",
     "locked": true,
     "points": 20,
     "schema_version": 3,
     "solution": false,
     "task": false
    }
   },
   "outputs": [
    {
     "ename": "NameError",
     "evalue": "name 'QuantumCircuit' is not defined",
     "output_type": "error",
     "traceback": [
      "\u001b[0;31m---------------------------------------------------------------------------\u001b[0m",
      "\u001b[0;31mNameError\u001b[0m                                 Traceback (most recent call last)",
      "Cell \u001b[0;32mIn[1], line 2\u001b[0m\n\u001b[1;32m      1\u001b[0m \u001b[38;5;66;03m# Define the quantum circuit with 4 qubits\u001b[39;00m\n\u001b[0;32m----> 2\u001b[0m qc \u001b[38;5;241m=\u001b[39m \u001b[43mQuantumCircuit\u001b[49m(\u001b[38;5;241m4\u001b[39m, \u001b[38;5;241m2\u001b[39m)  \u001b[38;5;66;03m# 4 qubits and 2 classical bits for measurement\u001b[39;00m\n\u001b[1;32m      4\u001b[0m \u001b[38;5;66;03m# Initialize inputs A=1, B=0, CarryIn=1\u001b[39;00m\n\u001b[1;32m      5\u001b[0m qc\u001b[38;5;241m.\u001b[39mx(\u001b[38;5;241m0\u001b[39m)  \u001b[38;5;66;03m# A = 1\u001b[39;00m\n",
      "\u001b[0;31mNameError\u001b[0m: name 'QuantumCircuit' is not defined"
     ]
    }
   ],
   "source": []
  },
  {
   "cell_type": "code",
   "execution_count": null,
   "id": "01e554fc-213a-4bbd-ae2a-5f2d653dfc24",
   "metadata": {
    "deletable": false,
    "editable": false,
    "nbgrader": {
     "cell_type": "code",
     "checksum": "09125b5378ee084520b467430cd2eb65",
     "grade": true,
     "grade_id": "cell-116c9eb621925770",
     "locked": true,
     "points": 20,
     "schema_version": 3,
     "solution": false,
     "task": false
    }
   },
   "outputs": [],
   "source": [
    "\n"
   ]
  },
  {
   "cell_type": "code",
   "execution_count": null,
   "id": "7fb8249d-a680-4117-a7e8-7daa06fac14b",
   "metadata": {
    "deletable": false,
    "editable": false,
    "nbgrader": {
     "cell_type": "code",
     "checksum": "be9591180a1dd2ff39e74e504baa0f95",
     "grade": true,
     "grade_id": "cell-c87fef63ea9998ee",
     "locked": true,
     "points": 20,
     "schema_version": 3,
     "solution": false,
     "task": false
    }
   },
   "outputs": [],
   "source": []
  },
  {
   "cell_type": "code",
   "execution_count": null,
   "id": "bcaad11c-5455-422e-900f-ffd1481e7bd8",
   "metadata": {
    "deletable": false,
    "editable": false,
    "nbgrader": {
     "cell_type": "code",
     "checksum": "ca959d9532cb1256b35f6b1fbe978a0c",
     "grade": true,
     "grade_id": "cell-1b71b8d401107d3c",
     "locked": true,
     "points": 20,
     "schema_version": 3,
     "solution": false,
     "task": false
    }
   },
   "outputs": [],
   "source": []
  }
 ],
 "metadata": {
  "kernelspec": {
   "display_name": "HEnv1",
   "language": "python",
   "name": "python3"
  },
  "language_info": {
   "codemirror_mode": {
    "name": "ipython",
    "version": 3
   },
   "file_extension": ".py",
   "mimetype": "text/x-python",
   "name": "python",
   "nbconvert_exporter": "python",
   "pygments_lexer": "ipython3",
   "version": "3.12.7"
  }
 },
 "nbformat": 4,
 "nbformat_minor": 5
}
