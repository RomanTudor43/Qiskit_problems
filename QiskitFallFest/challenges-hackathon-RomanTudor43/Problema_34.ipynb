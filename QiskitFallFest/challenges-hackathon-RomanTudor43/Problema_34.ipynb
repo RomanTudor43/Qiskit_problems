{
 "cells": [
  {
   "cell_type": "markdown",
   "id": "76f4e6e8-467e-4927-876d-043958d3754e",
   "metadata": {
    "deletable": false,
    "editable": false,
    "nbgrader": {
     "cell_type": "markdown",
     "checksum": "fe55ea1cbcbb7032c35c3bfc2ace00ad",
     "grade": false,
     "grade_id": "cell-a2717130957627a2",
     "locked": true,
     "schema_version": 3,
     "solution": false,
     "task": false
    }
   },
   "source": [
    "# Quantum Teleportation\n",
    "**Challenge:** \n",
    "\n",
    "> Implement a function ```quantum_teleportation(input_state, seed)``` that constructs a quantum circuit to perform quantum teleportation and returns the result counts.\n",
    "\n",
    "*Details:*\n",
    "\n",
    "1. Initialize the Circuit: Create a quantum circuit with three qubits.\n",
    "2. Prepare Bell State: Apply Hadamard and CNOT gates to the first two qubits to create an entangled Bell state.\n",
    "3. Entangle and Measure: Entangle the input state with the first qubit and measure the first two qubits.\n",
    "4. Apply Corrections: Apply appropriate X and Z gates to the third qubit based on the measurement results to complete the teleportation.\n"
   ]
  },
  {
   "cell_type": "code",
   "execution_count": null,
   "id": "2b2db294-1e94-485c-a5a3-f8b07d73b204",
   "metadata": {
    "deletable": false,
    "editable": false,
    "nbgrader": {
     "cell_type": "code",
     "checksum": "9fe44d7912d400188aa2d050dd80ce03",
     "grade": false,
     "grade_id": "cell-8c1c4d5f49ce6dc7",
     "locked": true,
     "schema_version": 3,
     "solution": false,
     "task": false
    }
   },
   "outputs": [],
   "source": [
    "!pip install qiskit[visualization]\n",
    "!pip install qiskit-aer\n",
    "!pip install numpy"
   ]
  },
  {
   "cell_type": "code",
   "execution_count": null,
   "id": "e2ded9d3-086a-479f-902e-d95fec26044b",
   "metadata": {
    "deletable": false,
    "editable": false,
    "nbgrader": {
     "cell_type": "code",
     "checksum": "3bbcfaf9e6b51d1083f28ef809fd9526",
     "grade": false,
     "grade_id": "cell-635ca5d30fad4b09",
     "locked": true,
     "schema_version": 3,
     "solution": false,
     "task": false
    }
   },
   "outputs": [],
   "source": [
    "from qiskit import QuantumCircuit, transpile\n",
    "from qiskit_aer import Aer\n",
    "import numpy as np\n",
    "from classiq import *"
   ]
  },
  {
   "cell_type": "code",
   "execution_count": null,
   "id": "f6dd206a-db06-421e-be94-204fc8ffd58b",
   "metadata": {
    "deletable": false,
    "nbgrader": {
     "cell_type": "code",
     "checksum": "40dd616304f419e9632dee75af078c6d",
     "grade": false,
     "grade_id": "cell-78642679ee29cf44",
     "locked": false,
     "schema_version": 3,
     "solution": true,
     "task": false
    }
   },
   "outputs": [],
   "source": [
    "def quantum_teleportation(input_state, seed):\n",
    "    # Initialize the circuit\n",
    "    # YOUR CODE HERE\n",
    "    raise NotImplementedError()\n",
    "    \n",
    "    # Prepare Bell state\n",
    "    # YOUR CODE HERE\n",
    "    raise NotImplementedError()\n",
    "    \n",
    "    # Entangle and measure\n",
    "    # YOUR CODE HERE\n",
    "    raise NotImplementedError()\n",
    "    \n",
    "    # Apply conditional gates based on the measurement results\n",
    "    # Apply Z gate if the first classical bit is 1\n",
    "    # Apply X gate if the second classical bit is 1\n",
    "    # YOUR CODE HERE\n",
    "    raise NotImplementedError()\n",
    "\n",
    "    # Measure the teleported qubit\n",
    "    circuit.measure(2, 2)\n",
    "\n",
    "    # Transpile and assemble the circuit for the backend\n",
    "    backend = Aer.get_backend('qasm_simulator')\n",
    "    transpiled_circuit = transpile(circuit, backend)\n",
    "\n",
    "    # Run the transpiled circuit on the backend and return the counts\n",
    "    job = backend.run(transpiled_circuit, shots=1024, seed_simulator=seed)\n",
    "    result = job.result()\n",
    "    counts = result.get_counts()\n",
    "    return counts"
   ]
  },
  {
   "cell_type": "code",
   "execution_count": null,
   "id": "0ca6a197-752c-483a-a6fe-635e0e87354d",
   "metadata": {
    "deletable": false,
    "editable": false,
    "nbgrader": {
     "cell_type": "code",
     "checksum": "514fe2d72b86a1176fe3ef0899be39f0",
     "grade": true,
     "grade_id": "cell-4df107be8bda1aa4",
     "locked": true,
     "points": 100,
     "schema_version": 3,
     "solution": false,
     "task": false
    }
   },
   "outputs": [],
   "source": [
    "\"\"\"Check that the function returns the correct output for several inputs\"\"\"\n",
    "assert quantum_teleportation([1/np.sqrt(2), -1/np.sqrt(2)], 1234) == {'110': 135, '100': 118, '101': 112, '000': 124, '011': 128, '001': 138, '010': 132, '111': 137}"
   ]
  }
 ],
 "metadata": {
  "kernelspec": {
   "display_name": "Python 3 (ipykernel)",
   "language": "python",
   "name": "python3"
  },
  "language_info": {
   "codemirror_mode": {
    "name": "ipython",
    "version": 3
   },
   "file_extension": ".py",
   "mimetype": "text/x-python",
   "name": "python",
   "nbconvert_exporter": "python",
   "pygments_lexer": "ipython3",
   "version": "3.10.11"
  }
 },
 "nbformat": 4,
 "nbformat_minor": 5
}
