{
 "cells": [
  {
   "cell_type": "markdown",
   "id": "a36e2c85-25c9-40db-bf50-6390672e835a",
   "metadata": {
    "deletable": false,
    "editable": false,
    "nbgrader": {
     "cell_type": "markdown",
     "checksum": "a8e3f2b348fe494f3f7203175773dd5a",
     "grade": false,
     "grade_id": "cell-cd943783637b650c",
     "locked": true,
     "schema_version": 3,
     "solution": false,
     "task": false
    }
   },
   "source": [
    "### PROBLEMA 23\n",
    "    Write a function create_cu3_gate(theta, phi, lambda, num_qubits, control_qubit, target_qubit) that generates the matrix representation of a custom controlled-U3 (CU3) gate. Return the matrix of the gate. Use the normal way of representing qubits (not the one Qiskit does)."
   ]
  },
  {
   "cell_type": "code",
   "execution_count": null,
   "id": "5d6b8f37-9b02-42c1-b4fb-2a09036ddbb9",
   "metadata": {
    "deletable": false,
    "editable": false,
    "nbgrader": {
     "cell_type": "code",
     "checksum": "58ceb3c1eff2f37d6812919edad35cb6",
     "grade": false,
     "grade_id": "cell-a1166fe863421f10",
     "locked": true,
     "schema_version": 3,
     "solution": false,
     "task": false
    }
   },
   "outputs": [],
   "source": [
    "!pip install numpy\n",
    "!pip install qiskit\n",
    "!pip install qiskit_aer"
   ]
  },
  {
   "cell_type": "code",
   "execution_count": null,
   "id": "08c4ec10-39d5-4813-8fa0-4969dbe8dd94",
   "metadata": {
    "deletable": false,
    "nbgrader": {
     "cell_type": "code",
     "checksum": "7a4db89643f1de39d292f934b0df2a6d",
     "grade": false,
     "grade_id": "cell-153e521616421585",
     "locked": false,
     "schema_version": 3,
     "solution": true,
     "task": false
    }
   },
   "outputs": [],
   "source": [
    "import numpy as np\n",
    "from qiskit import QuantumCircuit\n",
    "from qiskit.quantum_info import Operator\n",
    "from qiskit.circuit.library import UnitaryGate\n",
    "\n",
    "def create_cu3_gate(theta, phi, lamda, num_qubits, control_qubit, target_qubit):\n",
    "    # YOUR CODE HERE\n",
    "    raise NotImplementedError()"
   ]
  },
  {
   "cell_type": "code",
   "execution_count": null,
   "id": "3f017824-ce5b-4166-9e3a-4561e506f300",
   "metadata": {
    "deletable": false,
    "editable": false,
    "nbgrader": {
     "cell_type": "code",
     "checksum": "6bb3768e7b49844b8cda444a3972929a",
     "grade": true,
     "grade_id": "cell-1e56149605ad40ae",
     "locked": true,
     "points": 25,
     "schema_version": 3,
     "solution": false,
     "task": false
    }
   },
   "outputs": [],
   "source": [
    "exp1 = [[(0.9999999999999999-6.106226635438361e-16j),0j,(5.551115123125783e-17+9.614813431917822e-17j),0j,0j,0j,0j,0j,],[0j,(0.923879532511287+5.551115123125783e-17j),0j,(-0.331413574035592-0.1913417161825446j),0j,0j,0j,0j,],[(2.7755575615628914e-17+4.807406715958911e-17j),0j,(0.9999999999999997-8.881784197001252e-16j),0j,0j,0j,0j,0j,],[0j,(0.1913417161825451+0.3314135740355918j),0j,(6.661338147750939e-16+0.9238795325112867j),0j,0j,0j,0j,],[0j,0j,0j,0j,(0.9999999999999999-6.106226635438361e-16j),0j,(5.551115123125783e-17+9.614813431917822e-17j),0j,],[0j,0j,0j,0j,0j,(0.923879532511287+5.551115123125783e-17j),0j,(-0.331413574035592-0.1913417161825446j),],[0j,0j,0j,0j,(2.7755575615628914e-17+4.807406715958911e-17j),0j,(0.9999999999999997-8.881784197001252e-16j),0j,],[0j,0j,0j,0j,0j,(0.1913417161825451+0.3314135740355918j),0j,(6.661338147750939e-16+0.9238795325112867j)]]\n",
    "theta, phi, lamda = np.pi/4, np.pi/3, np.pi/6\n",
    "out1 = create_cu3_gate(theta, phi, lamda, 3, 0, 1)\n",
    "assert np.allclose(exp1, out1), f\"Test failed\""
   ]
  },
  {
   "cell_type": "code",
   "execution_count": null,
   "id": "b159895b-ee1f-4051-913d-0d8375f646f9",
   "metadata": {
    "deletable": false,
    "editable": false,
    "nbgrader": {
     "cell_type": "code",
     "checksum": "658a6cc56418eb18bb28214efb882eb6",
     "grade": true,
     "grade_id": "cell-4c104786fffc63ee",
     "locked": true,
     "points": 25,
     "schema_version": 3,
     "solution": false,
     "task": false
    }
   },
   "outputs": [],
   "source": []
  },
  {
   "cell_type": "code",
   "execution_count": null,
   "id": "12795510-8bf6-46c9-8837-fcd25523b0c8",
   "metadata": {
    "deletable": false,
    "editable": false,
    "nbgrader": {
     "cell_type": "code",
     "checksum": "ddb23bfc42363b430f884247ec3492d2",
     "grade": true,
     "grade_id": "cell-369a7e0868939b14",
     "locked": true,
     "points": 25,
     "schema_version": 3,
     "solution": false,
     "task": false
    }
   },
   "outputs": [],
   "source": []
  },
  {
   "cell_type": "code",
   "execution_count": null,
   "id": "dd60db12-2cfc-4596-a70c-3fdd73fefa2d",
   "metadata": {
    "deletable": false,
    "editable": false,
    "nbgrader": {
     "cell_type": "code",
     "checksum": "461bffc32bf6e8d5f3c02f813dc93b7b",
     "grade": true,
     "grade_id": "cell-267385755d72d536",
     "locked": true,
     "points": 25,
     "schema_version": 3,
     "solution": false,
     "task": false
    }
   },
   "outputs": [],
   "source": []
  }
 ],
 "metadata": {
  "kernelspec": {
   "display_name": "Python 3 (ipykernel)",
   "language": "python",
   "name": "python3"
  },
  "language_info": {
   "codemirror_mode": {
    "name": "ipython",
    "version": 3
   },
   "file_extension": ".py",
   "mimetype": "text/x-python",
   "name": "python",
   "nbconvert_exporter": "python",
   "pygments_lexer": "ipython3",
   "version": "3.10.11"
  }
 },
 "nbformat": 4,
 "nbformat_minor": 5
}
