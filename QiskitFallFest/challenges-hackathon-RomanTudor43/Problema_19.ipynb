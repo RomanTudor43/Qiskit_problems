{
 "cells": [
  {
   "cell_type": "markdown",
   "id": "db011c33-0683-4872-803a-a525eddb9ba1",
   "metadata": {
    "deletable": false,
    "editable": false,
    "nbgrader": {
     "cell_type": "markdown",
     "checksum": "25a2b66da95b1d4c91f9bbe32b1bbc5e",
     "grade": false,
     "grade_id": "cell-cd21465ecd903bac",
     "locked": true,
     "schema_version": 3,
     "solution": false,
     "task": false
    }
   },
   "source": [
    "#### PROBLEMA 19\n",
    "    Write a function quantum_or_gate(input1, input2) that simulates a classical OR gate using a quantum circuit. The circuit should take the input state ∣input1,input2,0⟩ and produce the output state ∣input1,input2,(input1 OR input2)⟩. The function should:\n",
    "    - Initialize the qubits based on the binary values of input1 and input2.\n",
    "    - Apply the appropriate quantum gate/s to compute the OR operation.\n",
    "    - Combine all operations into a single gate and return the resulting quantum circuit.\n",
    "    Note: Do not include measurement operations. \n"
   ]
  },
  {
   "cell_type": "code",
   "execution_count": null,
   "id": "e14a41de-908e-4bca-8cf2-71feef84fd34",
   "metadata": {
    "deletable": false,
    "editable": false,
    "nbgrader": {
     "cell_type": "code",
     "checksum": "c47426f29e5f7d2a696ad4b485c93bf4",
     "grade": false,
     "grade_id": "cell-8ed999ebc2163d12",
     "locked": true,
     "schema_version": 3,
     "solution": false,
     "task": false
    }
   },
   "outputs": [],
   "source": [
    "!pip install numpy\n",
    "!pip install qiskit\n",
    "!pip install qiskit_aer"
   ]
  },
  {
   "cell_type": "code",
   "execution_count": 4,
   "id": "3226dd8c-2f3f-4baa-a7ff-4d354bfb08d0",
   "metadata": {
    "deletable": false,
    "nbgrader": {
     "cell_type": "code",
     "checksum": "a3447f29c970d589a200ae9d98334d96",
     "grade": false,
     "grade_id": "cell-27808da576c0e8c3",
     "locked": false,
     "schema_version": 3,
     "solution": true,
     "task": false
    }
   },
   "outputs": [],
   "source": [
    "import numpy as np\n",
    "from qiskit import QuantumCircuit\n",
    "from qiskit.circuit.library import UnitaryGate\n",
    "from qiskit.quantum_info import Operator\n",
    "\n",
    "def quantum_or_gate(input1, input2):\n",
    "   \n",
    "    qc = QuantumCircuit(3)\n",
    "\n",
    "\n",
    "    if input1 == 1:\n",
    "        qc.x(0)  \n",
    "    if input2 == 1:\n",
    "        qc.x(1)  \n",
    "    qc.ccx(0, 1, 2) \n",
    "\n",
    "    return qc"
   ]
  },
  {
   "cell_type": "code",
   "execution_count": 6,
   "id": "e50cff50-dd80-4786-8cb1-ae2f65932fab",
   "metadata": {
    "deletable": false,
    "editable": false,
    "nbgrader": {
     "cell_type": "code",
     "checksum": "2ab57db22f0341fb335e46d64ebf954f",
     "grade": true,
     "grade_id": "cell-dfb4585baec78103",
     "locked": true,
     "points": 25,
     "schema_version": 3,
     "solution": false,
     "task": false
    }
   },
   "outputs": [
    {
     "ename": "ValueError",
     "evalue": "setting an array element with a sequence. The requested array has an inhomogeneous shape after 2 dimensions. The detected shape was (1, 3) + inhomogeneous part.",
     "output_type": "error",
     "traceback": [
      "\u001b[0;31m---------------------------------------------------------------------------\u001b[0m",
      "\u001b[0;31mValueError\u001b[0m                                Traceback (most recent call last)",
      "Cell \u001b[0;32mIn[6], line 3\u001b[0m\n\u001b[1;32m      1\u001b[0m exp1 \u001b[38;5;241m=\u001b[39m [[(\u001b[38;5;241m1\u001b[39m\u001b[38;5;241m+\u001b[39m\u001b[38;5;241m0\u001b[39mj),\u001b[38;5;241m0\u001b[39mj,\u001b[38;5;241m0\u001b[39mj,\u001b[38;5;241m0\u001b[39mj,\u001b[38;5;241m0\u001b[39mj,\u001b[38;5;241m0\u001b[39mj,\u001b[38;5;241m0\u001b[39mj,\u001b[38;5;241m0\u001b[39mj,],[\u001b[38;5;241m0\u001b[39mj,\u001b[38;5;241m0\u001b[39mj,\u001b[38;5;241m0\u001b[39mj,\u001b[38;5;241m0\u001b[39mj,\u001b[38;5;241m0\u001b[39mj,(\u001b[38;5;241m1\u001b[39m\u001b[38;5;241m+\u001b[39m\u001b[38;5;241m0\u001b[39mj),\u001b[38;5;241m0\u001b[39mj,\u001b[38;5;241m0\u001b[39mj,],[\u001b[38;5;241m0\u001b[39mj,\u001b[38;5;241m0\u001b[39mj,\u001b[38;5;241m0\u001b[39mj,\u001b[38;5;241m0\u001b[39mj,\u001b[38;5;241m0\u001b[39mj,\u001b[38;5;241m0\u001b[39mj,(\u001b[38;5;241m1\u001b[39m\u001b[38;5;241m+\u001b[39m\u001b[38;5;241m0\u001b[39mj),\u001b[38;5;241m0\u001b[39mj,],[\u001b[38;5;241m0\u001b[39mj,\u001b[38;5;241m0\u001b[39mj,\u001b[38;5;241m0\u001b[39mj,\u001b[38;5;241m0\u001b[39mj,\u001b[38;5;241m0\u001b[39mj,\u001b[38;5;241m0\u001b[39mj,\u001b[38;5;241m0\u001b[39mj,(\u001b[38;5;241m1\u001b[39m\u001b[38;5;241m+\u001b[39m\u001b[38;5;241m0\u001b[39mj),],[\u001b[38;5;241m0\u001b[39mj,\u001b[38;5;241m0\u001b[39mj,\u001b[38;5;241m0\u001b[39mj,\u001b[38;5;241m0\u001b[39mj,(\u001b[38;5;241m1\u001b[39m\u001b[38;5;241m+\u001b[39m\u001b[38;5;241m0\u001b[39mj),\u001b[38;5;241m0\u001b[39mj,\u001b[38;5;241m0\u001b[39mj,\u001b[38;5;241m0\u001b[39mj,],[\u001b[38;5;241m0\u001b[39mj,(\u001b[38;5;241m1\u001b[39m\u001b[38;5;241m+\u001b[39m\u001b[38;5;241m0\u001b[39mj),\u001b[38;5;241m0\u001b[39mj,\u001b[38;5;241m0\u001b[39mj,\u001b[38;5;241m0\u001b[39mj,\u001b[38;5;241m0\u001b[39mj,\u001b[38;5;241m0\u001b[39mj,\u001b[38;5;241m0\u001b[39mj,],[\u001b[38;5;241m0\u001b[39mj,\u001b[38;5;241m0\u001b[39mj,(\u001b[38;5;241m1\u001b[39m\u001b[38;5;241m+\u001b[39m\u001b[38;5;241m0\u001b[39mj),\u001b[38;5;241m0\u001b[39mj,\u001b[38;5;241m0\u001b[39mj,\u001b[38;5;241m0\u001b[39mj,\u001b[38;5;241m0\u001b[39mj,\u001b[38;5;241m0\u001b[39mj,],[\u001b[38;5;241m0\u001b[39mj,\u001b[38;5;241m0\u001b[39mj,\u001b[38;5;241m0\u001b[39mj,(\u001b[38;5;241m1\u001b[39m\u001b[38;5;241m+\u001b[39m\u001b[38;5;241m0\u001b[39mj),\u001b[38;5;241m0\u001b[39mj,\u001b[38;5;241m0\u001b[39mj,\u001b[38;5;241m0\u001b[39mj,\u001b[38;5;241m0\u001b[39mj]]\n\u001b[1;32m      2\u001b[0m out1 \u001b[38;5;241m=\u001b[39m quantum_or_gate(\u001b[38;5;241m0\u001b[39m,\u001b[38;5;241m0\u001b[39m)\n\u001b[0;32m----> 3\u001b[0m \u001b[38;5;28;01massert\u001b[39;00m \u001b[43mnp\u001b[49m\u001b[38;5;241;43m.\u001b[39;49m\u001b[43mallclose\u001b[49m\u001b[43m(\u001b[49m\u001b[43mexp1\u001b[49m\u001b[43m,\u001b[49m\u001b[43m \u001b[49m\u001b[43mout1\u001b[49m\u001b[43m)\u001b[49m, \u001b[38;5;124mf\u001b[39m\u001b[38;5;124m\"\u001b[39m\u001b[38;5;124mTest failed\u001b[39m\u001b[38;5;124m\"\u001b[39m\n",
      "File \u001b[0;32m~/Enviroments/HEnv1/lib/python3.12/site-packages/numpy/_core/numeric.py:2341\u001b[0m, in \u001b[0;36mallclose\u001b[0;34m(a, b, rtol, atol, equal_nan)\u001b[0m\n\u001b[1;32m   2253\u001b[0m \u001b[38;5;129m@array_function_dispatch\u001b[39m(_allclose_dispatcher)\n\u001b[1;32m   2254\u001b[0m \u001b[38;5;28;01mdef\u001b[39;00m \u001b[38;5;21mallclose\u001b[39m(a, b, rtol\u001b[38;5;241m=\u001b[39m\u001b[38;5;241m1.e-5\u001b[39m, atol\u001b[38;5;241m=\u001b[39m\u001b[38;5;241m1.e-8\u001b[39m, equal_nan\u001b[38;5;241m=\u001b[39m\u001b[38;5;28;01mFalse\u001b[39;00m):\n\u001b[1;32m   2255\u001b[0m \u001b[38;5;250m    \u001b[39m\u001b[38;5;124;03m\"\"\"\u001b[39;00m\n\u001b[1;32m   2256\u001b[0m \u001b[38;5;124;03m    Returns True if two arrays are element-wise equal within a tolerance.\u001b[39;00m\n\u001b[1;32m   2257\u001b[0m \n\u001b[0;32m   (...)\u001b[0m\n\u001b[1;32m   2339\u001b[0m \n\u001b[1;32m   2340\u001b[0m \u001b[38;5;124;03m    \"\"\"\u001b[39;00m\n\u001b[0;32m-> 2341\u001b[0m     res \u001b[38;5;241m=\u001b[39m \u001b[38;5;28mall\u001b[39m(\u001b[43misclose\u001b[49m\u001b[43m(\u001b[49m\u001b[43ma\u001b[49m\u001b[43m,\u001b[49m\u001b[43m \u001b[49m\u001b[43mb\u001b[49m\u001b[43m,\u001b[49m\u001b[43m \u001b[49m\u001b[43mrtol\u001b[49m\u001b[38;5;241;43m=\u001b[39;49m\u001b[43mrtol\u001b[49m\u001b[43m,\u001b[49m\u001b[43m \u001b[49m\u001b[43matol\u001b[49m\u001b[38;5;241;43m=\u001b[39;49m\u001b[43matol\u001b[49m\u001b[43m,\u001b[49m\u001b[43m \u001b[49m\u001b[43mequal_nan\u001b[49m\u001b[38;5;241;43m=\u001b[39;49m\u001b[43mequal_nan\u001b[49m\u001b[43m)\u001b[49m)\n\u001b[1;32m   2342\u001b[0m     \u001b[38;5;28;01mreturn\u001b[39;00m builtins\u001b[38;5;241m.\u001b[39mbool(res)\n",
      "File \u001b[0;32m~/Enviroments/HEnv1/lib/python3.12/site-packages/numpy/_core/numeric.py:2443\u001b[0m, in \u001b[0;36misclose\u001b[0;34m(a, b, rtol, atol, equal_nan)\u001b[0m\n\u001b[1;32m   2351\u001b[0m \u001b[38;5;250m\u001b[39m\u001b[38;5;124;03m\"\"\"\u001b[39;00m\n\u001b[1;32m   2352\u001b[0m \u001b[38;5;124;03mReturns a boolean array where two arrays are element-wise equal within a\u001b[39;00m\n\u001b[1;32m   2353\u001b[0m \u001b[38;5;124;03mtolerance.\u001b[39;00m\n\u001b[0;32m   (...)\u001b[0m\n\u001b[1;32m   2440\u001b[0m \n\u001b[1;32m   2441\u001b[0m \u001b[38;5;124;03m\"\"\"\u001b[39;00m\n\u001b[1;32m   2442\u001b[0m \u001b[38;5;66;03m# Turn all but python scalars into arrays.\u001b[39;00m\n\u001b[0;32m-> 2443\u001b[0m x, y, atol, rtol \u001b[38;5;241m=\u001b[39m (\n\u001b[1;32m   2444\u001b[0m     a \u001b[38;5;28;01mif\u001b[39;00m \u001b[38;5;28misinstance\u001b[39m(a, (\u001b[38;5;28mint\u001b[39m, \u001b[38;5;28mfloat\u001b[39m, \u001b[38;5;28mcomplex\u001b[39m)) \u001b[38;5;28;01melse\u001b[39;00m asanyarray(a)\n\u001b[1;32m   2445\u001b[0m     \u001b[38;5;28;01mfor\u001b[39;00m a \u001b[38;5;129;01min\u001b[39;00m (a, b, atol, rtol))\n\u001b[1;32m   2447\u001b[0m \u001b[38;5;66;03m# Make sure y is an inexact type to avoid bad behavior on abs(MIN_INT).\u001b[39;00m\n\u001b[1;32m   2448\u001b[0m \u001b[38;5;66;03m# This will cause casting of x later. Also, make sure to allow subclasses\u001b[39;00m\n\u001b[1;32m   2449\u001b[0m \u001b[38;5;66;03m# (e.g., for numpy.ma).\u001b[39;00m\n\u001b[0;32m   (...)\u001b[0m\n\u001b[1;32m   2452\u001b[0m \u001b[38;5;66;03m#       timedelta works if `atol` is an integer or also a timedelta.\u001b[39;00m\n\u001b[1;32m   2453\u001b[0m \u001b[38;5;66;03m#       Although, the default tolerances are unlikely to be useful\u001b[39;00m\n\u001b[1;32m   2454\u001b[0m \u001b[38;5;28;01mif\u001b[39;00m (dtype \u001b[38;5;241m:=\u001b[39m \u001b[38;5;28mgetattr\u001b[39m(y, \u001b[38;5;124m\"\u001b[39m\u001b[38;5;124mdtype\u001b[39m\u001b[38;5;124m\"\u001b[39m, \u001b[38;5;28;01mNone\u001b[39;00m)) \u001b[38;5;129;01mis\u001b[39;00m \u001b[38;5;129;01mnot\u001b[39;00m \u001b[38;5;28;01mNone\u001b[39;00m \u001b[38;5;129;01mand\u001b[39;00m dtype\u001b[38;5;241m.\u001b[39mkind \u001b[38;5;241m!=\u001b[39m \u001b[38;5;124m\"\u001b[39m\u001b[38;5;124mm\u001b[39m\u001b[38;5;124m\"\u001b[39m:\n",
      "File \u001b[0;32m~/Enviroments/HEnv1/lib/python3.12/site-packages/numpy/_core/numeric.py:2444\u001b[0m, in \u001b[0;36m<genexpr>\u001b[0;34m(.0)\u001b[0m\n\u001b[1;32m   2351\u001b[0m \u001b[38;5;250m\u001b[39m\u001b[38;5;124;03m\"\"\"\u001b[39;00m\n\u001b[1;32m   2352\u001b[0m \u001b[38;5;124;03mReturns a boolean array where two arrays are element-wise equal within a\u001b[39;00m\n\u001b[1;32m   2353\u001b[0m \u001b[38;5;124;03mtolerance.\u001b[39;00m\n\u001b[0;32m   (...)\u001b[0m\n\u001b[1;32m   2440\u001b[0m \n\u001b[1;32m   2441\u001b[0m \u001b[38;5;124;03m\"\"\"\u001b[39;00m\n\u001b[1;32m   2442\u001b[0m \u001b[38;5;66;03m# Turn all but python scalars into arrays.\u001b[39;00m\n\u001b[1;32m   2443\u001b[0m x, y, atol, rtol \u001b[38;5;241m=\u001b[39m (\n\u001b[0;32m-> 2444\u001b[0m     a \u001b[38;5;28;01mif\u001b[39;00m \u001b[38;5;28misinstance\u001b[39m(a, (\u001b[38;5;28mint\u001b[39m, \u001b[38;5;28mfloat\u001b[39m, \u001b[38;5;28mcomplex\u001b[39m)) \u001b[38;5;28;01melse\u001b[39;00m \u001b[43masanyarray\u001b[49m\u001b[43m(\u001b[49m\u001b[43ma\u001b[49m\u001b[43m)\u001b[49m\n\u001b[1;32m   2445\u001b[0m     \u001b[38;5;28;01mfor\u001b[39;00m a \u001b[38;5;129;01min\u001b[39;00m (a, b, atol, rtol))\n\u001b[1;32m   2447\u001b[0m \u001b[38;5;66;03m# Make sure y is an inexact type to avoid bad behavior on abs(MIN_INT).\u001b[39;00m\n\u001b[1;32m   2448\u001b[0m \u001b[38;5;66;03m# This will cause casting of x later. Also, make sure to allow subclasses\u001b[39;00m\n\u001b[1;32m   2449\u001b[0m \u001b[38;5;66;03m# (e.g., for numpy.ma).\u001b[39;00m\n\u001b[0;32m   (...)\u001b[0m\n\u001b[1;32m   2452\u001b[0m \u001b[38;5;66;03m#       timedelta works if `atol` is an integer or also a timedelta.\u001b[39;00m\n\u001b[1;32m   2453\u001b[0m \u001b[38;5;66;03m#       Although, the default tolerances are unlikely to be useful\u001b[39;00m\n\u001b[1;32m   2454\u001b[0m \u001b[38;5;28;01mif\u001b[39;00m (dtype \u001b[38;5;241m:=\u001b[39m \u001b[38;5;28mgetattr\u001b[39m(y, \u001b[38;5;124m\"\u001b[39m\u001b[38;5;124mdtype\u001b[39m\u001b[38;5;124m\"\u001b[39m, \u001b[38;5;28;01mNone\u001b[39;00m)) \u001b[38;5;129;01mis\u001b[39;00m \u001b[38;5;129;01mnot\u001b[39;00m \u001b[38;5;28;01mNone\u001b[39;00m \u001b[38;5;129;01mand\u001b[39;00m dtype\u001b[38;5;241m.\u001b[39mkind \u001b[38;5;241m!=\u001b[39m \u001b[38;5;124m\"\u001b[39m\u001b[38;5;124mm\u001b[39m\u001b[38;5;124m\"\u001b[39m:\n",
      "\u001b[0;31mValueError\u001b[0m: setting an array element with a sequence. The requested array has an inhomogeneous shape after 2 dimensions. The detected shape was (1, 3) + inhomogeneous part."
     ]
    }
   ],
   "source": [
    "exp1 = [[(1+0j),0j,0j,0j,0j,0j,0j,0j,],[0j,0j,0j,0j,0j,(1+0j),0j,0j,],[0j,0j,0j,0j,0j,0j,(1+0j),0j,],[0j,0j,0j,0j,0j,0j,0j,(1+0j),],[0j,0j,0j,0j,(1+0j),0j,0j,0j,],[0j,(1+0j),0j,0j,0j,0j,0j,0j,],[0j,0j,(1+0j),0j,0j,0j,0j,0j,],[0j,0j,0j,(1+0j),0j,0j,0j,0j]]\n",
    "out1 = quantum_or_gate(0,0)\n",
    "assert np.allclose(exp1, out1), f\"Test failed\""
   ]
  },
  {
   "cell_type": "code",
   "execution_count": null,
   "id": "f8200afe-8670-41d7-a203-104bb1cb773c",
   "metadata": {
    "deletable": false,
    "editable": false,
    "nbgrader": {
     "cell_type": "code",
     "checksum": "7a405d66b9ebb8bc4556775190e72b54",
     "grade": true,
     "grade_id": "cell-1dcfe111064f6665",
     "locked": true,
     "points": 25,
     "schema_version": 3,
     "solution": false,
     "task": false
    }
   },
   "outputs": [],
   "source": []
  },
  {
   "cell_type": "code",
   "execution_count": null,
   "id": "5cfe9846-ab07-494b-9309-0a00d740df13",
   "metadata": {
    "deletable": false,
    "editable": false,
    "nbgrader": {
     "cell_type": "code",
     "checksum": "e7f88fb64f22e783d3cb0a101575c1d7",
     "grade": true,
     "grade_id": "cell-aa32611f42608f85",
     "locked": true,
     "points": 25,
     "schema_version": 3,
     "solution": false,
     "task": false
    }
   },
   "outputs": [],
   "source": []
  },
  {
   "cell_type": "code",
   "execution_count": null,
   "id": "ee56c2b1-f760-4523-9e89-a4ce87b373cf",
   "metadata": {
    "deletable": false,
    "editable": false,
    "nbgrader": {
     "cell_type": "code",
     "checksum": "3d19b89ce11613742181a933ab3b9bf5",
     "grade": true,
     "grade_id": "cell-94d47ca5e8b47aa1",
     "locked": true,
     "points": 25,
     "schema_version": 3,
     "solution": false,
     "task": false
    }
   },
   "outputs": [],
   "source": []
  }
 ],
 "metadata": {
  "kernelspec": {
   "display_name": "HEnv1",
   "language": "python",
   "name": "python3"
  },
  "language_info": {
   "codemirror_mode": {
    "name": "ipython",
    "version": 3
   },
   "file_extension": ".py",
   "mimetype": "text/x-python",
   "name": "python",
   "nbconvert_exporter": "python",
   "pygments_lexer": "ipython3",
   "version": "3.12.7"
  }
 },
 "nbformat": 4,
 "nbformat_minor": 5
}
