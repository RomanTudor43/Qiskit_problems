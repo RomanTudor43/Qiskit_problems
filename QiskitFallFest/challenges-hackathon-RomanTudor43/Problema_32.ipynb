{
 "cells": [
  {
   "cell_type": "markdown",
   "id": "d80aa347-039b-40ce-857a-ed060e5bc16f",
   "metadata": {
    "deletable": false,
    "editable": false,
    "nbgrader": {
     "cell_type": "markdown",
     "checksum": "d0a5d82db5cad762292f7494a09cc86e",
     "grade": false,
     "grade_id": "cell-230bcde4dfe3190c",
     "locked": true,
     "schema_version": 3,
     "solution": false,
     "task": false
    }
   },
   "source": [
    "### PROBLEMA 32\n",
    "    Write a function implement_mod2_oracle(num_qubits) that constructs a quantum oracle for the function f(x)=xmod  2. The function should take the number of input qubits (num_qubits) as a parameter and create a quantum circuit where the input state ∣x0⟩ is transformed into ∣x (xmod  2)⟩, with the result stored in an ancilla qubit. The function should return the quantum circuit implementing this oracle. Construct just the circuit that would implement this functionality.\n"
   ]
  },
  {
   "cell_type": "code",
   "execution_count": null,
   "id": "7070e77d-dc18-4340-b2d0-8334cd465fb0",
   "metadata": {
    "deletable": false,
    "editable": false,
    "nbgrader": {
     "cell_type": "code",
     "checksum": "a7566c6324c96fe22155aceb4ff8eb6d",
     "grade": false,
     "grade_id": "cell-e2cd22a9e4d90b78",
     "locked": true,
     "schema_version": 3,
     "solution": false,
     "task": false
    }
   },
   "outputs": [],
   "source": [
    "!pip install numpy\n",
    "!pip install qiskit\n",
    "!pip install qiskit_aer"
   ]
  },
  {
   "cell_type": "code",
   "execution_count": null,
   "id": "fbe5d6f8-9a13-47f2-98dc-a59b4670f4de",
   "metadata": {
    "deletable": false,
    "nbgrader": {
     "cell_type": "code",
     "checksum": "85c3ca10a019d88db4f04e78d9f9a019",
     "grade": false,
     "grade_id": "cell-1a33b47a04a5d05d",
     "locked": false,
     "schema_version": 3,
     "solution": true,
     "task": false
    }
   },
   "outputs": [],
   "source": [
    "from qiskit import QuantumCircuit\n",
    "from qiskit.quantum_info import Operator\n",
    "import numpy as np\n",
    "\n",
    "def implement_mod2_oracle(num_qubits):\n",
    "    # YOUR CODE HERE\n",
    "    raise NotImplementedError()"
   ]
  },
  {
   "cell_type": "code",
   "execution_count": null,
   "id": "b0c215cf-bd68-4a83-8ed8-725f08b9bc85",
   "metadata": {
    "deletable": false,
    "editable": false,
    "nbgrader": {
     "cell_type": "code",
     "checksum": "3e90b0b89da6542431f46c4a89694629",
     "grade": true,
     "grade_id": "cell-70d550916739d403",
     "locked": true,
     "points": 50,
     "schema_version": 3,
     "solution": false,
     "task": false
    }
   },
   "outputs": [],
   "source": [
    "exp1 = [[(1+0j),0j,0j,0j,0j,0j,0j,0j,],[0j,(1+0j),0j,0j,0j,0j,0j,0j,],[0j,0j,0j,0j,0j,0j,(1+0j),0j,],[0j,0j,0j,0j,0j,0j,0j,(1+0j),],[0j,0j,0j,0j,(1+0j),0j,0j,0j,],[0j,0j,0j,0j,0j,(1+0j),0j,0j,],[0j,0j,(1+0j),0j,0j,0j,0j,0j,],[0j,0j,0j,(1+0j),0j,0j,0j,0j]]\n",
    "out1 = implement_mod2_oracle(2)\n",
    "assert np.allclose(out1, exp1), f\"Test failed\""
   ]
  },
  {
   "cell_type": "code",
   "execution_count": null,
   "id": "f55fe61d-756d-4ed1-902a-66052e3f54b5",
   "metadata": {
    "deletable": false,
    "editable": false,
    "nbgrader": {
     "cell_type": "code",
     "checksum": "0869382c281b67943edd147012dda92f",
     "grade": true,
     "grade_id": "cell-d6ef329119097a82",
     "locked": true,
     "points": 50,
     "schema_version": 3,
     "solution": false,
     "task": false
    }
   },
   "outputs": [],
   "source": []
  },
  {
   "cell_type": "code",
   "execution_count": null,
   "id": "ee286d2d-b15e-42bb-9ef2-186c78a6e86a",
   "metadata": {
    "deletable": false,
    "editable": false,
    "nbgrader": {
     "cell_type": "code",
     "checksum": "82da859775b2b35c749bd480ce0cb7de",
     "grade": true,
     "grade_id": "cell-ae07cd2d80a36f2f",
     "locked": true,
     "points": 50,
     "schema_version": 3,
     "solution": false,
     "task": false
    }
   },
   "outputs": [],
   "source": []
  }
 ],
 "metadata": {
  "kernelspec": {
   "display_name": "Python 3 (ipykernel)",
   "language": "python",
   "name": "python3"
  },
  "language_info": {
   "codemirror_mode": {
    "name": "ipython",
    "version": 3
   },
   "file_extension": ".py",
   "mimetype": "text/x-python",
   "name": "python",
   "nbconvert_exporter": "python",
   "pygments_lexer": "ipython3",
   "version": "3.10.11"
  }
 },
 "nbformat": 4,
 "nbformat_minor": 5
}
