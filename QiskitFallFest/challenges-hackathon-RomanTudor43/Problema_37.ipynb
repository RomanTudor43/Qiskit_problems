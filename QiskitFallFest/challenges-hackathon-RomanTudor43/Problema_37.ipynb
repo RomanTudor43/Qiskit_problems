{
 "cells": [
  {
   "cell_type": "markdown",
   "id": "9bc66b7d-f62d-4513-8c8d-c817c0929a0c",
   "metadata": {
    "deletable": false,
    "editable": false,
    "nbgrader": {
     "cell_type": "markdown",
     "checksum": "1f85e3c3891b26352a5b194edb7932ee",
     "grade": false,
     "grade_id": "cell-4ce69ef7058bb732",
     "locked": true,
     "schema_version": 3,
     "solution": false,
     "task": false
    }
   },
   "source": [
    "# Circuit Depth Optimization with Classiq\n",
    "\n",
    "**Challenge:**\n",
    "\n",
    "Implement a function ```optimize_circuit(quantum_model)``` that synthesizes two quantum circuits based on the quantum_model, one without constraints and the other one optimized such that it has minimum depth. You must use the Classiq SDK and the function should return the optimized model's depth and the depth ratio between the two circuits: $depth\\_optimized\\_circuit / depth\\_simple\\_circuit$."
   ]
  },
  {
   "cell_type": "code",
   "execution_count": null,
   "id": "1ba1a846-84a6-4d8d-a60c-54ce461bcbe3",
   "metadata": {
    "deletable": false,
    "editable": false,
    "nbgrader": {
     "cell_type": "code",
     "checksum": "502483570b21e7cc98c5c824c64a9635",
     "grade": false,
     "grade_id": "cell-370fd1aadf4b03ac",
     "locked": true,
     "schema_version": 3,
     "solution": false,
     "task": false
    }
   },
   "outputs": [],
   "source": [
    "!pip install classiq"
   ]
  },
  {
   "cell_type": "code",
   "execution_count": null,
   "id": "6fe482b8-3a54-4acc-a0a4-7950d9d68939",
   "metadata": {
    "deletable": false,
    "editable": false,
    "nbgrader": {
     "cell_type": "code",
     "checksum": "072781098db6a31da1943b344d0125a1",
     "grade": false,
     "grade_id": "cell-58036be43d67aa6f",
     "locked": true,
     "schema_version": 3,
     "solution": false,
     "task": false
    }
   },
   "outputs": [],
   "source": [
    "from classiq import *"
   ]
  },
  {
   "cell_type": "code",
   "execution_count": null,
   "id": "e3d76d42-9ac3-4f4e-b41e-4fc08a07d27b",
   "metadata": {
    "deletable": false,
    "nbgrader": {
     "cell_type": "code",
     "checksum": "e7cf6c72c3c0ec33a05038db65b69e24",
     "grade": false,
     "grade_id": "cell-de8933b1341f1b4c",
     "locked": false,
     "schema_version": 3,
     "solution": true,
     "task": false
    }
   },
   "outputs": [],
   "source": [
    "# Define the function for the challenge\n",
    "def optimize_circuit(quantum_model: str):\n",
    "    # Create an optimized model\n",
    "    # YOUR CODE HERE\n",
    "    raise NotImplementedError()\n",
    "    \n",
    "    # Synthesize both models into quantum programs\n",
    "    # YOUR CODE HERE\n",
    "    raise NotImplementedError()\n",
    "\n",
    "    # Compute the depths of the circuits\n",
    "    # YOUR CODE HERE\n",
    "    raise NotImplementedError()\n",
    "\n",
    "    # Compute the ratio of widths after optimization\n",
    "    # YOUR CODE HERE\n",
    "    raise NotImplementedError()\n",
    "\n",
    "    return depth_opt, ratio"
   ]
  },
  {
   "cell_type": "code",
   "execution_count": null,
   "id": "f7ae6862-acf6-4c78-88f9-d077068859a2",
   "metadata": {
    "deletable": false,
    "editable": false,
    "nbgrader": {
     "cell_type": "code",
     "checksum": "426a1803c18159ed319297d2432f162c",
     "grade": true,
     "grade_id": "cell-f114418bcb4ef17b",
     "locked": true,
     "points": 0,
     "schema_version": 3,
     "solution": false,
     "task": false
    }
   },
   "outputs": [],
   "source": [
    "\"\"\"Check that the function returns the correct output for several inputs\"\"\"\n",
    "@qfunc\n",
    "def main(x: Output[QArray[QBit]], y: Output[QBit]):\n",
    "    allocate(15, x)\n",
    "    allocate(1, y)\n",
    "    control(ctrl=x, stmt_block=lambda: X(y))\n",
    "\n",
    "quantum_model_test = create_model(main)\n",
    "# Check the function\n",
    "depth, ratio = optimize_circuit(quantum_model_test)\n"
   ]
  }
 ],
 "metadata": {
  "kernelspec": {
   "display_name": "Python 3 (ipykernel)",
   "language": "python",
   "name": "python3"
  },
  "language_info": {
   "codemirror_mode": {
    "name": "ipython",
    "version": 3
   },
   "file_extension": ".py",
   "mimetype": "text/x-python",
   "name": "python",
   "nbconvert_exporter": "python",
   "pygments_lexer": "ipython3",
   "version": "3.10.11"
  }
 },
 "nbformat": 4,
 "nbformat_minor": 5
}
