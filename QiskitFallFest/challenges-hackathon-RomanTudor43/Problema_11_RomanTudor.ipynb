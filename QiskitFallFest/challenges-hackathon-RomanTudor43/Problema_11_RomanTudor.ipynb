{
 "cells": [
  {
   "cell_type": "markdown",
   "id": "5a58cb54-58e1-45d8-a83c-e7195357c0e8",
   "metadata": {
    "deletable": false,
    "editable": false,
    "nbgrader": {
     "cell_type": "markdown",
     "checksum": "cb014e27819cbc9abe130ab53bff6f21",
     "grade": false,
     "grade_id": "cell-73629ab2dd6046fe",
     "locked": true,
     "schema_version": 3,
     "solution": false,
     "task": false
    }
   },
   "source": [
    "#### PROBLEMA 11\n",
    "    Write a function inverse_quantum_fourier_transform(num_qubits, shots, seed, input_state) that creates and simulates an inverse Quantum Fourier Transform (QFT) circuit. The function should:\n",
    "    - Initialize the qubits with the provided input_state.\n",
    "    - Apply the inverse QFT to the qubits.\n",
    "    - Include the final swap to the algorithm\n",
    "    - Perform the specified number of shots measurements.\n",
    "    - Use the given seed for reproducibility.\n",
    "    \n",
    "    The function should return a list of measurement outcomes from the simulation (counts).\n"
   ]
  },
  {
   "cell_type": "code",
   "execution_count": null,
   "id": "eb1f4e95-cc86-4ea2-99a9-baae67d6dec6",
   "metadata": {
    "deletable": false,
    "editable": false,
    "nbgrader": {
     "cell_type": "code",
     "checksum": "4ee383366ba3605cb3269067a97ece80",
     "grade": false,
     "grade_id": "cell-6244eb8edb92259f",
     "locked": true,
     "schema_version": 3,
     "solution": false,
     "task": false
    }
   },
   "outputs": [],
   "source": [
    "!pip install numpy\n",
    "!pip install qiskit\n",
    "!pip install qiskit_aer"
   ]
  },
  {
   "cell_type": "code",
   "execution_count": 39,
   "id": "095b884e-3215-49c5-8070-e4bfc55076ad",
   "metadata": {
    "deletable": false,
    "nbgrader": {
     "cell_type": "code",
     "checksum": "4ff4556d900f21f82198342f3975db2e",
     "grade": false,
     "grade_id": "cell-2b9bb51b5034b9fa",
     "locked": false,
     "schema_version": 3,
     "solution": true,
     "task": false
    }
   },
   "outputs": [],
   "source": [
    "import numpy as np\n",
    "from qiskit import QuantumCircuit, transpile\n",
    "from qiskit.quantum_info import Statevector\n",
    "from qiskit_aer import AerSimulator\n",
    "from qiskit.circuit.library import Initialize\n",
    "\n",
    "def apply_inverse_qft(circuit, num_qubits):\n",
    "    \n",
    "    \n",
    "    # Reverse the order of the qubits\n",
    "    for i in range(num_qubits // 2):\n",
    "        circuit.swap(i, num_qubits - i - 1)\n",
    "        # back iteration and negative angle for inverse\n",
    "    for qubit in range(num_qubits - 1, -1, -1): \n",
    "        for control_qubit in range(num_qubits - 1, qubit, -1):\n",
    "            angle = -np.pi / (2 ** (control_qubit - qubit))\n",
    "            circuit.cp(angle, control_qubit, qubit)\n",
    "        \n",
    "        circuit.h(qubit)\n",
    "\n",
    "def inverse_quantum_fourier_transform(num_qubits, shots, seed, input_state):\n",
    "    qc =QuantumCircuit(num_qubits)\n",
    "    qc.initialize(Statevector(input_state),range(num_qubits)) \n",
    "    apply_inverse_qft(qc, num_qubits)\n",
    "    qc.measure_all()\n",
    "    \n",
    "    backend = AerSimulator()\n",
    "    \n",
    "    transpiled_qc = transpile(qc, backend)\n",
    "\n",
    "    job = backend.run(transpiled_qc, shots=shots, seed_simulator=seed)\n",
    "\n",
    "    result = job.result()\n",
    "    counts = result.get_counts(transpiled_qc)\n",
    "    return counts\n",
    "    \n"
   ]
  },
  {
   "cell_type": "code",
   "execution_count": 40,
   "id": "1abafc9c-cf7f-4540-8446-f629fac22395",
   "metadata": {
    "deletable": false,
    "editable": false,
    "nbgrader": {
     "cell_type": "code",
     "checksum": "393e3250bd47ea21e9a2c3575feb1158",
     "grade": true,
     "grade_id": "cell-c6900d285d6902dd",
     "locked": true,
     "points": 50,
     "schema_version": 3,
     "solution": false,
     "task": false
    }
   },
   "outputs": [],
   "source": [
    "exp1 = {'1': 479, '0': 521}\n",
    "state1 = [1, 0]\n",
    "out1 = inverse_quantum_fourier_transform(1, 1000, 19, state1)\n",
    "assert exp1 == out1, f\"Test failed\""
   ]
  },
  {
   "cell_type": "code",
   "execution_count": 41,
   "id": "facb7a12-9e2e-445d-893d-d455d8ea3767",
   "metadata": {
    "deletable": false,
    "editable": false,
    "nbgrader": {
     "cell_type": "code",
     "checksum": "062bc1a7f8d9b88c6852873add646535",
     "grade": true,
     "grade_id": "cell-f885e06b282d60ba",
     "locked": true,
     "points": 50,
     "schema_version": 3,
     "solution": false,
     "task": false
    }
   },
   "outputs": [
    {
     "name": "stdout",
     "output_type": "stream",
     "text": [
      "{'01': 255, '10': 227, '00': 266, '11': 252}\n"
     ]
    }
   ],
   "source": [
    "    num_qubits = 2\n",
    "    input_state = [0, 1, 0, 0]\n",
    "    qc =QuantumCircuit(num_qubits)\n",
    "    qc.initialize(Statevector(input_state), range(num_qubits))\n",
    "    apply_inverse_qft(qc, num_qubits)\n",
    "    qc.measure_all()\n",
    "    \n",
    "    backend = AerSimulator(seed_simulator=19)\n",
    "    \n",
    "    transpiled_qc = transpile(qc, backend)\n",
    "\n",
    "    job = backend.run(transpiled_qc, shots=1000)\n",
    "\n",
    "    result = job.result()\n",
    "    counts = result.get_counts(transpiled_qc)\n",
    "    print(counts)\n",
    "   "
   ]
  },
  {
   "cell_type": "code",
   "execution_count": null,
   "id": "61d322f8-7f3e-45e6-b180-d111020dfbf2",
   "metadata": {
    "deletable": false,
    "editable": false,
    "nbgrader": {
     "cell_type": "code",
     "checksum": "2f59100130bb5eeb7de72000e93df647",
     "grade": true,
     "grade_id": "cell-6abea5baf9c8f9db",
     "locked": true,
     "points": 50,
     "schema_version": 3,
     "solution": false,
     "task": false
    }
   },
   "outputs": [
    {
     "name": "stdout",
     "output_type": "stream",
     "text": [
      "{'0': 521, '1': 479}\n"
     ]
    }
   ],
   "source": []
  },
  {
   "cell_type": "code",
   "execution_count": null,
   "id": "b8b85ca8-1226-42c6-b2d9-39021a851e57",
   "metadata": {
    "deletable": false,
    "editable": false,
    "nbgrader": {
     "cell_type": "code",
     "checksum": "700f7c45dee8da39d4053a45720fd401",
     "grade": true,
     "grade_id": "cell-113c4ab36a23201a",
     "locked": true,
     "points": 50,
     "schema_version": 3,
     "solution": false,
     "task": false
    }
   },
   "outputs": [],
   "source": []
  },
  {
   "cell_type": "code",
   "execution_count": null,
   "id": "9ab7bc82-c0f1-4084-b104-979a80c91cf2",
   "metadata": {
    "deletable": false,
    "editable": false,
    "nbgrader": {
     "cell_type": "code",
     "checksum": "08bc57d5f0f9bf77a9f77db6ed3aeaf7",
     "grade": true,
     "grade_id": "cell-8594353ceb042bd3",
     "locked": true,
     "points": 50,
     "schema_version": 3,
     "solution": false,
     "task": false
    }
   },
   "outputs": [],
   "source": []
  }
 ],
 "metadata": {
  "kernelspec": {
   "display_name": "HEnv1",
   "language": "python",
   "name": "python3"
  },
  "language_info": {
   "codemirror_mode": {
    "name": "ipython",
    "version": 3
   },
   "file_extension": ".py",
   "mimetype": "text/x-python",
   "name": "python",
   "nbconvert_exporter": "python",
   "pygments_lexer": "ipython3",
   "version": "3.12.7"
  }
 },
 "nbformat": 4,
 "nbformat_minor": 5
}
