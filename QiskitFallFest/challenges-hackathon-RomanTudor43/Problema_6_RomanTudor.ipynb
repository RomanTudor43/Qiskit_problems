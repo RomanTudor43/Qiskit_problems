{
 "cells": [
  {
   "cell_type": "markdown",
   "id": "cabc27d2-654c-4bd1-b695-61317fa1cb3b",
   "metadata": {
    "deletable": false,
    "editable": false,
    "nbgrader": {
     "cell_type": "markdown",
     "checksum": "c802a38bda57e93acb27c800b97c84c6",
     "grade": false,
     "grade_id": "cell-5bacd6ff6cf3e7c8",
     "locked": true,
     "schema_version": 3,
     "solution": false,
     "task": false
    }
   },
   "source": [
    "Write a function inner_product(state1, state2) that calculates the inner product ⟨state1∣state2⟩ between two quantum states, represented as arrays of complex coefficients. The function should:\n",
    "Verify that both states are normalized; raise an error with the message 'state is not normalized' if either state is not normalized.\n",
    "Ensure that the states have the same dimension; raise an error with the message 'the vectors do not have the same dimension' if they differ.\n",
    "Compute and return the inner product.\n",
    "The input states are provided as row vectors.\n"
   ]
  },
  {
   "cell_type": "code",
   "execution_count": null,
   "id": "03320d0a-ddc8-4671-82c9-ca3d93113cdd",
   "metadata": {
    "deletable": false,
    "editable": false,
    "nbgrader": {
     "cell_type": "code",
     "checksum": "135e171e0ac01b967f2ec1683d205696",
     "grade": false,
     "grade_id": "cell-665f1768bd30292b",
     "locked": true,
     "schema_version": 3,
     "solution": false,
     "task": false
    }
   },
   "outputs": [],
   "source": [
    "!pip install numpy"
   ]
  },
  {
   "cell_type": "code",
   "execution_count": 4,
   "id": "72e8ca7b-2977-412c-8ab8-f195f872a812",
   "metadata": {
    "deletable": false,
    "nbgrader": {
     "cell_type": "code",
     "checksum": "036344542ba41f28477b83822c481fbd",
     "grade": false,
     "grade_id": "cell-af0c142c3534d231",
     "locked": false,
     "schema_version": 3,
     "solution": true,
     "task": false
    }
   },
   "outputs": [],
   "source": [
    "import numpy as np\n",
    "\n",
    "def inner_product(state1, state2):\n",
    "    # Check if both states are normalized\n",
    "    if not np.isclose(np.linalg.norm(state1), 1):\n",
    "        raise ValueError(\"state is not normalized\")\n",
    "    if not np.isclose(np.linalg.norm(state2), 1):\n",
    "        raise ValueError(\"state is not normalized\")\n",
    "    \n",
    "    # Check if both states have the same dimension\n",
    "    if state1.shape != state2.shape:\n",
    "        raise ValueError(\"the vectors do not have the same dimension\")\n",
    "    \n",
    "   \n",
    "    return np.vdot(state1, state2)"
   ]
  },
  {
   "cell_type": "code",
   "execution_count": 5,
   "id": "fd3df8c1-8559-433e-8df3-f0181010a55a",
   "metadata": {
    "deletable": false,
    "editable": false,
    "nbgrader": {
     "cell_type": "code",
     "checksum": "75808ef167c5ec80a990e0a70d80843d",
     "grade": true,
     "grade_id": "cell-43a84ad591c960c4",
     "locked": true,
     "points": 20,
     "schema_version": 3,
     "solution": false,
     "task": false
    }
   },
   "outputs": [
    {
     "name": "stdout",
     "output_type": "stream",
     "text": [
      "0.0\n"
     ]
    }
   ],
   "source": [
    "out_exp = 0.0\n",
    "state1_1 = (1/np.sqrt(2))*np.array([1, 1])\n",
    "state1_2 = (1/np.sqrt(2))*np.array([1, -1])\n",
    "out = inner_product(state1_1, state1_2)\n",
    "print(out)\n",
    "assert np.isclose(out, out_exp), f\"Test failed\""
   ]
  },
  {
   "cell_type": "code",
   "execution_count": null,
   "id": "8da5a87c-6517-4e47-9921-a4fb66a2cd9a",
   "metadata": {
    "deletable": false,
    "editable": false,
    "nbgrader": {
     "cell_type": "code",
     "checksum": "f9b2820f4c4f14d88667c9c8b66932ed",
     "grade": true,
     "grade_id": "cell-43129e5b754f9206",
     "locked": true,
     "points": 20,
     "schema_version": 3,
     "solution": false,
     "task": false
    }
   },
   "outputs": [],
   "source": [
    "\n"
   ]
  },
  {
   "cell_type": "code",
   "execution_count": null,
   "id": "54b5b506-c0cf-4794-92e8-9b2713e9cc4e",
   "metadata": {
    "deletable": false,
    "editable": false,
    "nbgrader": {
     "cell_type": "code",
     "checksum": "71564559bc6db6d5a55d774fdb37faaa",
     "grade": true,
     "grade_id": "cell-4eeef74f76304669",
     "locked": true,
     "points": 20,
     "schema_version": 3,
     "solution": false,
     "task": false
    }
   },
   "outputs": [],
   "source": []
  },
  {
   "cell_type": "code",
   "execution_count": null,
   "id": "9655e1fa-eb18-4d04-9123-5a9ed40d5593",
   "metadata": {
    "deletable": false,
    "editable": false,
    "nbgrader": {
     "cell_type": "code",
     "checksum": "dc0f29ca048966ea19350b1a0bb9a839",
     "grade": true,
     "grade_id": "cell-c0561cbc65106beb",
     "locked": true,
     "points": 20,
     "schema_version": 3,
     "solution": false,
     "task": false
    }
   },
   "outputs": [],
   "source": []
  },
  {
   "cell_type": "code",
   "execution_count": null,
   "id": "5cdeff9e-8964-4d87-8eed-9edeececdb7e",
   "metadata": {
    "deletable": false,
    "editable": false,
    "nbgrader": {
     "cell_type": "code",
     "checksum": "c15c151346cdd961d3c15edc6ddb04cc",
     "grade": true,
     "grade_id": "cell-5f2dc1d6e2e35ee6",
     "locked": true,
     "points": 20,
     "schema_version": 3,
     "solution": false,
     "task": false
    }
   },
   "outputs": [],
   "source": []
  }
 ],
 "metadata": {
  "kernelspec": {
   "display_name": "HEnv1",
   "language": "python",
   "name": "python3"
  },
  "language_info": {
   "codemirror_mode": {
    "name": "ipython",
    "version": 3
   },
   "file_extension": ".py",
   "mimetype": "text/x-python",
   "name": "python",
   "nbconvert_exporter": "python",
   "pygments_lexer": "ipython3",
   "version": "3.12.7"
  }
 },
 "nbformat": 4,
 "nbformat_minor": 5
}
